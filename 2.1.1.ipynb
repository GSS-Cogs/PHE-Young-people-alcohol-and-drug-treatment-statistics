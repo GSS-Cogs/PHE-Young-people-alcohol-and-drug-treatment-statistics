{
 "cells": [
  {
   "cell_type": "markdown",
   "metadata": {},
   "source": [
    "Table 2.1.1: Age and Gender of all young people in treatment 2016-17"
   ]
  },
  {
   "cell_type": "code",
   "execution_count": 1,
   "metadata": {
    "collapsed": true
   },
   "outputs": [],
   "source": [
    "from gssutils import *\n",
    "\n",
    "if is_interactive():\n",
    "    import requests\n",
    "    from cachecontrol import CacheControl\n",
    "    from cachecontrol.caches.file_cache import FileCache\n",
    "    from cachecontrol.heuristics import LastModified\n",
    "    from pathlib import Path\n",
    "\n",
    "    session = CacheControl(requests.Session(),\n",
    "                           cache=FileCache('.cache'),\n",
    "                           heuristic=LastModified())\n",
    "\n",
    "    sourceFolder = Path('in')\n",
    "    sourceFolder.mkdir(exist_ok=True)\n",
    "\n",
    "    inputURL = 'https://www.gov.uk/government/uploads/system/uploads/attachment_data/file/664944/'\\\n",
    "                    'Young-people-statistics-data-tables-from-the-national-drug-treatment-monitoring-system-2016-2017.xls'\n",
    "    inputFile = sourceFolder / 'Young-people-statistics-data-tables-from-the-national-drug-treatment-monitoring-system-2016-2017.xls'\n",
    "    response = session.get(inputURL)\n",
    "    with open(inputFile, 'wb') as f:\n",
    "      f.write(response.content)    "
   ]
  },
  {
   "cell_type": "code",
   "execution_count": 2,
   "metadata": {},
   "outputs": [
    {
     "name": "stdout",
     "output_type": "stream",
     "text": [
      "Loading in\\Young-people-statistics-data-tables-from-the-national-drug-treatment-monitoring-system-2016-2017.xls which has size 281600 bytes\n",
      "Table names: ['2.1.1 Age and Gender']\n"
     ]
    }
   ],
   "source": [
    "tab = loadxlstabs(inputFile, sheetids='2.1.1 Age and Gender')[0]"
   ]
  },
  {
   "cell_type": "code",
   "execution_count": 3,
   "metadata": {},
   "outputs": [
    {
     "data": {
      "text/plain": [
       "{<D10 2794.0>, <C9 0.27>, <D6 179.0>, <F12 16436.0>, <C8 0.19>, <E11 0.26>, <C7 0.07>, <B6 105.0>, <B10 1315.0>, <C12 1.0>, <E10 0.26>, <B9 1555.0>, <B7 396.0>, <E9 0.26>, <G5 0.0>, <C10 0.23>, <F6 284.0>, <B8 1061.0>, <B12 5669.0>, <F11 4029.0>, <D9 2791.0>, <B5 12.0>, <G7 0.06>, <D8 1549.0>, <D7 594.0>, <E6 0.02>, <E12 1.0>, <C6 0.02>, <G10 0.25>, <D12 10767.0>, <D5 56.0>, <G9 0.26>, <F5 68.0>, <F9 4346.0>, <E8 0.14>, <C11 0.22>, <F10 4109.0>, <E5 0.01>, <F8 2610.0>, <G11 0.25>, <E7 0.06>, <D11 2804.0>, <G6 0.02>, <G12 1.0>, <G8 0.16>, <B11 1225.0>, <C5 0.0>, <F7 990.0>}"
      ]
     },
     "execution_count": 3,
     "metadata": {},
     "output_type": "execute_result"
    }
   ],
   "source": [
    "observations = tab.excel_ref('B5').expand(DOWN).expand(RIGHT).is_not_blank()\n",
    "observations"
   ]
  },
  {
   "cell_type": "code",
   "execution_count": 4,
   "metadata": {},
   "outputs": [
    {
     "data": {
      "text/plain": [
       "{<A10 '16-17'>, <A7 '13-14'>, <A12 'Total clients'>, <A6 '12-13'>, <A11 '17-18'>, <A9 '15-16'>, <A8 '14-15'>, <A5 'Under 12'>}"
      ]
     },
     "execution_count": 4,
     "metadata": {},
     "output_type": "execute_result"
    }
   ],
   "source": [
    "age = tab.excel_ref('A5').expand(DOWN).is_not_blank()\n",
    "age"
   ]
  },
  {
   "cell_type": "code",
   "execution_count": 5,
   "metadata": {},
   "outputs": [
    {
     "data": {
      "text/plain": [
       "{<D3 'Male'>, <B3 'Female'>, <F3 'Persons'>}"
      ]
     },
     "execution_count": 5,
     "metadata": {},
     "output_type": "execute_result"
    }
   ],
   "source": [
    "sex = tab.excel_ref('B3').expand(RIGHT).is_not_blank() \n",
    "sex"
   ]
  },
  {
   "cell_type": "code",
   "execution_count": 6,
   "metadata": {},
   "outputs": [
    {
     "data": {
      "text/plain": [
       "{<F4 'n'>, <C4 '%'>, <D4 'n'>, <G4 '%'>, <B4 'n'>, <E4 '%'>}"
      ]
     },
     "execution_count": 6,
     "metadata": {},
     "output_type": "execute_result"
    }
   ],
   "source": [
    "measuretype = tab.excel_ref('B4').expand(RIGHT).is_not_blank() \n",
    "measuretype"
   ]
  },
  {
   "cell_type": "code",
   "execution_count": 7,
   "metadata": {},
   "outputs": [],
   "source": [
    "Dimensions = [\n",
    "            HDim(age,'Basis of treatment',DIRECTLY,LEFT),\n",
    "            HDim(sex,'Clients in treatment',CLOSEST,LEFT),\n",
    "            HDim(measuretype,'Measure Type',DIRECTLY,ABOVE),\n",
    "            HDimConst('Unit','People')            \n",
    "            ]"
   ]
  },
  {
   "cell_type": "code",
   "execution_count": 8,
   "metadata": {},
   "outputs": [],
   "source": [
    "c1 = ConversionSegment(observations, Dimensions, processTIMEUNIT=True)\n",
    "# if is_interactive():\n",
    "#     savepreviewhtml(c1)"
   ]
  },
  {
   "cell_type": "code",
   "execution_count": 9,
   "metadata": {},
   "outputs": [
    {
     "name": "stdout",
     "output_type": "stream",
     "text": [
      "\n"
     ]
    },
    {
     "data": {
      "text/html": [
       "<div>\n",
       "<style scoped>\n",
       "    .dataframe tbody tr th:only-of-type {\n",
       "        vertical-align: middle;\n",
       "    }\n",
       "\n",
       "    .dataframe tbody tr th {\n",
       "        vertical-align: top;\n",
       "    }\n",
       "\n",
       "    .dataframe thead th {\n",
       "        text-align: right;\n",
       "    }\n",
       "</style>\n",
       "<table border=\"1\" class=\"dataframe\">\n",
       "  <thead>\n",
       "    <tr style=\"text-align: right;\">\n",
       "      <th></th>\n",
       "      <th>OBS</th>\n",
       "      <th>Basis of treatment</th>\n",
       "      <th>Clients in treatment</th>\n",
       "      <th>Measure Type</th>\n",
       "      <th>Unit</th>\n",
       "    </tr>\n",
       "  </thead>\n",
       "  <tbody>\n",
       "    <tr>\n",
       "      <th>0</th>\n",
       "      <td>12.00</td>\n",
       "      <td>Under 12</td>\n",
       "      <td>Female</td>\n",
       "      <td>n</td>\n",
       "      <td>People</td>\n",
       "    </tr>\n",
       "    <tr>\n",
       "      <th>1</th>\n",
       "      <td>0.00</td>\n",
       "      <td>Under 12</td>\n",
       "      <td>Female</td>\n",
       "      <td>%</td>\n",
       "      <td>People</td>\n",
       "    </tr>\n",
       "    <tr>\n",
       "      <th>2</th>\n",
       "      <td>56.00</td>\n",
       "      <td>Under 12</td>\n",
       "      <td>Male</td>\n",
       "      <td>n</td>\n",
       "      <td>People</td>\n",
       "    </tr>\n",
       "    <tr>\n",
       "      <th>3</th>\n",
       "      <td>0.01</td>\n",
       "      <td>Under 12</td>\n",
       "      <td>Male</td>\n",
       "      <td>%</td>\n",
       "      <td>People</td>\n",
       "    </tr>\n",
       "    <tr>\n",
       "      <th>4</th>\n",
       "      <td>68.00</td>\n",
       "      <td>Under 12</td>\n",
       "      <td>Persons</td>\n",
       "      <td>n</td>\n",
       "      <td>People</td>\n",
       "    </tr>\n",
       "    <tr>\n",
       "      <th>5</th>\n",
       "      <td>0.00</td>\n",
       "      <td>Under 12</td>\n",
       "      <td>Persons</td>\n",
       "      <td>%</td>\n",
       "      <td>People</td>\n",
       "    </tr>\n",
       "    <tr>\n",
       "      <th>6</th>\n",
       "      <td>105.00</td>\n",
       "      <td>12-13</td>\n",
       "      <td>Female</td>\n",
       "      <td>n</td>\n",
       "      <td>People</td>\n",
       "    </tr>\n",
       "    <tr>\n",
       "      <th>7</th>\n",
       "      <td>0.02</td>\n",
       "      <td>12-13</td>\n",
       "      <td>Female</td>\n",
       "      <td>%</td>\n",
       "      <td>People</td>\n",
       "    </tr>\n",
       "    <tr>\n",
       "      <th>8</th>\n",
       "      <td>179.00</td>\n",
       "      <td>12-13</td>\n",
       "      <td>Male</td>\n",
       "      <td>n</td>\n",
       "      <td>People</td>\n",
       "    </tr>\n",
       "    <tr>\n",
       "      <th>9</th>\n",
       "      <td>0.02</td>\n",
       "      <td>12-13</td>\n",
       "      <td>Male</td>\n",
       "      <td>%</td>\n",
       "      <td>People</td>\n",
       "    </tr>\n",
       "    <tr>\n",
       "      <th>10</th>\n",
       "      <td>284.00</td>\n",
       "      <td>12-13</td>\n",
       "      <td>Persons</td>\n",
       "      <td>n</td>\n",
       "      <td>People</td>\n",
       "    </tr>\n",
       "    <tr>\n",
       "      <th>11</th>\n",
       "      <td>0.02</td>\n",
       "      <td>12-13</td>\n",
       "      <td>Persons</td>\n",
       "      <td>%</td>\n",
       "      <td>People</td>\n",
       "    </tr>\n",
       "    <tr>\n",
       "      <th>12</th>\n",
       "      <td>396.00</td>\n",
       "      <td>13-14</td>\n",
       "      <td>Female</td>\n",
       "      <td>n</td>\n",
       "      <td>People</td>\n",
       "    </tr>\n",
       "    <tr>\n",
       "      <th>13</th>\n",
       "      <td>0.07</td>\n",
       "      <td>13-14</td>\n",
       "      <td>Female</td>\n",
       "      <td>%</td>\n",
       "      <td>People</td>\n",
       "    </tr>\n",
       "    <tr>\n",
       "      <th>14</th>\n",
       "      <td>594.00</td>\n",
       "      <td>13-14</td>\n",
       "      <td>Male</td>\n",
       "      <td>n</td>\n",
       "      <td>People</td>\n",
       "    </tr>\n",
       "    <tr>\n",
       "      <th>15</th>\n",
       "      <td>0.06</td>\n",
       "      <td>13-14</td>\n",
       "      <td>Male</td>\n",
       "      <td>%</td>\n",
       "      <td>People</td>\n",
       "    </tr>\n",
       "    <tr>\n",
       "      <th>16</th>\n",
       "      <td>990.00</td>\n",
       "      <td>13-14</td>\n",
       "      <td>Persons</td>\n",
       "      <td>n</td>\n",
       "      <td>People</td>\n",
       "    </tr>\n",
       "    <tr>\n",
       "      <th>17</th>\n",
       "      <td>0.06</td>\n",
       "      <td>13-14</td>\n",
       "      <td>Persons</td>\n",
       "      <td>%</td>\n",
       "      <td>People</td>\n",
       "    </tr>\n",
       "    <tr>\n",
       "      <th>18</th>\n",
       "      <td>1061.00</td>\n",
       "      <td>14-15</td>\n",
       "      <td>Female</td>\n",
       "      <td>n</td>\n",
       "      <td>People</td>\n",
       "    </tr>\n",
       "    <tr>\n",
       "      <th>19</th>\n",
       "      <td>0.19</td>\n",
       "      <td>14-15</td>\n",
       "      <td>Female</td>\n",
       "      <td>%</td>\n",
       "      <td>People</td>\n",
       "    </tr>\n",
       "    <tr>\n",
       "      <th>20</th>\n",
       "      <td>1549.00</td>\n",
       "      <td>14-15</td>\n",
       "      <td>Male</td>\n",
       "      <td>n</td>\n",
       "      <td>People</td>\n",
       "    </tr>\n",
       "    <tr>\n",
       "      <th>21</th>\n",
       "      <td>0.14</td>\n",
       "      <td>14-15</td>\n",
       "      <td>Male</td>\n",
       "      <td>%</td>\n",
       "      <td>People</td>\n",
       "    </tr>\n",
       "    <tr>\n",
       "      <th>22</th>\n",
       "      <td>2610.00</td>\n",
       "      <td>14-15</td>\n",
       "      <td>Persons</td>\n",
       "      <td>n</td>\n",
       "      <td>People</td>\n",
       "    </tr>\n",
       "    <tr>\n",
       "      <th>23</th>\n",
       "      <td>0.16</td>\n",
       "      <td>14-15</td>\n",
       "      <td>Persons</td>\n",
       "      <td>%</td>\n",
       "      <td>People</td>\n",
       "    </tr>\n",
       "    <tr>\n",
       "      <th>24</th>\n",
       "      <td>1555.00</td>\n",
       "      <td>15-16</td>\n",
       "      <td>Female</td>\n",
       "      <td>n</td>\n",
       "      <td>People</td>\n",
       "    </tr>\n",
       "    <tr>\n",
       "      <th>25</th>\n",
       "      <td>0.27</td>\n",
       "      <td>15-16</td>\n",
       "      <td>Female</td>\n",
       "      <td>%</td>\n",
       "      <td>People</td>\n",
       "    </tr>\n",
       "    <tr>\n",
       "      <th>26</th>\n",
       "      <td>2791.00</td>\n",
       "      <td>15-16</td>\n",
       "      <td>Male</td>\n",
       "      <td>n</td>\n",
       "      <td>People</td>\n",
       "    </tr>\n",
       "    <tr>\n",
       "      <th>27</th>\n",
       "      <td>0.26</td>\n",
       "      <td>15-16</td>\n",
       "      <td>Male</td>\n",
       "      <td>%</td>\n",
       "      <td>People</td>\n",
       "    </tr>\n",
       "    <tr>\n",
       "      <th>28</th>\n",
       "      <td>4346.00</td>\n",
       "      <td>15-16</td>\n",
       "      <td>Persons</td>\n",
       "      <td>n</td>\n",
       "      <td>People</td>\n",
       "    </tr>\n",
       "    <tr>\n",
       "      <th>29</th>\n",
       "      <td>0.26</td>\n",
       "      <td>15-16</td>\n",
       "      <td>Persons</td>\n",
       "      <td>%</td>\n",
       "      <td>People</td>\n",
       "    </tr>\n",
       "    <tr>\n",
       "      <th>30</th>\n",
       "      <td>1315.00</td>\n",
       "      <td>16-17</td>\n",
       "      <td>Female</td>\n",
       "      <td>n</td>\n",
       "      <td>People</td>\n",
       "    </tr>\n",
       "    <tr>\n",
       "      <th>31</th>\n",
       "      <td>0.23</td>\n",
       "      <td>16-17</td>\n",
       "      <td>Female</td>\n",
       "      <td>%</td>\n",
       "      <td>People</td>\n",
       "    </tr>\n",
       "    <tr>\n",
       "      <th>32</th>\n",
       "      <td>2794.00</td>\n",
       "      <td>16-17</td>\n",
       "      <td>Male</td>\n",
       "      <td>n</td>\n",
       "      <td>People</td>\n",
       "    </tr>\n",
       "    <tr>\n",
       "      <th>33</th>\n",
       "      <td>0.26</td>\n",
       "      <td>16-17</td>\n",
       "      <td>Male</td>\n",
       "      <td>%</td>\n",
       "      <td>People</td>\n",
       "    </tr>\n",
       "    <tr>\n",
       "      <th>34</th>\n",
       "      <td>4109.00</td>\n",
       "      <td>16-17</td>\n",
       "      <td>Persons</td>\n",
       "      <td>n</td>\n",
       "      <td>People</td>\n",
       "    </tr>\n",
       "    <tr>\n",
       "      <th>35</th>\n",
       "      <td>0.25</td>\n",
       "      <td>16-17</td>\n",
       "      <td>Persons</td>\n",
       "      <td>%</td>\n",
       "      <td>People</td>\n",
       "    </tr>\n",
       "    <tr>\n",
       "      <th>36</th>\n",
       "      <td>1225.00</td>\n",
       "      <td>17-18</td>\n",
       "      <td>Female</td>\n",
       "      <td>n</td>\n",
       "      <td>People</td>\n",
       "    </tr>\n",
       "    <tr>\n",
       "      <th>37</th>\n",
       "      <td>0.22</td>\n",
       "      <td>17-18</td>\n",
       "      <td>Female</td>\n",
       "      <td>%</td>\n",
       "      <td>People</td>\n",
       "    </tr>\n",
       "    <tr>\n",
       "      <th>38</th>\n",
       "      <td>2804.00</td>\n",
       "      <td>17-18</td>\n",
       "      <td>Male</td>\n",
       "      <td>n</td>\n",
       "      <td>People</td>\n",
       "    </tr>\n",
       "    <tr>\n",
       "      <th>39</th>\n",
       "      <td>0.26</td>\n",
       "      <td>17-18</td>\n",
       "      <td>Male</td>\n",
       "      <td>%</td>\n",
       "      <td>People</td>\n",
       "    </tr>\n",
       "    <tr>\n",
       "      <th>40</th>\n",
       "      <td>4029.00</td>\n",
       "      <td>17-18</td>\n",
       "      <td>Persons</td>\n",
       "      <td>n</td>\n",
       "      <td>People</td>\n",
       "    </tr>\n",
       "    <tr>\n",
       "      <th>41</th>\n",
       "      <td>0.25</td>\n",
       "      <td>17-18</td>\n",
       "      <td>Persons</td>\n",
       "      <td>%</td>\n",
       "      <td>People</td>\n",
       "    </tr>\n",
       "    <tr>\n",
       "      <th>42</th>\n",
       "      <td>5669.00</td>\n",
       "      <td>Total clients</td>\n",
       "      <td>Female</td>\n",
       "      <td>n</td>\n",
       "      <td>People</td>\n",
       "    </tr>\n",
       "    <tr>\n",
       "      <th>43</th>\n",
       "      <td>1.00</td>\n",
       "      <td>Total clients</td>\n",
       "      <td>Female</td>\n",
       "      <td>%</td>\n",
       "      <td>People</td>\n",
       "    </tr>\n",
       "    <tr>\n",
       "      <th>44</th>\n",
       "      <td>10767.00</td>\n",
       "      <td>Total clients</td>\n",
       "      <td>Male</td>\n",
       "      <td>n</td>\n",
       "      <td>People</td>\n",
       "    </tr>\n",
       "    <tr>\n",
       "      <th>45</th>\n",
       "      <td>1.00</td>\n",
       "      <td>Total clients</td>\n",
       "      <td>Male</td>\n",
       "      <td>%</td>\n",
       "      <td>People</td>\n",
       "    </tr>\n",
       "    <tr>\n",
       "      <th>46</th>\n",
       "      <td>16436.00</td>\n",
       "      <td>Total clients</td>\n",
       "      <td>Persons</td>\n",
       "      <td>n</td>\n",
       "      <td>People</td>\n",
       "    </tr>\n",
       "    <tr>\n",
       "      <th>47</th>\n",
       "      <td>1.00</td>\n",
       "      <td>Total clients</td>\n",
       "      <td>Persons</td>\n",
       "      <td>%</td>\n",
       "      <td>People</td>\n",
       "    </tr>\n",
       "  </tbody>\n",
       "</table>\n",
       "</div>"
      ],
      "text/plain": [
       "         OBS Basis of treatment Clients in treatment Measure Type    Unit\n",
       "0      12.00           Under 12               Female            n  People\n",
       "1       0.00           Under 12               Female            %  People\n",
       "2      56.00           Under 12                 Male            n  People\n",
       "3       0.01           Under 12                 Male            %  People\n",
       "4      68.00           Under 12              Persons            n  People\n",
       "5       0.00           Under 12              Persons            %  People\n",
       "6     105.00              12-13               Female            n  People\n",
       "7       0.02              12-13               Female            %  People\n",
       "8     179.00              12-13                 Male            n  People\n",
       "9       0.02              12-13                 Male            %  People\n",
       "10    284.00              12-13              Persons            n  People\n",
       "11      0.02              12-13              Persons            %  People\n",
       "12    396.00              13-14               Female            n  People\n",
       "13      0.07              13-14               Female            %  People\n",
       "14    594.00              13-14                 Male            n  People\n",
       "15      0.06              13-14                 Male            %  People\n",
       "16    990.00              13-14              Persons            n  People\n",
       "17      0.06              13-14              Persons            %  People\n",
       "18   1061.00              14-15               Female            n  People\n",
       "19      0.19              14-15               Female            %  People\n",
       "20   1549.00              14-15                 Male            n  People\n",
       "21      0.14              14-15                 Male            %  People\n",
       "22   2610.00              14-15              Persons            n  People\n",
       "23      0.16              14-15              Persons            %  People\n",
       "24   1555.00              15-16               Female            n  People\n",
       "25      0.27              15-16               Female            %  People\n",
       "26   2791.00              15-16                 Male            n  People\n",
       "27      0.26              15-16                 Male            %  People\n",
       "28   4346.00              15-16              Persons            n  People\n",
       "29      0.26              15-16              Persons            %  People\n",
       "30   1315.00              16-17               Female            n  People\n",
       "31      0.23              16-17               Female            %  People\n",
       "32   2794.00              16-17                 Male            n  People\n",
       "33      0.26              16-17                 Male            %  People\n",
       "34   4109.00              16-17              Persons            n  People\n",
       "35      0.25              16-17              Persons            %  People\n",
       "36   1225.00              17-18               Female            n  People\n",
       "37      0.22              17-18               Female            %  People\n",
       "38   2804.00              17-18                 Male            n  People\n",
       "39      0.26              17-18                 Male            %  People\n",
       "40   4029.00              17-18              Persons            n  People\n",
       "41      0.25              17-18              Persons            %  People\n",
       "42   5669.00      Total clients               Female            n  People\n",
       "43      1.00      Total clients               Female            %  People\n",
       "44  10767.00      Total clients                 Male            n  People\n",
       "45      1.00      Total clients                 Male            %  People\n",
       "46  16436.00      Total clients              Persons            n  People\n",
       "47      1.00      Total clients              Persons            %  People"
      ]
     },
     "execution_count": 9,
     "metadata": {},
     "output_type": "execute_result"
    }
   ],
   "source": [
    "new_table = c1.topandas()\n",
    "new_table"
   ]
  },
  {
   "cell_type": "code",
   "execution_count": 10,
   "metadata": {
    "collapsed": true
   },
   "outputs": [],
   "source": [
    "new_table = new_table[new_table['OBS'] != 0 ]"
   ]
  },
  {
   "cell_type": "code",
   "execution_count": 11,
   "metadata": {
    "collapsed": true
   },
   "outputs": [],
   "source": [
    "new_table.columns = ['Value' if x=='OBS' else x for x in new_table.columns]"
   ]
  },
  {
   "cell_type": "code",
   "execution_count": 12,
   "metadata": {},
   "outputs": [
    {
     "name": "stderr",
     "output_type": "stream",
     "text": [
      "C:\\ProgramData\\Anaconda3\\lib\\site-packages\\ipykernel_launcher.py:1: SettingWithCopyWarning: \n",
      "A value is trying to be set on a copy of a slice from a DataFrame.\n",
      "Try using .loc[row_indexer,col_indexer] = value instead\n",
      "\n",
      "See the caveats in the documentation: http://pandas.pydata.org/pandas-docs/stable/indexing.html#indexing-view-versus-copy\n",
      "  \"\"\"Entry point for launching an IPython kernel.\n"
     ]
    }
   ],
   "source": [
    "new_table['Basis of treatment'] = 'Ag/' + new_table['Basis of treatment']"
   ]
  },
  {
   "cell_type": "code",
   "execution_count": 13,
   "metadata": {},
   "outputs": [
    {
     "data": {
      "text/html": [
       "<div>\n",
       "<style scoped>\n",
       "    .dataframe tbody tr th:only-of-type {\n",
       "        vertical-align: middle;\n",
       "    }\n",
       "\n",
       "    .dataframe tbody tr th {\n",
       "        vertical-align: top;\n",
       "    }\n",
       "\n",
       "    .dataframe thead th {\n",
       "        text-align: right;\n",
       "    }\n",
       "</style>\n",
       "<table border=\"1\" class=\"dataframe\">\n",
       "  <thead>\n",
       "    <tr style=\"text-align: right;\">\n",
       "      <th></th>\n",
       "      <th>Value</th>\n",
       "      <th>Basis of treatment</th>\n",
       "      <th>Clients in treatment</th>\n",
       "      <th>Measure Type</th>\n",
       "      <th>Unit</th>\n",
       "    </tr>\n",
       "  </thead>\n",
       "  <tbody>\n",
       "    <tr>\n",
       "      <th>0</th>\n",
       "      <td>12.00</td>\n",
       "      <td>Ag/Under 12</td>\n",
       "      <td>Female</td>\n",
       "      <td>n</td>\n",
       "      <td>People</td>\n",
       "    </tr>\n",
       "    <tr>\n",
       "      <th>2</th>\n",
       "      <td>56.00</td>\n",
       "      <td>Ag/Under 12</td>\n",
       "      <td>Male</td>\n",
       "      <td>n</td>\n",
       "      <td>People</td>\n",
       "    </tr>\n",
       "    <tr>\n",
       "      <th>3</th>\n",
       "      <td>0.01</td>\n",
       "      <td>Ag/Under 12</td>\n",
       "      <td>Male</td>\n",
       "      <td>%</td>\n",
       "      <td>People</td>\n",
       "    </tr>\n",
       "    <tr>\n",
       "      <th>4</th>\n",
       "      <td>68.00</td>\n",
       "      <td>Ag/Under 12</td>\n",
       "      <td>Persons</td>\n",
       "      <td>n</td>\n",
       "      <td>People</td>\n",
       "    </tr>\n",
       "    <tr>\n",
       "      <th>6</th>\n",
       "      <td>105.00</td>\n",
       "      <td>Ag/12-13</td>\n",
       "      <td>Female</td>\n",
       "      <td>n</td>\n",
       "      <td>People</td>\n",
       "    </tr>\n",
       "  </tbody>\n",
       "</table>\n",
       "</div>"
      ],
      "text/plain": [
       "    Value Basis of treatment Clients in treatment Measure Type    Unit\n",
       "0   12.00        Ag/Under 12               Female            n  People\n",
       "2   56.00        Ag/Under 12                 Male            n  People\n",
       "3    0.01        Ag/Under 12                 Male            %  People\n",
       "4   68.00        Ag/Under 12              Persons            n  People\n",
       "6  105.00           Ag/12-13               Female            n  People"
      ]
     },
     "execution_count": 13,
     "metadata": {},
     "output_type": "execute_result"
    }
   ],
   "source": [
    "new_table.head()"
   ]
  },
  {
   "cell_type": "code",
   "execution_count": 14,
   "metadata": {},
   "outputs": [
    {
     "data": {
      "text/plain": [
       "array(['Ag/Under 12', 'Ag/12-13', 'Ag/13-14', 'Ag/14-15', 'Ag/15-16',\n",
       "       'Ag/16-17', 'Ag/17-18', 'Ag/Total clients'], dtype=object)"
      ]
     },
     "execution_count": 14,
     "metadata": {},
     "output_type": "execute_result"
    }
   ],
   "source": [
    "new_table['Basis of treatment'].unique()"
   ]
  },
  {
   "cell_type": "code",
   "execution_count": 15,
   "metadata": {},
   "outputs": [
    {
     "name": "stderr",
     "output_type": "stream",
     "text": [
      "C:\\ProgramData\\Anaconda3\\lib\\site-packages\\ipykernel_launcher.py:2: SettingWithCopyWarning: \n",
      "A value is trying to be set on a copy of a slice from a DataFrame.\n",
      "Try using .loc[row_indexer,col_indexer] = value instead\n",
      "\n",
      "See the caveats in the documentation: http://pandas.pydata.org/pandas-docs/stable/indexing.html#indexing-view-versus-copy\n",
      "  \n"
     ]
    }
   ],
   "source": [
    "new_table['Basis of treatment'] = new_table['Basis of treatment'].map(\n",
    "    lambda x: {\n",
    "        'Ag/Total clients' : 'Ag/All years' \n",
    "        }.get(x, x))"
   ]
  },
  {
   "cell_type": "code",
   "execution_count": 16,
   "metadata": {},
   "outputs": [
    {
     "name": "stderr",
     "output_type": "stream",
     "text": [
      "C:\\ProgramData\\Anaconda3\\lib\\site-packages\\ipykernel_launcher.py:2: SettingWithCopyWarning: \n",
      "A value is trying to be set on a copy of a slice from a DataFrame.\n",
      "Try using .loc[row_indexer,col_indexer] = value instead\n",
      "\n",
      "See the caveats in the documentation: http://pandas.pydata.org/pandas-docs/stable/indexing.html#indexing-view-versus-copy\n",
      "  \n"
     ]
    }
   ],
   "source": [
    "new_table['Clients in treatment'] = new_table['Clients in treatment'].map(\n",
    "    lambda x: {\n",
    "        'Female' : 'F', \n",
    "        'Male' : 'M',\n",
    "        'Persons' : 'T'\n",
    "        }.get(x, x))"
   ]
  },
  {
   "cell_type": "code",
   "execution_count": 17,
   "metadata": {},
   "outputs": [
    {
     "data": {
      "text/html": [
       "<div>\n",
       "<style scoped>\n",
       "    .dataframe tbody tr th:only-of-type {\n",
       "        vertical-align: middle;\n",
       "    }\n",
       "\n",
       "    .dataframe tbody tr th {\n",
       "        vertical-align: top;\n",
       "    }\n",
       "\n",
       "    .dataframe thead th {\n",
       "        text-align: right;\n",
       "    }\n",
       "</style>\n",
       "<table border=\"1\" class=\"dataframe\">\n",
       "  <thead>\n",
       "    <tr style=\"text-align: right;\">\n",
       "      <th></th>\n",
       "      <th>Value</th>\n",
       "      <th>Basis of treatment</th>\n",
       "      <th>Clients in treatment</th>\n",
       "      <th>Measure Type</th>\n",
       "      <th>Unit</th>\n",
       "    </tr>\n",
       "  </thead>\n",
       "  <tbody>\n",
       "    <tr>\n",
       "      <th>0</th>\n",
       "      <td>12.00</td>\n",
       "      <td>Ag/Under 12</td>\n",
       "      <td>F</td>\n",
       "      <td>n</td>\n",
       "      <td>People</td>\n",
       "    </tr>\n",
       "    <tr>\n",
       "      <th>2</th>\n",
       "      <td>56.00</td>\n",
       "      <td>Ag/Under 12</td>\n",
       "      <td>M</td>\n",
       "      <td>n</td>\n",
       "      <td>People</td>\n",
       "    </tr>\n",
       "    <tr>\n",
       "      <th>3</th>\n",
       "      <td>0.01</td>\n",
       "      <td>Ag/Under 12</td>\n",
       "      <td>M</td>\n",
       "      <td>%</td>\n",
       "      <td>People</td>\n",
       "    </tr>\n",
       "    <tr>\n",
       "      <th>4</th>\n",
       "      <td>68.00</td>\n",
       "      <td>Ag/Under 12</td>\n",
       "      <td>T</td>\n",
       "      <td>n</td>\n",
       "      <td>People</td>\n",
       "    </tr>\n",
       "    <tr>\n",
       "      <th>6</th>\n",
       "      <td>105.00</td>\n",
       "      <td>Ag/12-13</td>\n",
       "      <td>F</td>\n",
       "      <td>n</td>\n",
       "      <td>People</td>\n",
       "    </tr>\n",
       "  </tbody>\n",
       "</table>\n",
       "</div>"
      ],
      "text/plain": [
       "    Value Basis of treatment Clients in treatment Measure Type    Unit\n",
       "0   12.00        Ag/Under 12                    F            n  People\n",
       "2   56.00        Ag/Under 12                    M            n  People\n",
       "3    0.01        Ag/Under 12                    M            %  People\n",
       "4   68.00        Ag/Under 12                    T            n  People\n",
       "6  105.00           Ag/12-13                    F            n  People"
      ]
     },
     "execution_count": 17,
     "metadata": {},
     "output_type": "execute_result"
    }
   ],
   "source": [
    "new_table.head()"
   ]
  },
  {
   "cell_type": "code",
   "execution_count": 18,
   "metadata": {},
   "outputs": [
    {
     "name": "stderr",
     "output_type": "stream",
     "text": [
      "C:\\ProgramData\\Anaconda3\\lib\\site-packages\\ipykernel_launcher.py:2: SettingWithCopyWarning: \n",
      "A value is trying to be set on a copy of a slice from a DataFrame.\n",
      "Try using .loc[row_indexer,col_indexer] = value instead\n",
      "\n",
      "See the caveats in the documentation: http://pandas.pydata.org/pandas-docs/stable/indexing.html#indexing-view-versus-copy\n",
      "  \n"
     ]
    }
   ],
   "source": [
    "new_table['Measure Type'] = new_table['Measure Type'].map(\n",
    "    lambda x: {\n",
    "        'n' : 'Count', \n",
    "        '%' : 'Percentage',\n",
    "        }.get(x, x))"
   ]
  },
  {
   "cell_type": "code",
   "execution_count": 19,
   "metadata": {},
   "outputs": [
    {
     "data": {
      "text/html": [
       "<div>\n",
       "<style scoped>\n",
       "    .dataframe tbody tr th:only-of-type {\n",
       "        vertical-align: middle;\n",
       "    }\n",
       "\n",
       "    .dataframe tbody tr th {\n",
       "        vertical-align: top;\n",
       "    }\n",
       "\n",
       "    .dataframe thead th {\n",
       "        text-align: right;\n",
       "    }\n",
       "</style>\n",
       "<table border=\"1\" class=\"dataframe\">\n",
       "  <thead>\n",
       "    <tr style=\"text-align: right;\">\n",
       "      <th></th>\n",
       "      <th>Value</th>\n",
       "      <th>Basis of treatment</th>\n",
       "      <th>Clients in treatment</th>\n",
       "      <th>Measure Type</th>\n",
       "      <th>Unit</th>\n",
       "    </tr>\n",
       "  </thead>\n",
       "  <tbody>\n",
       "    <tr>\n",
       "      <th>43</th>\n",
       "      <td>1.0</td>\n",
       "      <td>Ag/All years</td>\n",
       "      <td>F</td>\n",
       "      <td>Percentage</td>\n",
       "      <td>People</td>\n",
       "    </tr>\n",
       "    <tr>\n",
       "      <th>44</th>\n",
       "      <td>10767.0</td>\n",
       "      <td>Ag/All years</td>\n",
       "      <td>M</td>\n",
       "      <td>Count</td>\n",
       "      <td>People</td>\n",
       "    </tr>\n",
       "    <tr>\n",
       "      <th>45</th>\n",
       "      <td>1.0</td>\n",
       "      <td>Ag/All years</td>\n",
       "      <td>M</td>\n",
       "      <td>Percentage</td>\n",
       "      <td>People</td>\n",
       "    </tr>\n",
       "    <tr>\n",
       "      <th>46</th>\n",
       "      <td>16436.0</td>\n",
       "      <td>Ag/All years</td>\n",
       "      <td>T</td>\n",
       "      <td>Count</td>\n",
       "      <td>People</td>\n",
       "    </tr>\n",
       "    <tr>\n",
       "      <th>47</th>\n",
       "      <td>1.0</td>\n",
       "      <td>Ag/All years</td>\n",
       "      <td>T</td>\n",
       "      <td>Percentage</td>\n",
       "      <td>People</td>\n",
       "    </tr>\n",
       "  </tbody>\n",
       "</table>\n",
       "</div>"
      ],
      "text/plain": [
       "      Value Basis of treatment Clients in treatment Measure Type    Unit\n",
       "43      1.0       Ag/All years                    F   Percentage  People\n",
       "44  10767.0       Ag/All years                    M        Count  People\n",
       "45      1.0       Ag/All years                    M   Percentage  People\n",
       "46  16436.0       Ag/All years                    T        Count  People\n",
       "47      1.0       Ag/All years                    T   Percentage  People"
      ]
     },
     "execution_count": 19,
     "metadata": {},
     "output_type": "execute_result"
    }
   ],
   "source": [
    "new_table.tail()"
   ]
  },
  {
   "cell_type": "code",
   "execution_count": 20,
   "metadata": {},
   "outputs": [
    {
     "data": {
      "text/plain": [
       "Value                   float64\n",
       "Basis of treatment       object\n",
       "Clients in treatment     object\n",
       "Measure Type             object\n",
       "Unit                     object\n",
       "dtype: object"
      ]
     },
     "execution_count": 20,
     "metadata": {},
     "output_type": "execute_result"
    }
   ],
   "source": [
    "new_table.dtypes"
   ]
  },
  {
   "cell_type": "code",
   "execution_count": 21,
   "metadata": {},
   "outputs": [
    {
     "name": "stderr",
     "output_type": "stream",
     "text": [
      "C:\\ProgramData\\Anaconda3\\lib\\site-packages\\ipykernel_launcher.py:1: SettingWithCopyWarning: \n",
      "A value is trying to be set on a copy of a slice from a DataFrame.\n",
      "Try using .loc[row_indexer,col_indexer] = value instead\n",
      "\n",
      "See the caveats in the documentation: http://pandas.pydata.org/pandas-docs/stable/indexing.html#indexing-view-versus-copy\n",
      "  \"\"\"Entry point for launching an IPython kernel.\n"
     ]
    }
   ],
   "source": [
    "new_table['Value'] = new_table['Value'].astype(str)"
   ]
  },
  {
   "cell_type": "code",
   "execution_count": 22,
   "metadata": {},
   "outputs": [
    {
     "data": {
      "text/html": [
       "<div>\n",
       "<style scoped>\n",
       "    .dataframe tbody tr th:only-of-type {\n",
       "        vertical-align: middle;\n",
       "    }\n",
       "\n",
       "    .dataframe tbody tr th {\n",
       "        vertical-align: top;\n",
       "    }\n",
       "\n",
       "    .dataframe thead th {\n",
       "        text-align: right;\n",
       "    }\n",
       "</style>\n",
       "<table border=\"1\" class=\"dataframe\">\n",
       "  <thead>\n",
       "    <tr style=\"text-align: right;\">\n",
       "      <th></th>\n",
       "      <th>Value</th>\n",
       "      <th>Basis of treatment</th>\n",
       "      <th>Clients in treatment</th>\n",
       "      <th>Measure Type</th>\n",
       "      <th>Unit</th>\n",
       "    </tr>\n",
       "  </thead>\n",
       "  <tbody>\n",
       "    <tr>\n",
       "      <th>0</th>\n",
       "      <td>12.0</td>\n",
       "      <td>Ag/Under 12</td>\n",
       "      <td>F</td>\n",
       "      <td>Count</td>\n",
       "      <td>People</td>\n",
       "    </tr>\n",
       "    <tr>\n",
       "      <th>2</th>\n",
       "      <td>56.0</td>\n",
       "      <td>Ag/Under 12</td>\n",
       "      <td>M</td>\n",
       "      <td>Count</td>\n",
       "      <td>People</td>\n",
       "    </tr>\n",
       "    <tr>\n",
       "      <th>3</th>\n",
       "      <td>0.01</td>\n",
       "      <td>Ag/Under 12</td>\n",
       "      <td>M</td>\n",
       "      <td>Percentage</td>\n",
       "      <td>People</td>\n",
       "    </tr>\n",
       "  </tbody>\n",
       "</table>\n",
       "</div>"
      ],
      "text/plain": [
       "  Value Basis of treatment Clients in treatment Measure Type    Unit\n",
       "0  12.0        Ag/Under 12                    F        Count  People\n",
       "2  56.0        Ag/Under 12                    M        Count  People\n",
       "3  0.01        Ag/Under 12                    M   Percentage  People"
      ]
     },
     "execution_count": 22,
     "metadata": {},
     "output_type": "execute_result"
    }
   ],
   "source": [
    "new_table.head(3)"
   ]
  },
  {
   "cell_type": "code",
   "execution_count": 23,
   "metadata": {},
   "outputs": [
    {
     "name": "stderr",
     "output_type": "stream",
     "text": [
      "C:\\ProgramData\\Anaconda3\\lib\\site-packages\\ipykernel_launcher.py:1: SettingWithCopyWarning: \n",
      "A value is trying to be set on a copy of a slice from a DataFrame.\n",
      "Try using .loc[row_indexer,col_indexer] = value instead\n",
      "\n",
      "See the caveats in the documentation: http://pandas.pydata.org/pandas-docs/stable/indexing.html#indexing-view-versus-copy\n",
      "  \"\"\"Entry point for launching an IPython kernel.\n",
      "C:\\ProgramData\\Anaconda3\\lib\\site-packages\\ipykernel_launcher.py:2: SettingWithCopyWarning: \n",
      "A value is trying to be set on a copy of a slice from a DataFrame.\n",
      "Try using .loc[row_indexer,col_indexer] = value instead\n",
      "\n",
      "See the caveats in the documentation: http://pandas.pydata.org/pandas-docs/stable/indexing.html#indexing-view-versus-copy\n",
      "  \n"
     ]
    }
   ],
   "source": [
    "new_table['Period'] = '2016-17'\n",
    "new_table['Substance'] = 'All'\n",
    "new_table = new_table[['Period','Basis of treatment','Substance','Clients in treatment','Measure Type','Value','Unit']]"
   ]
  },
  {
   "cell_type": "code",
   "execution_count": 24,
   "metadata": {
    "collapsed": true
   },
   "outputs": [],
   "source": [
    "if is_interactive():\n",
    "    SubstancetinationFolder = Path('out')\n",
    "    SubstancetinationFolder.mkdir(exist_ok=True, parents=True)\n",
    "    new_table.to_csv(SubstancetinationFolder / ('table2.1.1.csv'), index = False)"
   ]
  },
  {
   "cell_type": "code",
   "execution_count": 25,
   "metadata": {},
   "outputs": [
    {
     "data": {
      "text/html": [
       "<div>\n",
       "<style scoped>\n",
       "    .dataframe tbody tr th:only-of-type {\n",
       "        vertical-align: middle;\n",
       "    }\n",
       "\n",
       "    .dataframe tbody tr th {\n",
       "        vertical-align: top;\n",
       "    }\n",
       "\n",
       "    .dataframe thead th {\n",
       "        text-align: right;\n",
       "    }\n",
       "</style>\n",
       "<table border=\"1\" class=\"dataframe\">\n",
       "  <thead>\n",
       "    <tr style=\"text-align: right;\">\n",
       "      <th></th>\n",
       "      <th>Period</th>\n",
       "      <th>Basis of treatment</th>\n",
       "      <th>Substance</th>\n",
       "      <th>Clients in treatment</th>\n",
       "      <th>Measure Type</th>\n",
       "      <th>Value</th>\n",
       "      <th>Unit</th>\n",
       "    </tr>\n",
       "  </thead>\n",
       "  <tbody>\n",
       "    <tr>\n",
       "      <th>0</th>\n",
       "      <td>2016-17</td>\n",
       "      <td>Ag/Under 12</td>\n",
       "      <td>All</td>\n",
       "      <td>F</td>\n",
       "      <td>Count</td>\n",
       "      <td>12.0</td>\n",
       "      <td>People</td>\n",
       "    </tr>\n",
       "    <tr>\n",
       "      <th>2</th>\n",
       "      <td>2016-17</td>\n",
       "      <td>Ag/Under 12</td>\n",
       "      <td>All</td>\n",
       "      <td>M</td>\n",
       "      <td>Count</td>\n",
       "      <td>56.0</td>\n",
       "      <td>People</td>\n",
       "    </tr>\n",
       "    <tr>\n",
       "      <th>3</th>\n",
       "      <td>2016-17</td>\n",
       "      <td>Ag/Under 12</td>\n",
       "      <td>All</td>\n",
       "      <td>M</td>\n",
       "      <td>Percentage</td>\n",
       "      <td>0.01</td>\n",
       "      <td>People</td>\n",
       "    </tr>\n",
       "    <tr>\n",
       "      <th>4</th>\n",
       "      <td>2016-17</td>\n",
       "      <td>Ag/Under 12</td>\n",
       "      <td>All</td>\n",
       "      <td>T</td>\n",
       "      <td>Count</td>\n",
       "      <td>68.0</td>\n",
       "      <td>People</td>\n",
       "    </tr>\n",
       "    <tr>\n",
       "      <th>6</th>\n",
       "      <td>2016-17</td>\n",
       "      <td>Ag/12-13</td>\n",
       "      <td>All</td>\n",
       "      <td>F</td>\n",
       "      <td>Count</td>\n",
       "      <td>105.0</td>\n",
       "      <td>People</td>\n",
       "    </tr>\n",
       "  </tbody>\n",
       "</table>\n",
       "</div>"
      ],
      "text/plain": [
       "    Period Basis of treatment Substance Clients in treatment Measure Type  \\\n",
       "0  2016-17        Ag/Under 12       All                    F        Count   \n",
       "2  2016-17        Ag/Under 12       All                    M        Count   \n",
       "3  2016-17        Ag/Under 12       All                    M   Percentage   \n",
       "4  2016-17        Ag/Under 12       All                    T        Count   \n",
       "6  2016-17           Ag/12-13       All                    F        Count   \n",
       "\n",
       "   Value    Unit  \n",
       "0   12.0  People  \n",
       "2   56.0  People  \n",
       "3   0.01  People  \n",
       "4   68.0  People  \n",
       "6  105.0  People  "
      ]
     },
     "execution_count": 25,
     "metadata": {},
     "output_type": "execute_result"
    }
   ],
   "source": [
    "new_table.head()"
   ]
  },
  {
   "cell_type": "code",
   "execution_count": null,
   "metadata": {
    "collapsed": true
   },
   "outputs": [],
   "source": []
  }
 ],
 "metadata": {
  "kernelspec": {
   "display_name": "Python 3",
   "language": "python",
   "name": "python3"
  },
  "language_info": {
   "codemirror_mode": {
    "name": "ipython",
    "version": 3
   },
   "file_extension": ".py",
   "mimetype": "text/x-python",
   "name": "python",
   "nbconvert_exporter": "python",
   "pygments_lexer": "ipython3",
   "version": "3.6.3"
  }
 },
 "nbformat": 4,
 "nbformat_minor": 2
}
