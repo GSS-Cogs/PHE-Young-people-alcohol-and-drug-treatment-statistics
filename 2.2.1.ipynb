{
 "cells": [
  {
   "cell_type": "markdown",
   "metadata": {},
   "source": [
    "Table 2.2.1: Ethnicity of all young people in treatment 2016-17"
   ]
  },
  {
   "cell_type": "code",
   "execution_count": 1,
   "metadata": {
    "collapsed": true
   },
   "outputs": [],
   "source": [
    "from gssutils import *\n",
    "\n",
    "if is_interactive():\n",
    "    import requests\n",
    "    from cachecontrol import CacheControl\n",
    "    from cachecontrol.caches.file_cache import FileCache\n",
    "    from cachecontrol.heuristics import LastModified\n",
    "    from pathlib import Path\n",
    "\n",
    "    session = CacheControl(requests.Session(),\n",
    "                           cache=FileCache('.cache'),\n",
    "                           heuristic=LastModified())\n",
    "\n",
    "    sourceFolder = Path('in')\n",
    "    sourceFolder.mkdir(exist_ok=True)\n",
    "\n",
    "    inputURL = 'https://www.gov.uk/government/uploads/system/uploads/attachment_data/file/664944/'\\\n",
    "                    'Young-people-statistics-data-tables-from-the-national-drug-treatment-monitoring-system-2016-2017.xls'\n",
    "    inputFile = sourceFolder / 'Young-people-statistics-data-tables-from-the-national-drug-treatment-monitoring-system-2016-2017.xls'\n",
    "    response = session.get(inputURL)\n",
    "    with open(inputFile, 'wb') as f:\n",
    "      f.write(response.content)    "
   ]
  },
  {
   "cell_type": "code",
   "execution_count": 2,
   "metadata": {},
   "outputs": [
    {
     "name": "stdout",
     "output_type": "stream",
     "text": [
      "Loading in\\Young-people-statistics-data-tables-from-the-national-drug-treatment-monitoring-system-2016-2017.xls which has size 281600 bytes\n",
      "Table names: ['2.2.1 Ethnicity']\n"
     ]
    }
   ],
   "source": [
    "tab = loadxlstabs(inputFile, sheetids='2.2.1 Ethnicity')[0]"
   ]
  },
  {
   "cell_type": "code",
   "execution_count": 3,
   "metadata": {},
   "outputs": [
    {
     "data": {
      "text/plain": [
       "{<C10 0.01>, <B19 98.0>, <B21 16351.0>, <B15 170.0>, <C8 0.02>, <B14 180.0>, <B7 460.0>, <C5 0.04>, <B13 181.0>, <C15 0.01>, <B12 220.0>, <B10 243.0>, <B17 103.0>, <C18 0.01>, <C6 0.03>, <C17 0.01>, <C20 0.0>, <C19 0.01>, <C7 0.03>, <B6 522.0>, <B9 302.0>, <B16 152.0>, <B22 85.0>, <B23 16436.0>, <B18 100.0>, <C9 0.02>, <B11 224.0>, <B20 7.0>, <C12 0.01>, <C11 0.01>, <C21 1.0>, <C14 0.01>, <B8 321.0>, <C13 0.01>, <B5 610.0>, <C16 0.01>}"
      ]
     },
     "execution_count": 3,
     "metadata": {},
     "output_type": "execute_result"
    }
   ],
   "source": [
    "observations = tab.excel_ref('B5').expand(DOWN).expand(RIGHT).is_not_blank()\n",
    "observations"
   ]
  },
  {
   "cell_type": "code",
   "execution_count": 4,
   "metadata": {},
   "outputs": [
    {
     "data": {
      "text/plain": [
       "{<A19 'Indian'>, <A5 'Other White'>, <A16 'White & Asian'>, <A10 'Not Stated'>, <A13 'Bangladeshi'>, <A15 'Other Asian'>, <A17 'White Irish'>, <A8 'Other Mixed'>, <A18 'White & Black African'>, <A6 'White & Black Caribbean'>, <A12 'Other'>, <A22 'Missing or inconsistent data'>, <A20 'Chinese'>, <A7 'Caribbean'>, <A14 'Pakistani'>, <A9 'African'>, <A4 'White British'>, <A11 'Other Black'>, <A21 'Total'>}"
      ]
     },
     "execution_count": 4,
     "metadata": {},
     "output_type": "execute_result"
    }
   ],
   "source": [
    "age = tab.excel_ref('A4').expand(DOWN).is_not_blank() - tab.excel_ref('A23')\n",
    "age"
   ]
  },
  {
   "cell_type": "code",
   "execution_count": 5,
   "metadata": {},
   "outputs": [
    {
     "data": {
      "text/plain": [
       "{<C3 '%'>, <B3 'n'>}"
      ]
     },
     "execution_count": 5,
     "metadata": {},
     "output_type": "execute_result"
    }
   ],
   "source": [
    "measuretype = tab.excel_ref('B3').expand(RIGHT).is_not_blank() \n",
    "measuretype"
   ]
  },
  {
   "cell_type": "code",
   "execution_count": 6,
   "metadata": {
    "collapsed": true
   },
   "outputs": [],
   "source": [
    "Dimensions = [\n",
    "            HDim(age,'Basis of treatment',DIRECTLY,LEFT),\n",
    "            HDimConst('Clients in treatment','All young clients'),\n",
    "            HDim(measuretype,'Measure Type',DIRECTLY,ABOVE),\n",
    "            HDimConst('Unit','People')            \n",
    "            ]"
   ]
  },
  {
   "cell_type": "code",
   "execution_count": 7,
   "metadata": {
    "collapsed": true
   },
   "outputs": [],
   "source": [
    "c1 = ConversionSegment(observations, Dimensions, processTIMEUNIT=True)\n",
    "# if is_interactive():\n",
    "#     savepreviewhtml(c1)"
   ]
  },
  {
   "cell_type": "code",
   "execution_count": 8,
   "metadata": {},
   "outputs": [
    {
     "name": "stdout",
     "output_type": "stream",
     "text": [
      "\n"
     ]
    },
    {
     "data": {
      "text/html": [
       "<div>\n",
       "<style scoped>\n",
       "    .dataframe tbody tr th:only-of-type {\n",
       "        vertical-align: middle;\n",
       "    }\n",
       "\n",
       "    .dataframe tbody tr th {\n",
       "        vertical-align: top;\n",
       "    }\n",
       "\n",
       "    .dataframe thead th {\n",
       "        text-align: right;\n",
       "    }\n",
       "</style>\n",
       "<table border=\"1\" class=\"dataframe\">\n",
       "  <thead>\n",
       "    <tr style=\"text-align: right;\">\n",
       "      <th></th>\n",
       "      <th>OBS</th>\n",
       "      <th>Basis of treatment</th>\n",
       "      <th>Clients in treatment</th>\n",
       "      <th>Measure Type</th>\n",
       "      <th>Unit</th>\n",
       "    </tr>\n",
       "  </thead>\n",
       "  <tbody>\n",
       "    <tr>\n",
       "      <th>0</th>\n",
       "      <td>610.00</td>\n",
       "      <td>Other White</td>\n",
       "      <td>All young clients</td>\n",
       "      <td>n</td>\n",
       "      <td>People</td>\n",
       "    </tr>\n",
       "    <tr>\n",
       "      <th>1</th>\n",
       "      <td>0.04</td>\n",
       "      <td>Other White</td>\n",
       "      <td>All young clients</td>\n",
       "      <td>%</td>\n",
       "      <td>People</td>\n",
       "    </tr>\n",
       "    <tr>\n",
       "      <th>2</th>\n",
       "      <td>522.00</td>\n",
       "      <td>White &amp; Black Caribbean</td>\n",
       "      <td>All young clients</td>\n",
       "      <td>n</td>\n",
       "      <td>People</td>\n",
       "    </tr>\n",
       "    <tr>\n",
       "      <th>3</th>\n",
       "      <td>0.03</td>\n",
       "      <td>White &amp; Black Caribbean</td>\n",
       "      <td>All young clients</td>\n",
       "      <td>%</td>\n",
       "      <td>People</td>\n",
       "    </tr>\n",
       "    <tr>\n",
       "      <th>4</th>\n",
       "      <td>460.00</td>\n",
       "      <td>Caribbean</td>\n",
       "      <td>All young clients</td>\n",
       "      <td>n</td>\n",
       "      <td>People</td>\n",
       "    </tr>\n",
       "    <tr>\n",
       "      <th>5</th>\n",
       "      <td>0.03</td>\n",
       "      <td>Caribbean</td>\n",
       "      <td>All young clients</td>\n",
       "      <td>%</td>\n",
       "      <td>People</td>\n",
       "    </tr>\n",
       "    <tr>\n",
       "      <th>6</th>\n",
       "      <td>321.00</td>\n",
       "      <td>Other Mixed</td>\n",
       "      <td>All young clients</td>\n",
       "      <td>n</td>\n",
       "      <td>People</td>\n",
       "    </tr>\n",
       "    <tr>\n",
       "      <th>7</th>\n",
       "      <td>0.02</td>\n",
       "      <td>Other Mixed</td>\n",
       "      <td>All young clients</td>\n",
       "      <td>%</td>\n",
       "      <td>People</td>\n",
       "    </tr>\n",
       "    <tr>\n",
       "      <th>8</th>\n",
       "      <td>302.00</td>\n",
       "      <td>African</td>\n",
       "      <td>All young clients</td>\n",
       "      <td>n</td>\n",
       "      <td>People</td>\n",
       "    </tr>\n",
       "    <tr>\n",
       "      <th>9</th>\n",
       "      <td>0.02</td>\n",
       "      <td>African</td>\n",
       "      <td>All young clients</td>\n",
       "      <td>%</td>\n",
       "      <td>People</td>\n",
       "    </tr>\n",
       "    <tr>\n",
       "      <th>10</th>\n",
       "      <td>243.00</td>\n",
       "      <td>Not Stated</td>\n",
       "      <td>All young clients</td>\n",
       "      <td>n</td>\n",
       "      <td>People</td>\n",
       "    </tr>\n",
       "    <tr>\n",
       "      <th>11</th>\n",
       "      <td>0.01</td>\n",
       "      <td>Not Stated</td>\n",
       "      <td>All young clients</td>\n",
       "      <td>%</td>\n",
       "      <td>People</td>\n",
       "    </tr>\n",
       "    <tr>\n",
       "      <th>12</th>\n",
       "      <td>224.00</td>\n",
       "      <td>Other Black</td>\n",
       "      <td>All young clients</td>\n",
       "      <td>n</td>\n",
       "      <td>People</td>\n",
       "    </tr>\n",
       "    <tr>\n",
       "      <th>13</th>\n",
       "      <td>0.01</td>\n",
       "      <td>Other Black</td>\n",
       "      <td>All young clients</td>\n",
       "      <td>%</td>\n",
       "      <td>People</td>\n",
       "    </tr>\n",
       "    <tr>\n",
       "      <th>14</th>\n",
       "      <td>220.00</td>\n",
       "      <td>Other</td>\n",
       "      <td>All young clients</td>\n",
       "      <td>n</td>\n",
       "      <td>People</td>\n",
       "    </tr>\n",
       "    <tr>\n",
       "      <th>15</th>\n",
       "      <td>0.01</td>\n",
       "      <td>Other</td>\n",
       "      <td>All young clients</td>\n",
       "      <td>%</td>\n",
       "      <td>People</td>\n",
       "    </tr>\n",
       "    <tr>\n",
       "      <th>16</th>\n",
       "      <td>181.00</td>\n",
       "      <td>Bangladeshi</td>\n",
       "      <td>All young clients</td>\n",
       "      <td>n</td>\n",
       "      <td>People</td>\n",
       "    </tr>\n",
       "    <tr>\n",
       "      <th>17</th>\n",
       "      <td>0.01</td>\n",
       "      <td>Bangladeshi</td>\n",
       "      <td>All young clients</td>\n",
       "      <td>%</td>\n",
       "      <td>People</td>\n",
       "    </tr>\n",
       "    <tr>\n",
       "      <th>18</th>\n",
       "      <td>180.00</td>\n",
       "      <td>Pakistani</td>\n",
       "      <td>All young clients</td>\n",
       "      <td>n</td>\n",
       "      <td>People</td>\n",
       "    </tr>\n",
       "    <tr>\n",
       "      <th>19</th>\n",
       "      <td>0.01</td>\n",
       "      <td>Pakistani</td>\n",
       "      <td>All young clients</td>\n",
       "      <td>%</td>\n",
       "      <td>People</td>\n",
       "    </tr>\n",
       "    <tr>\n",
       "      <th>20</th>\n",
       "      <td>170.00</td>\n",
       "      <td>Other Asian</td>\n",
       "      <td>All young clients</td>\n",
       "      <td>n</td>\n",
       "      <td>People</td>\n",
       "    </tr>\n",
       "    <tr>\n",
       "      <th>21</th>\n",
       "      <td>0.01</td>\n",
       "      <td>Other Asian</td>\n",
       "      <td>All young clients</td>\n",
       "      <td>%</td>\n",
       "      <td>People</td>\n",
       "    </tr>\n",
       "    <tr>\n",
       "      <th>22</th>\n",
       "      <td>152.00</td>\n",
       "      <td>White &amp; Asian</td>\n",
       "      <td>All young clients</td>\n",
       "      <td>n</td>\n",
       "      <td>People</td>\n",
       "    </tr>\n",
       "    <tr>\n",
       "      <th>23</th>\n",
       "      <td>0.01</td>\n",
       "      <td>White &amp; Asian</td>\n",
       "      <td>All young clients</td>\n",
       "      <td>%</td>\n",
       "      <td>People</td>\n",
       "    </tr>\n",
       "    <tr>\n",
       "      <th>24</th>\n",
       "      <td>103.00</td>\n",
       "      <td>White Irish</td>\n",
       "      <td>All young clients</td>\n",
       "      <td>n</td>\n",
       "      <td>People</td>\n",
       "    </tr>\n",
       "    <tr>\n",
       "      <th>25</th>\n",
       "      <td>0.01</td>\n",
       "      <td>White Irish</td>\n",
       "      <td>All young clients</td>\n",
       "      <td>%</td>\n",
       "      <td>People</td>\n",
       "    </tr>\n",
       "    <tr>\n",
       "      <th>26</th>\n",
       "      <td>100.00</td>\n",
       "      <td>White &amp; Black African</td>\n",
       "      <td>All young clients</td>\n",
       "      <td>n</td>\n",
       "      <td>People</td>\n",
       "    </tr>\n",
       "    <tr>\n",
       "      <th>27</th>\n",
       "      <td>0.01</td>\n",
       "      <td>White &amp; Black African</td>\n",
       "      <td>All young clients</td>\n",
       "      <td>%</td>\n",
       "      <td>People</td>\n",
       "    </tr>\n",
       "    <tr>\n",
       "      <th>28</th>\n",
       "      <td>98.00</td>\n",
       "      <td>Indian</td>\n",
       "      <td>All young clients</td>\n",
       "      <td>n</td>\n",
       "      <td>People</td>\n",
       "    </tr>\n",
       "    <tr>\n",
       "      <th>29</th>\n",
       "      <td>0.01</td>\n",
       "      <td>Indian</td>\n",
       "      <td>All young clients</td>\n",
       "      <td>%</td>\n",
       "      <td>People</td>\n",
       "    </tr>\n",
       "    <tr>\n",
       "      <th>30</th>\n",
       "      <td>7.00</td>\n",
       "      <td>Chinese</td>\n",
       "      <td>All young clients</td>\n",
       "      <td>n</td>\n",
       "      <td>People</td>\n",
       "    </tr>\n",
       "    <tr>\n",
       "      <th>31</th>\n",
       "      <td>0.00</td>\n",
       "      <td>Chinese</td>\n",
       "      <td>All young clients</td>\n",
       "      <td>%</td>\n",
       "      <td>People</td>\n",
       "    </tr>\n",
       "    <tr>\n",
       "      <th>32</th>\n",
       "      <td>16351.00</td>\n",
       "      <td>Total</td>\n",
       "      <td>All young clients</td>\n",
       "      <td>n</td>\n",
       "      <td>People</td>\n",
       "    </tr>\n",
       "    <tr>\n",
       "      <th>33</th>\n",
       "      <td>1.00</td>\n",
       "      <td>Total</td>\n",
       "      <td>All young clients</td>\n",
       "      <td>%</td>\n",
       "      <td>People</td>\n",
       "    </tr>\n",
       "    <tr>\n",
       "      <th>34</th>\n",
       "      <td>85.00</td>\n",
       "      <td>Missing or inconsistent data</td>\n",
       "      <td>All young clients</td>\n",
       "      <td>n</td>\n",
       "      <td>People</td>\n",
       "    </tr>\n",
       "    <tr>\n",
       "      <th>35</th>\n",
       "      <td>16436.00</td>\n",
       "      <td>None</td>\n",
       "      <td>All young clients</td>\n",
       "      <td>n</td>\n",
       "      <td>People</td>\n",
       "    </tr>\n",
       "  </tbody>\n",
       "</table>\n",
       "</div>"
      ],
      "text/plain": [
       "         OBS            Basis of treatment Clients in treatment Measure Type  \\\n",
       "0     610.00                   Other White    All young clients            n   \n",
       "1       0.04                   Other White    All young clients            %   \n",
       "2     522.00       White & Black Caribbean    All young clients            n   \n",
       "3       0.03       White & Black Caribbean    All young clients            %   \n",
       "4     460.00                     Caribbean    All young clients            n   \n",
       "5       0.03                     Caribbean    All young clients            %   \n",
       "6     321.00                   Other Mixed    All young clients            n   \n",
       "7       0.02                   Other Mixed    All young clients            %   \n",
       "8     302.00                       African    All young clients            n   \n",
       "9       0.02                       African    All young clients            %   \n",
       "10    243.00                    Not Stated    All young clients            n   \n",
       "11      0.01                    Not Stated    All young clients            %   \n",
       "12    224.00                   Other Black    All young clients            n   \n",
       "13      0.01                   Other Black    All young clients            %   \n",
       "14    220.00                         Other    All young clients            n   \n",
       "15      0.01                         Other    All young clients            %   \n",
       "16    181.00                   Bangladeshi    All young clients            n   \n",
       "17      0.01                   Bangladeshi    All young clients            %   \n",
       "18    180.00                     Pakistani    All young clients            n   \n",
       "19      0.01                     Pakistani    All young clients            %   \n",
       "20    170.00                   Other Asian    All young clients            n   \n",
       "21      0.01                   Other Asian    All young clients            %   \n",
       "22    152.00                 White & Asian    All young clients            n   \n",
       "23      0.01                 White & Asian    All young clients            %   \n",
       "24    103.00                   White Irish    All young clients            n   \n",
       "25      0.01                   White Irish    All young clients            %   \n",
       "26    100.00         White & Black African    All young clients            n   \n",
       "27      0.01         White & Black African    All young clients            %   \n",
       "28     98.00                        Indian    All young clients            n   \n",
       "29      0.01                        Indian    All young clients            %   \n",
       "30      7.00                       Chinese    All young clients            n   \n",
       "31      0.00                       Chinese    All young clients            %   \n",
       "32  16351.00                         Total    All young clients            n   \n",
       "33      1.00                         Total    All young clients            %   \n",
       "34     85.00  Missing or inconsistent data    All young clients            n   \n",
       "35  16436.00                          None    All young clients            n   \n",
       "\n",
       "      Unit  \n",
       "0   People  \n",
       "1   People  \n",
       "2   People  \n",
       "3   People  \n",
       "4   People  \n",
       "5   People  \n",
       "6   People  \n",
       "7   People  \n",
       "8   People  \n",
       "9   People  \n",
       "10  People  \n",
       "11  People  \n",
       "12  People  \n",
       "13  People  \n",
       "14  People  \n",
       "15  People  \n",
       "16  People  \n",
       "17  People  \n",
       "18  People  \n",
       "19  People  \n",
       "20  People  \n",
       "21  People  \n",
       "22  People  \n",
       "23  People  \n",
       "24  People  \n",
       "25  People  \n",
       "26  People  \n",
       "27  People  \n",
       "28  People  \n",
       "29  People  \n",
       "30  People  \n",
       "31  People  \n",
       "32  People  \n",
       "33  People  \n",
       "34  People  \n",
       "35  People  "
      ]
     },
     "execution_count": 8,
     "metadata": {},
     "output_type": "execute_result"
    }
   ],
   "source": [
    "new_table = c1.topandas()\n",
    "new_table"
   ]
  },
  {
   "cell_type": "code",
   "execution_count": 9,
   "metadata": {
    "collapsed": true
   },
   "outputs": [],
   "source": [
    "new_table = new_table[new_table['OBS'] != 0 ]"
   ]
  },
  {
   "cell_type": "code",
   "execution_count": 10,
   "metadata": {
    "collapsed": true
   },
   "outputs": [],
   "source": [
    "new_table.columns = ['Value' if x=='OBS' else x for x in new_table.columns]"
   ]
  },
  {
   "cell_type": "code",
   "execution_count": 11,
   "metadata": {},
   "outputs": [
    {
     "name": "stderr",
     "output_type": "stream",
     "text": [
      "C:\\ProgramData\\Anaconda3\\lib\\site-packages\\ipykernel_launcher.py:1: SettingWithCopyWarning: \n",
      "A value is trying to be set on a copy of a slice from a DataFrame.\n",
      "Try using .loc[row_indexer,col_indexer] = value instead\n",
      "\n",
      "See the caveats in the documentation: http://pandas.pydata.org/pandas-docs/stable/indexing.html#indexing-view-versus-copy\n",
      "  \"\"\"Entry point for launching an IPython kernel.\n"
     ]
    }
   ],
   "source": [
    "new_table['Basis of treatment'] = 'Ethnicity/' + new_table['Basis of treatment']"
   ]
  },
  {
   "cell_type": "code",
   "execution_count": 12,
   "metadata": {},
   "outputs": [
    {
     "data": {
      "text/html": [
       "<div>\n",
       "<style scoped>\n",
       "    .dataframe tbody tr th:only-of-type {\n",
       "        vertical-align: middle;\n",
       "    }\n",
       "\n",
       "    .dataframe tbody tr th {\n",
       "        vertical-align: top;\n",
       "    }\n",
       "\n",
       "    .dataframe thead th {\n",
       "        text-align: right;\n",
       "    }\n",
       "</style>\n",
       "<table border=\"1\" class=\"dataframe\">\n",
       "  <thead>\n",
       "    <tr style=\"text-align: right;\">\n",
       "      <th></th>\n",
       "      <th>Value</th>\n",
       "      <th>Basis of treatment</th>\n",
       "      <th>Clients in treatment</th>\n",
       "      <th>Measure Type</th>\n",
       "      <th>Unit</th>\n",
       "    </tr>\n",
       "  </thead>\n",
       "  <tbody>\n",
       "    <tr>\n",
       "      <th>0</th>\n",
       "      <td>610.00</td>\n",
       "      <td>Ethnicity/Other White</td>\n",
       "      <td>All young clients</td>\n",
       "      <td>n</td>\n",
       "      <td>People</td>\n",
       "    </tr>\n",
       "    <tr>\n",
       "      <th>1</th>\n",
       "      <td>0.04</td>\n",
       "      <td>Ethnicity/Other White</td>\n",
       "      <td>All young clients</td>\n",
       "      <td>%</td>\n",
       "      <td>People</td>\n",
       "    </tr>\n",
       "    <tr>\n",
       "      <th>2</th>\n",
       "      <td>522.00</td>\n",
       "      <td>Ethnicity/White &amp; Black Caribbean</td>\n",
       "      <td>All young clients</td>\n",
       "      <td>n</td>\n",
       "      <td>People</td>\n",
       "    </tr>\n",
       "    <tr>\n",
       "      <th>3</th>\n",
       "      <td>0.03</td>\n",
       "      <td>Ethnicity/White &amp; Black Caribbean</td>\n",
       "      <td>All young clients</td>\n",
       "      <td>%</td>\n",
       "      <td>People</td>\n",
       "    </tr>\n",
       "    <tr>\n",
       "      <th>4</th>\n",
       "      <td>460.00</td>\n",
       "      <td>Ethnicity/Caribbean</td>\n",
       "      <td>All young clients</td>\n",
       "      <td>n</td>\n",
       "      <td>People</td>\n",
       "    </tr>\n",
       "  </tbody>\n",
       "</table>\n",
       "</div>"
      ],
      "text/plain": [
       "    Value                 Basis of treatment Clients in treatment  \\\n",
       "0  610.00              Ethnicity/Other White    All young clients   \n",
       "1    0.04              Ethnicity/Other White    All young clients   \n",
       "2  522.00  Ethnicity/White & Black Caribbean    All young clients   \n",
       "3    0.03  Ethnicity/White & Black Caribbean    All young clients   \n",
       "4  460.00                Ethnicity/Caribbean    All young clients   \n",
       "\n",
       "  Measure Type    Unit  \n",
       "0            n  People  \n",
       "1            %  People  \n",
       "2            n  People  \n",
       "3            %  People  \n",
       "4            n  People  "
      ]
     },
     "execution_count": 12,
     "metadata": {},
     "output_type": "execute_result"
    }
   ],
   "source": [
    "new_table.head()"
   ]
  },
  {
   "cell_type": "code",
   "execution_count": 13,
   "metadata": {},
   "outputs": [
    {
     "data": {
      "text/plain": [
       "array(['Ethnicity/Other White', 'Ethnicity/White & Black Caribbean',\n",
       "       'Ethnicity/Caribbean', 'Ethnicity/Other Mixed',\n",
       "       'Ethnicity/African', 'Ethnicity/Not Stated',\n",
       "       'Ethnicity/Other Black', 'Ethnicity/Other',\n",
       "       'Ethnicity/Bangladeshi', 'Ethnicity/Pakistani',\n",
       "       'Ethnicity/Other Asian', 'Ethnicity/White & Asian',\n",
       "       'Ethnicity/White Irish', 'Ethnicity/White & Black African',\n",
       "       'Ethnicity/Indian', 'Ethnicity/Chinese', 'Ethnicity/Total',\n",
       "       'Ethnicity/Missing or inconsistent data', nan], dtype=object)"
      ]
     },
     "execution_count": 13,
     "metadata": {},
     "output_type": "execute_result"
    }
   ],
   "source": [
    "new_table['Basis of treatment'].unique()"
   ]
  },
  {
   "cell_type": "code",
   "execution_count": 14,
   "metadata": {},
   "outputs": [
    {
     "name": "stderr",
     "output_type": "stream",
     "text": [
      "C:\\ProgramData\\Anaconda3\\lib\\site-packages\\ipykernel_launcher.py:2: SettingWithCopyWarning: \n",
      "A value is trying to be set on a copy of a slice from a DataFrame.\n",
      "Try using .loc[row_indexer,col_indexer] = value instead\n",
      "\n",
      "See the caveats in the documentation: http://pandas.pydata.org/pandas-docs/stable/indexing.html#indexing-view-versus-copy\n",
      "  \n"
     ]
    }
   ],
   "source": [
    "new_table['Basis of treatment'] = new_table['Basis of treatment'].map(\n",
    "    lambda x: {\n",
    "        'Ethnicity/Total' : 'Ethnicity/All' \n",
    "        }.get(x, x))"
   ]
  },
  {
   "cell_type": "code",
   "execution_count": 15,
   "metadata": {},
   "outputs": [
    {
     "data": {
      "text/html": [
       "<div>\n",
       "<style scoped>\n",
       "    .dataframe tbody tr th:only-of-type {\n",
       "        vertical-align: middle;\n",
       "    }\n",
       "\n",
       "    .dataframe tbody tr th {\n",
       "        vertical-align: top;\n",
       "    }\n",
       "\n",
       "    .dataframe thead th {\n",
       "        text-align: right;\n",
       "    }\n",
       "</style>\n",
       "<table border=\"1\" class=\"dataframe\">\n",
       "  <thead>\n",
       "    <tr style=\"text-align: right;\">\n",
       "      <th></th>\n",
       "      <th>Value</th>\n",
       "      <th>Basis of treatment</th>\n",
       "      <th>Clients in treatment</th>\n",
       "      <th>Measure Type</th>\n",
       "      <th>Unit</th>\n",
       "    </tr>\n",
       "  </thead>\n",
       "  <tbody>\n",
       "    <tr>\n",
       "      <th>0</th>\n",
       "      <td>610.00</td>\n",
       "      <td>Ethnicity/Other White</td>\n",
       "      <td>All young clients</td>\n",
       "      <td>n</td>\n",
       "      <td>People</td>\n",
       "    </tr>\n",
       "    <tr>\n",
       "      <th>1</th>\n",
       "      <td>0.04</td>\n",
       "      <td>Ethnicity/Other White</td>\n",
       "      <td>All young clients</td>\n",
       "      <td>%</td>\n",
       "      <td>People</td>\n",
       "    </tr>\n",
       "    <tr>\n",
       "      <th>2</th>\n",
       "      <td>522.00</td>\n",
       "      <td>Ethnicity/White &amp; Black Caribbean</td>\n",
       "      <td>All young clients</td>\n",
       "      <td>n</td>\n",
       "      <td>People</td>\n",
       "    </tr>\n",
       "    <tr>\n",
       "      <th>3</th>\n",
       "      <td>0.03</td>\n",
       "      <td>Ethnicity/White &amp; Black Caribbean</td>\n",
       "      <td>All young clients</td>\n",
       "      <td>%</td>\n",
       "      <td>People</td>\n",
       "    </tr>\n",
       "    <tr>\n",
       "      <th>4</th>\n",
       "      <td>460.00</td>\n",
       "      <td>Ethnicity/Caribbean</td>\n",
       "      <td>All young clients</td>\n",
       "      <td>n</td>\n",
       "      <td>People</td>\n",
       "    </tr>\n",
       "  </tbody>\n",
       "</table>\n",
       "</div>"
      ],
      "text/plain": [
       "    Value                 Basis of treatment Clients in treatment  \\\n",
       "0  610.00              Ethnicity/Other White    All young clients   \n",
       "1    0.04              Ethnicity/Other White    All young clients   \n",
       "2  522.00  Ethnicity/White & Black Caribbean    All young clients   \n",
       "3    0.03  Ethnicity/White & Black Caribbean    All young clients   \n",
       "4  460.00                Ethnicity/Caribbean    All young clients   \n",
       "\n",
       "  Measure Type    Unit  \n",
       "0            n  People  \n",
       "1            %  People  \n",
       "2            n  People  \n",
       "3            %  People  \n",
       "4            n  People  "
      ]
     },
     "execution_count": 15,
     "metadata": {},
     "output_type": "execute_result"
    }
   ],
   "source": [
    "new_table.head()"
   ]
  },
  {
   "cell_type": "code",
   "execution_count": 16,
   "metadata": {},
   "outputs": [
    {
     "name": "stderr",
     "output_type": "stream",
     "text": [
      "C:\\ProgramData\\Anaconda3\\lib\\site-packages\\ipykernel_launcher.py:2: SettingWithCopyWarning: \n",
      "A value is trying to be set on a copy of a slice from a DataFrame.\n",
      "Try using .loc[row_indexer,col_indexer] = value instead\n",
      "\n",
      "See the caveats in the documentation: http://pandas.pydata.org/pandas-docs/stable/indexing.html#indexing-view-versus-copy\n",
      "  \n"
     ]
    }
   ],
   "source": [
    "new_table['Measure Type'] = new_table['Measure Type'].map(\n",
    "    lambda x: {\n",
    "        'n' : 'Count', \n",
    "        '%' : 'Percentage',\n",
    "        }.get(x, x))"
   ]
  },
  {
   "cell_type": "code",
   "execution_count": 17,
   "metadata": {},
   "outputs": [
    {
     "data": {
      "text/html": [
       "<div>\n",
       "<style scoped>\n",
       "    .dataframe tbody tr th:only-of-type {\n",
       "        vertical-align: middle;\n",
       "    }\n",
       "\n",
       "    .dataframe tbody tr th {\n",
       "        vertical-align: top;\n",
       "    }\n",
       "\n",
       "    .dataframe thead th {\n",
       "        text-align: right;\n",
       "    }\n",
       "</style>\n",
       "<table border=\"1\" class=\"dataframe\">\n",
       "  <thead>\n",
       "    <tr style=\"text-align: right;\">\n",
       "      <th></th>\n",
       "      <th>Value</th>\n",
       "      <th>Basis of treatment</th>\n",
       "      <th>Clients in treatment</th>\n",
       "      <th>Measure Type</th>\n",
       "      <th>Unit</th>\n",
       "    </tr>\n",
       "  </thead>\n",
       "  <tbody>\n",
       "    <tr>\n",
       "      <th>30</th>\n",
       "      <td>7.0</td>\n",
       "      <td>Ethnicity/Chinese</td>\n",
       "      <td>All young clients</td>\n",
       "      <td>Count</td>\n",
       "      <td>People</td>\n",
       "    </tr>\n",
       "    <tr>\n",
       "      <th>32</th>\n",
       "      <td>16351.0</td>\n",
       "      <td>Ethnicity/All</td>\n",
       "      <td>All young clients</td>\n",
       "      <td>Count</td>\n",
       "      <td>People</td>\n",
       "    </tr>\n",
       "    <tr>\n",
       "      <th>33</th>\n",
       "      <td>1.0</td>\n",
       "      <td>Ethnicity/All</td>\n",
       "      <td>All young clients</td>\n",
       "      <td>Percentage</td>\n",
       "      <td>People</td>\n",
       "    </tr>\n",
       "    <tr>\n",
       "      <th>34</th>\n",
       "      <td>85.0</td>\n",
       "      <td>Ethnicity/Missing or inconsistent data</td>\n",
       "      <td>All young clients</td>\n",
       "      <td>Count</td>\n",
       "      <td>People</td>\n",
       "    </tr>\n",
       "    <tr>\n",
       "      <th>35</th>\n",
       "      <td>16436.0</td>\n",
       "      <td>NaN</td>\n",
       "      <td>All young clients</td>\n",
       "      <td>Count</td>\n",
       "      <td>People</td>\n",
       "    </tr>\n",
       "  </tbody>\n",
       "</table>\n",
       "</div>"
      ],
      "text/plain": [
       "      Value                      Basis of treatment Clients in treatment  \\\n",
       "30      7.0                       Ethnicity/Chinese    All young clients   \n",
       "32  16351.0                           Ethnicity/All    All young clients   \n",
       "33      1.0                           Ethnicity/All    All young clients   \n",
       "34     85.0  Ethnicity/Missing or inconsistent data    All young clients   \n",
       "35  16436.0                                     NaN    All young clients   \n",
       "\n",
       "   Measure Type    Unit  \n",
       "30        Count  People  \n",
       "32        Count  People  \n",
       "33   Percentage  People  \n",
       "34        Count  People  \n",
       "35        Count  People  "
      ]
     },
     "execution_count": 17,
     "metadata": {},
     "output_type": "execute_result"
    }
   ],
   "source": [
    "new_table.tail()"
   ]
  },
  {
   "cell_type": "code",
   "execution_count": 18,
   "metadata": {},
   "outputs": [
    {
     "name": "stderr",
     "output_type": "stream",
     "text": [
      "C:\\ProgramData\\Anaconda3\\lib\\site-packages\\pandas\\core\\generic.py:5434: SettingWithCopyWarning: \n",
      "A value is trying to be set on a copy of a slice from a DataFrame\n",
      "\n",
      "See the caveats in the documentation: http://pandas.pydata.org/pandas-docs/stable/indexing.html#indexing-view-versus-copy\n",
      "  self._update_inplace(new_data)\n"
     ]
    }
   ],
   "source": [
    "new_table['Basis of treatment'].fillna('Ethnicity/All inclusice Missing or inconsistent data', inplace = True)"
   ]
  },
  {
   "cell_type": "code",
   "execution_count": 19,
   "metadata": {
    "scrolled": true
   },
   "outputs": [
    {
     "data": {
      "text/plain": [
       "Value                   float64\n",
       "Basis of treatment       object\n",
       "Clients in treatment     object\n",
       "Measure Type             object\n",
       "Unit                     object\n",
       "dtype: object"
      ]
     },
     "execution_count": 19,
     "metadata": {},
     "output_type": "execute_result"
    }
   ],
   "source": [
    "new_table.dtypes"
   ]
  },
  {
   "cell_type": "code",
   "execution_count": 20,
   "metadata": {},
   "outputs": [
    {
     "name": "stderr",
     "output_type": "stream",
     "text": [
      "C:\\ProgramData\\Anaconda3\\lib\\site-packages\\ipykernel_launcher.py:1: SettingWithCopyWarning: \n",
      "A value is trying to be set on a copy of a slice from a DataFrame.\n",
      "Try using .loc[row_indexer,col_indexer] = value instead\n",
      "\n",
      "See the caveats in the documentation: http://pandas.pydata.org/pandas-docs/stable/indexing.html#indexing-view-versus-copy\n",
      "  \"\"\"Entry point for launching an IPython kernel.\n"
     ]
    }
   ],
   "source": [
    "new_table['Value'] = new_table['Value'].astype(str)"
   ]
  },
  {
   "cell_type": "code",
   "execution_count": 21,
   "metadata": {},
   "outputs": [
    {
     "data": {
      "text/html": [
       "<div>\n",
       "<style scoped>\n",
       "    .dataframe tbody tr th:only-of-type {\n",
       "        vertical-align: middle;\n",
       "    }\n",
       "\n",
       "    .dataframe tbody tr th {\n",
       "        vertical-align: top;\n",
       "    }\n",
       "\n",
       "    .dataframe thead th {\n",
       "        text-align: right;\n",
       "    }\n",
       "</style>\n",
       "<table border=\"1\" class=\"dataframe\">\n",
       "  <thead>\n",
       "    <tr style=\"text-align: right;\">\n",
       "      <th></th>\n",
       "      <th>Value</th>\n",
       "      <th>Basis of treatment</th>\n",
       "      <th>Clients in treatment</th>\n",
       "      <th>Measure Type</th>\n",
       "      <th>Unit</th>\n",
       "    </tr>\n",
       "  </thead>\n",
       "  <tbody>\n",
       "    <tr>\n",
       "      <th>0</th>\n",
       "      <td>610.0</td>\n",
       "      <td>Ethnicity/Other White</td>\n",
       "      <td>All young clients</td>\n",
       "      <td>Count</td>\n",
       "      <td>People</td>\n",
       "    </tr>\n",
       "    <tr>\n",
       "      <th>1</th>\n",
       "      <td>0.04</td>\n",
       "      <td>Ethnicity/Other White</td>\n",
       "      <td>All young clients</td>\n",
       "      <td>Percentage</td>\n",
       "      <td>People</td>\n",
       "    </tr>\n",
       "    <tr>\n",
       "      <th>2</th>\n",
       "      <td>522.0</td>\n",
       "      <td>Ethnicity/White &amp; Black Caribbean</td>\n",
       "      <td>All young clients</td>\n",
       "      <td>Count</td>\n",
       "      <td>People</td>\n",
       "    </tr>\n",
       "  </tbody>\n",
       "</table>\n",
       "</div>"
      ],
      "text/plain": [
       "   Value                 Basis of treatment Clients in treatment Measure Type  \\\n",
       "0  610.0              Ethnicity/Other White    All young clients        Count   \n",
       "1   0.04              Ethnicity/Other White    All young clients   Percentage   \n",
       "2  522.0  Ethnicity/White & Black Caribbean    All young clients        Count   \n",
       "\n",
       "     Unit  \n",
       "0  People  \n",
       "1  People  \n",
       "2  People  "
      ]
     },
     "execution_count": 21,
     "metadata": {},
     "output_type": "execute_result"
    }
   ],
   "source": [
    "new_table.head(3)"
   ]
  },
  {
   "cell_type": "code",
   "execution_count": 22,
   "metadata": {},
   "outputs": [
    {
     "name": "stderr",
     "output_type": "stream",
     "text": [
      "C:\\ProgramData\\Anaconda3\\lib\\site-packages\\ipykernel_launcher.py:1: SettingWithCopyWarning: \n",
      "A value is trying to be set on a copy of a slice from a DataFrame.\n",
      "Try using .loc[row_indexer,col_indexer] = value instead\n",
      "\n",
      "See the caveats in the documentation: http://pandas.pydata.org/pandas-docs/stable/indexing.html#indexing-view-versus-copy\n",
      "  \"\"\"Entry point for launching an IPython kernel.\n",
      "C:\\ProgramData\\Anaconda3\\lib\\site-packages\\ipykernel_launcher.py:2: SettingWithCopyWarning: \n",
      "A value is trying to be set on a copy of a slice from a DataFrame.\n",
      "Try using .loc[row_indexer,col_indexer] = value instead\n",
      "\n",
      "See the caveats in the documentation: http://pandas.pydata.org/pandas-docs/stable/indexing.html#indexing-view-versus-copy\n",
      "  \n"
     ]
    }
   ],
   "source": [
    "new_table['Period'] = '2016-17'\n",
    "new_table['Substance'] = 'All'\n",
    "new_table = new_table[['Period','Basis of treatment','Substance','Clients in treatment','Measure Type','Value','Unit']]"
   ]
  },
  {
   "cell_type": "code",
   "execution_count": 23,
   "metadata": {
    "collapsed": true
   },
   "outputs": [],
   "source": [
    "if is_interactive():\n",
    "    SubstancetinationFolder = Path('out')\n",
    "    SubstancetinationFolder.mkdir(exist_ok=True, parents=True)\n",
    "    new_table.to_csv(SubstancetinationFolder / ('table2.2.1.csv'), index = False)"
   ]
  },
  {
   "cell_type": "code",
   "execution_count": 24,
   "metadata": {},
   "outputs": [
    {
     "data": {
      "text/html": [
       "<div>\n",
       "<style scoped>\n",
       "    .dataframe tbody tr th:only-of-type {\n",
       "        vertical-align: middle;\n",
       "    }\n",
       "\n",
       "    .dataframe tbody tr th {\n",
       "        vertical-align: top;\n",
       "    }\n",
       "\n",
       "    .dataframe thead th {\n",
       "        text-align: right;\n",
       "    }\n",
       "</style>\n",
       "<table border=\"1\" class=\"dataframe\">\n",
       "  <thead>\n",
       "    <tr style=\"text-align: right;\">\n",
       "      <th></th>\n",
       "      <th>Period</th>\n",
       "      <th>Basis of treatment</th>\n",
       "      <th>Substance</th>\n",
       "      <th>Clients in treatment</th>\n",
       "      <th>Measure Type</th>\n",
       "      <th>Value</th>\n",
       "      <th>Unit</th>\n",
       "    </tr>\n",
       "  </thead>\n",
       "  <tbody>\n",
       "    <tr>\n",
       "      <th>30</th>\n",
       "      <td>2016-17</td>\n",
       "      <td>Ethnicity/Chinese</td>\n",
       "      <td>All</td>\n",
       "      <td>All young clients</td>\n",
       "      <td>Count</td>\n",
       "      <td>7.0</td>\n",
       "      <td>People</td>\n",
       "    </tr>\n",
       "    <tr>\n",
       "      <th>32</th>\n",
       "      <td>2016-17</td>\n",
       "      <td>Ethnicity/All</td>\n",
       "      <td>All</td>\n",
       "      <td>All young clients</td>\n",
       "      <td>Count</td>\n",
       "      <td>16351.0</td>\n",
       "      <td>People</td>\n",
       "    </tr>\n",
       "    <tr>\n",
       "      <th>33</th>\n",
       "      <td>2016-17</td>\n",
       "      <td>Ethnicity/All</td>\n",
       "      <td>All</td>\n",
       "      <td>All young clients</td>\n",
       "      <td>Percentage</td>\n",
       "      <td>1.0</td>\n",
       "      <td>People</td>\n",
       "    </tr>\n",
       "    <tr>\n",
       "      <th>34</th>\n",
       "      <td>2016-17</td>\n",
       "      <td>Ethnicity/Missing or inconsistent data</td>\n",
       "      <td>All</td>\n",
       "      <td>All young clients</td>\n",
       "      <td>Count</td>\n",
       "      <td>85.0</td>\n",
       "      <td>People</td>\n",
       "    </tr>\n",
       "    <tr>\n",
       "      <th>35</th>\n",
       "      <td>2016-17</td>\n",
       "      <td>Ethnicity/All inclusice Missing or inconsisten...</td>\n",
       "      <td>All</td>\n",
       "      <td>All young clients</td>\n",
       "      <td>Count</td>\n",
       "      <td>16436.0</td>\n",
       "      <td>People</td>\n",
       "    </tr>\n",
       "  </tbody>\n",
       "</table>\n",
       "</div>"
      ],
      "text/plain": [
       "     Period                                 Basis of treatment Substance  \\\n",
       "30  2016-17                                  Ethnicity/Chinese       All   \n",
       "32  2016-17                                      Ethnicity/All       All   \n",
       "33  2016-17                                      Ethnicity/All       All   \n",
       "34  2016-17             Ethnicity/Missing or inconsistent data       All   \n",
       "35  2016-17  Ethnicity/All inclusice Missing or inconsisten...       All   \n",
       "\n",
       "   Clients in treatment Measure Type    Value    Unit  \n",
       "30    All young clients        Count      7.0  People  \n",
       "32    All young clients        Count  16351.0  People  \n",
       "33    All young clients   Percentage      1.0  People  \n",
       "34    All young clients        Count     85.0  People  \n",
       "35    All young clients        Count  16436.0  People  "
      ]
     },
     "execution_count": 24,
     "metadata": {},
     "output_type": "execute_result"
    }
   ],
   "source": [
    "new_table.tail()"
   ]
  },
  {
   "cell_type": "code",
   "execution_count": null,
   "metadata": {
    "collapsed": true
   },
   "outputs": [],
   "source": []
  }
 ],
 "metadata": {
  "kernelspec": {
   "display_name": "Python 3",
   "language": "python",
   "name": "python3"
  },
  "language_info": {
   "codemirror_mode": {
    "name": "ipython",
    "version": 3
   },
   "file_extension": ".py",
   "mimetype": "text/x-python",
   "name": "python",
   "nbconvert_exporter": "python",
   "pygments_lexer": "ipython3",
   "version": "3.6.3"
  }
 },
 "nbformat": 4,
 "nbformat_minor": 2
}
