{
 "cells": [
  {
   "cell_type": "markdown",
   "metadata": {},
   "source": [
    "2.1.1 Age and Gender"
   ]
  },
  {
   "cell_type": "markdown",
   "metadata": {},
   "source": [
    "https://www.gov.uk/government/uploads/system/uploads/attachment_data/file/664944/Young-people-statistics-data-tables-from-the-national-drug-treatment-monitoring-system-2016-2017.xls"
   ]
  },
  {
   "cell_type": "code",
   "execution_count": 1,
   "metadata": {
    "collapsed": true
   },
   "outputs": [],
   "source": [
    "from gssutils import *\n",
    "\n",
    "if is_interactive():\n",
    "    import requests\n",
    "    from cachecontrol import CacheControl\n",
    "    from cachecontrol.caches.file_cache import FileCache\n",
    "    from cachecontrol.heuristics import LastModified\n",
    "    from pathlib import Path\n",
    "\n",
    "    session = CacheControl(requests.Session(),\n",
    "                           cache=FileCache('.cache'),\n",
    "                           heuristic=LastModified())\n",
    "\n",
    "    sourceFolder = Path('in')\n",
    "    sourceFolder.mkdir(exist_ok=True)\n",
    "\n",
    "    inputURL = 'https://www.gov.uk/government/uploads/system/uploads/attachment_data/file/664944/'\\\n",
    "                    'Young-people-statistics-data-tables-from-the-national-drug-treatment-monitoring-system-2016-2017.xls'\n",
    "    inputFile = sourceFolder / 'Young-people-statistics-data-tables-from-the-national-drug-treatment-monitoring-system-2016-2017.xls'\n",
    "    response = session.get(inputURL)\n",
    "    with open(inputFile, 'wb') as f:\n",
    "      f.write(response.content)    "
   ]
  },
  {
   "cell_type": "code",
   "execution_count": 2,
   "metadata": {},
   "outputs": [
    {
     "name": "stdout",
     "output_type": "stream",
     "text": [
      "Loading in\\Young-people-statistics-data-tables-from-the-national-drug-treatment-monitoring-system-2016-2017.xls which has size 281600 bytes\n",
      "Table names: ['2.1.1 Age and Gender']\n"
     ]
    }
   ],
   "source": [
    "tab = loadxlstabs(inputFile, sheetids='2.1.1 Age and Gender')[0]"
   ]
  },
  {
   "cell_type": "code",
   "execution_count": 3,
   "metadata": {},
   "outputs": [
    {
     "data": {
      "text/plain": [
       "{<C9 0.27>, <C5 0.0>, <D6 179.0>, <C8 0.19>, <E11 0.26>, <C7 0.07>, <B6 105.0>, <F12 16436.0>, <C12 1.0>, <B9 1555.0>, <B7 396.0>, <B10 1315.0>, <F6 284.0>, <E10 0.26>, <B8 1061.0>, <E9 0.26>, <G5 0.0>, <B12 5669.0>, <C10 0.23>, <D9 2791.0>, <G7 0.06>, <D7 594.0>, <D8 1549.0>, <E6 0.02>, <G10 0.25>, <D5 56.0>, <C6 0.02>, <F11 4029.0>, <D12 10767.0>, <G9 0.26>, <B5 12.0>, <F9 4346.0>, <E8 0.14>, <E12 1.0>, <E5 0.01>, <F8 2610.0>, <F5 68.0>, <D11 2804.0>, <C11 0.22>, <F10 4109.0>, <G12 1.0>, <B11 1225.0>, <F7 990.0>, <G11 0.25>, <E7 0.06>, <G6 0.02>, <G8 0.16>, <D10 2794.0>}"
      ]
     },
     "execution_count": 3,
     "metadata": {},
     "output_type": "execute_result"
    }
   ],
   "source": [
    "observations = tab.excel_ref('B5').expand(DOWN).expand(RIGHT).is_not_blank()\n",
    "observations"
   ]
  },
  {
   "cell_type": "code",
   "execution_count": 5,
   "metadata": {},
   "outputs": [
    {
     "data": {
      "text/plain": [
       "{<A11 '17-18'>, <A9 '15-16'>, <A5 'Under 12'>, <A6 '12-13'>, <A12 'Total clients'>, <A7 '13-14'>, <A8 '14-15'>, <A10 '16-17'>}"
      ]
     },
     "execution_count": 5,
     "metadata": {},
     "output_type": "execute_result"
    }
   ],
   "source": [
    "age = tab.excel_ref('A5').expand(DOWN).is_not_blank()\n",
    "age"
   ]
  },
  {
   "cell_type": "code",
   "execution_count": 6,
   "metadata": {},
   "outputs": [
    {
     "data": {
      "text/plain": [
       "{<D3 'Male'>, <B3 'Female'>, <F3 'Persons'>}"
      ]
     },
     "execution_count": 6,
     "metadata": {},
     "output_type": "execute_result"
    }
   ],
   "source": [
    "sex = tab.excel_ref('B3').expand(RIGHT).is_not_blank() \n",
    "sex"
   ]
  },
  {
   "cell_type": "code",
   "execution_count": 7,
   "metadata": {},
   "outputs": [
    {
     "data": {
      "text/plain": [
       "{<B4 'n'>, <G4 '%'>, <D4 'n'>, <E4 '%'>, <C4 '%'>, <F4 'n'>}"
      ]
     },
     "execution_count": 7,
     "metadata": {},
     "output_type": "execute_result"
    }
   ],
   "source": [
    "measuretype = tab.excel_ref('B4').expand(RIGHT).is_not_blank() \n",
    "measuretype"
   ]
  },
  {
   "cell_type": "code",
   "execution_count": null,
   "metadata": {
    "collapsed": true
   },
   "outputs": [],
   "source": [
    "Dimensions = [\n",
    "            HDim(clients,'Clients in treatment',CLOSEST,ABOVE),\n",
    "            HDimConst('Measure Type','Count'),\n",
    "            HDim(treatmentstatus, 'Treatment Status',DIRECTLY,LEFT),\n",
    "            HDim(period, 'Period',DIRECTLY,ABOVE),\n",
    "            HDimConst('Unit','People')            \n",
    "            ]"
   ]
  },
  {
   "cell_type": "code",
   "execution_count": null,
   "metadata": {
    "collapsed": true
   },
   "outputs": [],
   "source": [
    "c1 = ConversionSegment(observations, Dimensions, processTIMEUNIT=True)\n",
    "# if is_interactive():\n",
    "#     savepreviewhtml(c1)"
   ]
  },
  {
   "cell_type": "code",
   "execution_count": null,
   "metadata": {},
   "outputs": [],
   "source": [
    "new_table = c1.topandas()\n",
    "new_table"
   ]
  },
  {
   "cell_type": "code",
   "execution_count": null,
   "metadata": {
    "collapsed": true
   },
   "outputs": [],
   "source": [
    "new_table = new_table[new_table['OBS'] != 0 ]"
   ]
  },
  {
   "cell_type": "code",
   "execution_count": null,
   "metadata": {
    "collapsed": true
   },
   "outputs": [],
   "source": [
    "new_table.columns = ['Value' if x=='OBS' else x for x in new_table.columns]"
   ]
  },
  {
   "cell_type": "code",
   "execution_count": null,
   "metadata": {},
   "outputs": [],
   "source": [
    "new_table.head()"
   ]
  },
  {
   "cell_type": "code",
   "execution_count": null,
   "metadata": {},
   "outputs": [],
   "source": [
    "new_table['Measure Type'].unique()"
   ]
  },
  {
   "cell_type": "code",
   "execution_count": null,
   "metadata": {},
   "outputs": [],
   "source": [
    "new_table.tail()"
   ]
  },
  {
   "cell_type": "code",
   "execution_count": null,
   "metadata": {},
   "outputs": [],
   "source": [
    "new_table.dtypes"
   ]
  },
  {
   "cell_type": "code",
   "execution_count": null,
   "metadata": {
    "collapsed": true
   },
   "outputs": [],
   "source": [
    "new_table['Value'] = new_table['Value'].astype(str)"
   ]
  },
  {
   "cell_type": "code",
   "execution_count": null,
   "metadata": {},
   "outputs": [],
   "source": [
    "new_table.head(3)"
   ]
  },
  {
   "cell_type": "code",
   "execution_count": null,
   "metadata": {
    "collapsed": true
   },
   "outputs": [],
   "source": [
    "def user_perc(x,y):\n",
    "    \n",
    "    if str(x) == '%':\n",
    "        return 'Percentage'\n",
    "    else:\n",
    "        return y\n",
    "    \n",
    "new_table['Measure Type'] = new_table.apply(lambda row: user_perc(row['Period'],row['Measure Type']), axis = 1)\n"
   ]
  },
  {
   "cell_type": "code",
   "execution_count": null,
   "metadata": {
    "collapsed": true
   },
   "outputs": [],
   "source": [
    "new_table['Period'] = new_table['Period'].map(\n",
    "    lambda x: {\n",
    "        'Total' : 'All years',\n",
    "        '%'     : 'All years'\n",
    "        }.get(x, x))"
   ]
  },
  {
   "cell_type": "code",
   "execution_count": null,
   "metadata": {},
   "outputs": [],
   "source": [
    "new_table.tail()"
   ]
  },
  {
   "cell_type": "code",
   "execution_count": null,
   "metadata": {
    "collapsed": true
   },
   "outputs": [],
   "source": [
    "new_table = new_table[['Period','Treatment Status','Clients in treatment','Measure Type','Value','Unit']]"
   ]
  },
  {
   "cell_type": "code",
   "execution_count": null,
   "metadata": {
    "collapsed": true
   },
   "outputs": [],
   "source": [
    "if is_interactive():\n",
    "    SubstancetinationFolder = Path('out')\n",
    "    SubstancetinationFolder.mkdir(exist_ok=True, parents=True)\n",
    "    new_table.to_csv(SubstancetinationFolder / ('Appendix B.csv'), index = False)"
   ]
  },
  {
   "cell_type": "code",
   "execution_count": null,
   "metadata": {
    "collapsed": true
   },
   "outputs": [],
   "source": []
  }
 ],
 "metadata": {
  "kernelspec": {
   "display_name": "Python 3",
   "language": "python",
   "name": "python3"
  },
  "language_info": {
   "codemirror_mode": {
    "name": "ipython",
    "version": 3
   },
   "file_extension": ".py",
   "mimetype": "text/x-python",
   "name": "python",
   "nbconvert_exporter": "python",
   "pygments_lexer": "ipython3",
   "version": "3.6.3"
  }
 },
 "nbformat": 4,
 "nbformat_minor": 2
}
