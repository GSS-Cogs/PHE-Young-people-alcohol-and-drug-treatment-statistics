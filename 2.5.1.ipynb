{
 "cells": [
  {
   "cell_type": "markdown",
   "metadata": {},
   "source": [
    "Table 2.4.1: Source of referral of all treatment episodes 2016-17"
   ]
  },
  {
   "cell_type": "code",
   "execution_count": 1,
   "metadata": {
    "collapsed": true
   },
   "outputs": [],
   "source": [
    "from gssutils import *\n",
    "\n",
    "if is_interactive():\n",
    "    import requests\n",
    "    from cachecontrol import CacheControl\n",
    "    from cachecontrol.caches.file_cache import FileCache\n",
    "    from cachecontrol.heuristics import LastModified\n",
    "    from pathlib import Path\n",
    "\n",
    "    session = CacheControl(requests.Session(),\n",
    "                           cache=FileCache('.cache'),\n",
    "                           heuristic=LastModified())\n",
    "\n",
    "    sourceFolder = Path('in')\n",
    "    sourceFolder.mkdir(exist_ok=True)\n",
    "\n",
    "    inputURL = 'https://www.gov.uk/government/uploads/system/uploads/attachment_data/file/664944/'\\\n",
    "                    'Young-people-statistics-data-tables-from-the-national-drug-treatment-monitoring-system-2016-2017.xls'\n",
    "    inputFile = sourceFolder / 'Young-people-statistics-data-tables-from-the-national-drug-treatment-monitoring-system-2016-2017.xls'\n",
    "    response = session.get(inputURL)\n",
    "    with open(inputFile, 'wb') as f:\n",
    "      f.write(response.content)    "
   ]
  },
  {
   "cell_type": "code",
   "execution_count": 2,
   "metadata": {},
   "outputs": [
    {
     "name": "stdout",
     "output_type": "stream",
     "text": [
      "Loading in\\Young-people-statistics-data-tables-from-the-national-drug-treatment-monitoring-system-2016-2017.xls which has size 281600 bytes\n",
      "Table names: ['2.5.1 Education & Employment']\n"
     ]
    }
   ],
   "source": [
    "tab = loadxlstabs(inputFile, sheetids='2.5.1 Education & Employment')[0]"
   ]
  },
  {
   "cell_type": "code",
   "execution_count": 3,
   "metadata": {},
   "outputs": [
    {
     "data": {
      "text/plain": [
       "{<B11 12.0>, <B9 228.0>, <C11 0.0>, <C7 0.04>, <B7 432.0>, <B12 11392.0>, <C12 1.0>, <B6 1788.0>, <B5 2199.0>, <B13 361.0>, <B14 11753.0>, <B4 6389.0>, <C9 0.02>, <B10 15.0>, <C8 0.03>, <C10 0.0>, <C4 0.56>, <C6 0.16>, <B8 329.0>, <C5 0.19>}"
      ]
     },
     "execution_count": 3,
     "metadata": {},
     "output_type": "execute_result"
    }
   ],
   "source": [
    "observations = tab.excel_ref('B4').expand(DOWN).expand(RIGHT).is_not_blank()\n",
    "observations"
   ]
  },
  {
   "cell_type": "code",
   "execution_count": 4,
   "metadata": {},
   "outputs": [
    {
     "data": {
      "text/plain": [
       "{<A8 'Employed'>, <A10 'Economically inactive – health issue or caring role'>, <A14 'Total new presentations'>, <A9 'Persistent absentee or excluded'>, <A13 'Missing or inconsistent data'>, <A12 'Total'>, <A7 'Apprenticeship or training'>, <A6 'Not in employment or education or training (NEET)'>, <A11 'Voluntary work'>, <A5 'Alternative education'>, <A4 'Mainstream education'>}"
      ]
     },
     "execution_count": 4,
     "metadata": {},
     "output_type": "execute_result"
    }
   ],
   "source": [
    "referral = tab.excel_ref('A4').expand(DOWN).is_not_blank() \n",
    "referral"
   ]
  },
  {
   "cell_type": "code",
   "execution_count": 5,
   "metadata": {},
   "outputs": [
    {
     "data": {
      "text/plain": [
       "{<C3 '%'>, <B3 'n'>}"
      ]
     },
     "execution_count": 5,
     "metadata": {},
     "output_type": "execute_result"
    }
   ],
   "source": [
    "measuretype = tab.excel_ref('B3').expand(RIGHT).is_not_blank() \n",
    "measuretype"
   ]
  },
  {
   "cell_type": "code",
   "execution_count": 6,
   "metadata": {
    "collapsed": true
   },
   "outputs": [],
   "source": [
    "Dimensions = [\n",
    "            HDimConst('Substance','All'),\n",
    "            HDim(referral,'Basis of treatment',DIRECTLY,LEFT),\n",
    "            HDim(measuretype,'Measure Type',DIRECTLY,ABOVE),\n",
    "            HDimConst('Unit','People')            \n",
    "            ]"
   ]
  },
  {
   "cell_type": "code",
   "execution_count": 7,
   "metadata": {
    "collapsed": true
   },
   "outputs": [],
   "source": [
    "c1 = ConversionSegment(observations, Dimensions, processTIMEUNIT=True)\n",
    "# if is_interactive():\n",
    "#     savepreviewhtml(c1)"
   ]
  },
  {
   "cell_type": "code",
   "execution_count": 8,
   "metadata": {},
   "outputs": [
    {
     "name": "stdout",
     "output_type": "stream",
     "text": [
      "\n"
     ]
    },
    {
     "data": {
      "text/html": [
       "<div>\n",
       "<style scoped>\n",
       "    .dataframe tbody tr th:only-of-type {\n",
       "        vertical-align: middle;\n",
       "    }\n",
       "\n",
       "    .dataframe tbody tr th {\n",
       "        vertical-align: top;\n",
       "    }\n",
       "\n",
       "    .dataframe thead th {\n",
       "        text-align: right;\n",
       "    }\n",
       "</style>\n",
       "<table border=\"1\" class=\"dataframe\">\n",
       "  <thead>\n",
       "    <tr style=\"text-align: right;\">\n",
       "      <th></th>\n",
       "      <th>OBS</th>\n",
       "      <th>Substance</th>\n",
       "      <th>Basis of treatment</th>\n",
       "      <th>Measure Type</th>\n",
       "      <th>Unit</th>\n",
       "    </tr>\n",
       "  </thead>\n",
       "  <tbody>\n",
       "    <tr>\n",
       "      <th>0</th>\n",
       "      <td>6389.00</td>\n",
       "      <td>All</td>\n",
       "      <td>Mainstream education</td>\n",
       "      <td>n</td>\n",
       "      <td>People</td>\n",
       "    </tr>\n",
       "    <tr>\n",
       "      <th>1</th>\n",
       "      <td>0.56</td>\n",
       "      <td>All</td>\n",
       "      <td>Mainstream education</td>\n",
       "      <td>%</td>\n",
       "      <td>People</td>\n",
       "    </tr>\n",
       "    <tr>\n",
       "      <th>2</th>\n",
       "      <td>2199.00</td>\n",
       "      <td>All</td>\n",
       "      <td>Alternative education</td>\n",
       "      <td>n</td>\n",
       "      <td>People</td>\n",
       "    </tr>\n",
       "    <tr>\n",
       "      <th>3</th>\n",
       "      <td>0.19</td>\n",
       "      <td>All</td>\n",
       "      <td>Alternative education</td>\n",
       "      <td>%</td>\n",
       "      <td>People</td>\n",
       "    </tr>\n",
       "    <tr>\n",
       "      <th>4</th>\n",
       "      <td>1788.00</td>\n",
       "      <td>All</td>\n",
       "      <td>Not in employment or education or training (NEET)</td>\n",
       "      <td>n</td>\n",
       "      <td>People</td>\n",
       "    </tr>\n",
       "    <tr>\n",
       "      <th>5</th>\n",
       "      <td>0.16</td>\n",
       "      <td>All</td>\n",
       "      <td>Not in employment or education or training (NEET)</td>\n",
       "      <td>%</td>\n",
       "      <td>People</td>\n",
       "    </tr>\n",
       "    <tr>\n",
       "      <th>6</th>\n",
       "      <td>432.00</td>\n",
       "      <td>All</td>\n",
       "      <td>Apprenticeship or training</td>\n",
       "      <td>n</td>\n",
       "      <td>People</td>\n",
       "    </tr>\n",
       "    <tr>\n",
       "      <th>7</th>\n",
       "      <td>0.04</td>\n",
       "      <td>All</td>\n",
       "      <td>Apprenticeship or training</td>\n",
       "      <td>%</td>\n",
       "      <td>People</td>\n",
       "    </tr>\n",
       "    <tr>\n",
       "      <th>8</th>\n",
       "      <td>329.00</td>\n",
       "      <td>All</td>\n",
       "      <td>Employed</td>\n",
       "      <td>n</td>\n",
       "      <td>People</td>\n",
       "    </tr>\n",
       "    <tr>\n",
       "      <th>9</th>\n",
       "      <td>0.03</td>\n",
       "      <td>All</td>\n",
       "      <td>Employed</td>\n",
       "      <td>%</td>\n",
       "      <td>People</td>\n",
       "    </tr>\n",
       "    <tr>\n",
       "      <th>10</th>\n",
       "      <td>228.00</td>\n",
       "      <td>All</td>\n",
       "      <td>Persistent absentee or excluded</td>\n",
       "      <td>n</td>\n",
       "      <td>People</td>\n",
       "    </tr>\n",
       "    <tr>\n",
       "      <th>11</th>\n",
       "      <td>0.02</td>\n",
       "      <td>All</td>\n",
       "      <td>Persistent absentee or excluded</td>\n",
       "      <td>%</td>\n",
       "      <td>People</td>\n",
       "    </tr>\n",
       "    <tr>\n",
       "      <th>12</th>\n",
       "      <td>15.00</td>\n",
       "      <td>All</td>\n",
       "      <td>Economically inactive – health issue or caring...</td>\n",
       "      <td>n</td>\n",
       "      <td>People</td>\n",
       "    </tr>\n",
       "    <tr>\n",
       "      <th>13</th>\n",
       "      <td>0.00</td>\n",
       "      <td>All</td>\n",
       "      <td>Economically inactive – health issue or caring...</td>\n",
       "      <td>%</td>\n",
       "      <td>People</td>\n",
       "    </tr>\n",
       "    <tr>\n",
       "      <th>14</th>\n",
       "      <td>12.00</td>\n",
       "      <td>All</td>\n",
       "      <td>Voluntary work</td>\n",
       "      <td>n</td>\n",
       "      <td>People</td>\n",
       "    </tr>\n",
       "    <tr>\n",
       "      <th>15</th>\n",
       "      <td>0.00</td>\n",
       "      <td>All</td>\n",
       "      <td>Voluntary work</td>\n",
       "      <td>%</td>\n",
       "      <td>People</td>\n",
       "    </tr>\n",
       "    <tr>\n",
       "      <th>16</th>\n",
       "      <td>11392.00</td>\n",
       "      <td>All</td>\n",
       "      <td>Total</td>\n",
       "      <td>n</td>\n",
       "      <td>People</td>\n",
       "    </tr>\n",
       "    <tr>\n",
       "      <th>17</th>\n",
       "      <td>1.00</td>\n",
       "      <td>All</td>\n",
       "      <td>Total</td>\n",
       "      <td>%</td>\n",
       "      <td>People</td>\n",
       "    </tr>\n",
       "    <tr>\n",
       "      <th>18</th>\n",
       "      <td>361.00</td>\n",
       "      <td>All</td>\n",
       "      <td>Missing or inconsistent data</td>\n",
       "      <td>n</td>\n",
       "      <td>People</td>\n",
       "    </tr>\n",
       "    <tr>\n",
       "      <th>19</th>\n",
       "      <td>11753.00</td>\n",
       "      <td>All</td>\n",
       "      <td>Total new presentations</td>\n",
       "      <td>n</td>\n",
       "      <td>People</td>\n",
       "    </tr>\n",
       "  </tbody>\n",
       "</table>\n",
       "</div>"
      ],
      "text/plain": [
       "         OBS Substance                                 Basis of treatment  \\\n",
       "0    6389.00       All                               Mainstream education   \n",
       "1       0.56       All                               Mainstream education   \n",
       "2    2199.00       All                              Alternative education   \n",
       "3       0.19       All                              Alternative education   \n",
       "4    1788.00       All  Not in employment or education or training (NEET)   \n",
       "5       0.16       All  Not in employment or education or training (NEET)   \n",
       "6     432.00       All                         Apprenticeship or training   \n",
       "7       0.04       All                         Apprenticeship or training   \n",
       "8     329.00       All                                           Employed   \n",
       "9       0.03       All                                           Employed   \n",
       "10    228.00       All                    Persistent absentee or excluded   \n",
       "11      0.02       All                    Persistent absentee or excluded   \n",
       "12     15.00       All  Economically inactive – health issue or caring...   \n",
       "13      0.00       All  Economically inactive – health issue or caring...   \n",
       "14     12.00       All                                     Voluntary work   \n",
       "15      0.00       All                                     Voluntary work   \n",
       "16  11392.00       All                                              Total   \n",
       "17      1.00       All                                              Total   \n",
       "18    361.00       All                       Missing or inconsistent data   \n",
       "19  11753.00       All                            Total new presentations   \n",
       "\n",
       "   Measure Type    Unit  \n",
       "0             n  People  \n",
       "1             %  People  \n",
       "2             n  People  \n",
       "3             %  People  \n",
       "4             n  People  \n",
       "5             %  People  \n",
       "6             n  People  \n",
       "7             %  People  \n",
       "8             n  People  \n",
       "9             %  People  \n",
       "10            n  People  \n",
       "11            %  People  \n",
       "12            n  People  \n",
       "13            %  People  \n",
       "14            n  People  \n",
       "15            %  People  \n",
       "16            n  People  \n",
       "17            %  People  \n",
       "18            n  People  \n",
       "19            n  People  "
      ]
     },
     "execution_count": 8,
     "metadata": {},
     "output_type": "execute_result"
    }
   ],
   "source": [
    "new_table = c1.topandas()\n",
    "new_table"
   ]
  },
  {
   "cell_type": "code",
   "execution_count": 9,
   "metadata": {
    "collapsed": true
   },
   "outputs": [],
   "source": [
    "new_table = new_table[new_table['OBS'] != 0 ]"
   ]
  },
  {
   "cell_type": "code",
   "execution_count": 10,
   "metadata": {
    "collapsed": true
   },
   "outputs": [],
   "source": [
    "new_table.columns = ['Value' if x=='OBS' else x for x in new_table.columns]"
   ]
  },
  {
   "cell_type": "code",
   "execution_count": 11,
   "metadata": {},
   "outputs": [
    {
     "name": "stderr",
     "output_type": "stream",
     "text": [
      "C:\\ProgramData\\Anaconda3\\lib\\site-packages\\ipykernel_launcher.py:2: SettingWithCopyWarning: \n",
      "A value is trying to be set on a copy of a slice from a DataFrame.\n",
      "Try using .loc[row_indexer,col_indexer] = value instead\n",
      "\n",
      "See the caveats in the documentation: http://pandas.pydata.org/pandas-docs/stable/indexing.html#indexing-view-versus-copy\n",
      "  \n"
     ]
    }
   ],
   "source": [
    "new_table['Basis of treatment'] = new_table['Basis of treatment'].map(\n",
    "    lambda x: {\n",
    "        'Total' : 'All' \n",
    "        }.get(x, x))"
   ]
  },
  {
   "cell_type": "code",
   "execution_count": 12,
   "metadata": {},
   "outputs": [
    {
     "name": "stderr",
     "output_type": "stream",
     "text": [
      "C:\\ProgramData\\Anaconda3\\lib\\site-packages\\ipykernel_launcher.py:1: SettingWithCopyWarning: \n",
      "A value is trying to be set on a copy of a slice from a DataFrame.\n",
      "Try using .loc[row_indexer,col_indexer] = value instead\n",
      "\n",
      "See the caveats in the documentation: http://pandas.pydata.org/pandas-docs/stable/indexing.html#indexing-view-versus-copy\n",
      "  \"\"\"Entry point for launching an IPython kernel.\n"
     ]
    }
   ],
   "source": [
    "new_table['Basis of treatment'] = 'Education and employment status/' + new_table['Basis of treatment']"
   ]
  },
  {
   "cell_type": "code",
   "execution_count": 13,
   "metadata": {},
   "outputs": [
    {
     "data": {
      "text/html": [
       "<div>\n",
       "<style scoped>\n",
       "    .dataframe tbody tr th:only-of-type {\n",
       "        vertical-align: middle;\n",
       "    }\n",
       "\n",
       "    .dataframe tbody tr th {\n",
       "        vertical-align: top;\n",
       "    }\n",
       "\n",
       "    .dataframe thead th {\n",
       "        text-align: right;\n",
       "    }\n",
       "</style>\n",
       "<table border=\"1\" class=\"dataframe\">\n",
       "  <thead>\n",
       "    <tr style=\"text-align: right;\">\n",
       "      <th></th>\n",
       "      <th>Value</th>\n",
       "      <th>Substance</th>\n",
       "      <th>Basis of treatment</th>\n",
       "      <th>Measure Type</th>\n",
       "      <th>Unit</th>\n",
       "    </tr>\n",
       "  </thead>\n",
       "  <tbody>\n",
       "    <tr>\n",
       "      <th>0</th>\n",
       "      <td>6389.00</td>\n",
       "      <td>All</td>\n",
       "      <td>Education and employment status/Mainstream edu...</td>\n",
       "      <td>n</td>\n",
       "      <td>People</td>\n",
       "    </tr>\n",
       "    <tr>\n",
       "      <th>1</th>\n",
       "      <td>0.56</td>\n",
       "      <td>All</td>\n",
       "      <td>Education and employment status/Mainstream edu...</td>\n",
       "      <td>%</td>\n",
       "      <td>People</td>\n",
       "    </tr>\n",
       "    <tr>\n",
       "      <th>2</th>\n",
       "      <td>2199.00</td>\n",
       "      <td>All</td>\n",
       "      <td>Education and employment status/Alternative ed...</td>\n",
       "      <td>n</td>\n",
       "      <td>People</td>\n",
       "    </tr>\n",
       "    <tr>\n",
       "      <th>3</th>\n",
       "      <td>0.19</td>\n",
       "      <td>All</td>\n",
       "      <td>Education and employment status/Alternative ed...</td>\n",
       "      <td>%</td>\n",
       "      <td>People</td>\n",
       "    </tr>\n",
       "    <tr>\n",
       "      <th>4</th>\n",
       "      <td>1788.00</td>\n",
       "      <td>All</td>\n",
       "      <td>Education and employment status/Not in employm...</td>\n",
       "      <td>n</td>\n",
       "      <td>People</td>\n",
       "    </tr>\n",
       "  </tbody>\n",
       "</table>\n",
       "</div>"
      ],
      "text/plain": [
       "     Value Substance                                 Basis of treatment  \\\n",
       "0  6389.00       All  Education and employment status/Mainstream edu...   \n",
       "1     0.56       All  Education and employment status/Mainstream edu...   \n",
       "2  2199.00       All  Education and employment status/Alternative ed...   \n",
       "3     0.19       All  Education and employment status/Alternative ed...   \n",
       "4  1788.00       All  Education and employment status/Not in employm...   \n",
       "\n",
       "  Measure Type    Unit  \n",
       "0            n  People  \n",
       "1            %  People  \n",
       "2            n  People  \n",
       "3            %  People  \n",
       "4            n  People  "
      ]
     },
     "execution_count": 13,
     "metadata": {},
     "output_type": "execute_result"
    }
   ],
   "source": [
    "new_table.head()"
   ]
  },
  {
   "cell_type": "code",
   "execution_count": 14,
   "metadata": {},
   "outputs": [
    {
     "name": "stderr",
     "output_type": "stream",
     "text": [
      "C:\\ProgramData\\Anaconda3\\lib\\site-packages\\ipykernel_launcher.py:1: SettingWithCopyWarning: \n",
      "A value is trying to be set on a copy of a slice from a DataFrame.\n",
      "Try using .loc[row_indexer,col_indexer] = value instead\n",
      "\n",
      "See the caveats in the documentation: http://pandas.pydata.org/pandas-docs/stable/indexing.html#indexing-view-versus-copy\n",
      "  \"\"\"Entry point for launching an IPython kernel.\n"
     ]
    }
   ],
   "source": [
    "new_table['Clients in treatment'] = 'All young clients'"
   ]
  },
  {
   "cell_type": "code",
   "execution_count": 15,
   "metadata": {
    "scrolled": true
   },
   "outputs": [
    {
     "data": {
      "text/html": [
       "<div>\n",
       "<style scoped>\n",
       "    .dataframe tbody tr th:only-of-type {\n",
       "        vertical-align: middle;\n",
       "    }\n",
       "\n",
       "    .dataframe tbody tr th {\n",
       "        vertical-align: top;\n",
       "    }\n",
       "\n",
       "    .dataframe thead th {\n",
       "        text-align: right;\n",
       "    }\n",
       "</style>\n",
       "<table border=\"1\" class=\"dataframe\">\n",
       "  <thead>\n",
       "    <tr style=\"text-align: right;\">\n",
       "      <th></th>\n",
       "      <th>Value</th>\n",
       "      <th>Substance</th>\n",
       "      <th>Basis of treatment</th>\n",
       "      <th>Measure Type</th>\n",
       "      <th>Unit</th>\n",
       "      <th>Clients in treatment</th>\n",
       "    </tr>\n",
       "  </thead>\n",
       "  <tbody>\n",
       "    <tr>\n",
       "      <th>0</th>\n",
       "      <td>6389.00</td>\n",
       "      <td>All</td>\n",
       "      <td>Education and employment status/Mainstream edu...</td>\n",
       "      <td>n</td>\n",
       "      <td>People</td>\n",
       "      <td>All young clients</td>\n",
       "    </tr>\n",
       "    <tr>\n",
       "      <th>1</th>\n",
       "      <td>0.56</td>\n",
       "      <td>All</td>\n",
       "      <td>Education and employment status/Mainstream edu...</td>\n",
       "      <td>%</td>\n",
       "      <td>People</td>\n",
       "      <td>All young clients</td>\n",
       "    </tr>\n",
       "    <tr>\n",
       "      <th>2</th>\n",
       "      <td>2199.00</td>\n",
       "      <td>All</td>\n",
       "      <td>Education and employment status/Alternative ed...</td>\n",
       "      <td>n</td>\n",
       "      <td>People</td>\n",
       "      <td>All young clients</td>\n",
       "    </tr>\n",
       "    <tr>\n",
       "      <th>3</th>\n",
       "      <td>0.19</td>\n",
       "      <td>All</td>\n",
       "      <td>Education and employment status/Alternative ed...</td>\n",
       "      <td>%</td>\n",
       "      <td>People</td>\n",
       "      <td>All young clients</td>\n",
       "    </tr>\n",
       "    <tr>\n",
       "      <th>4</th>\n",
       "      <td>1788.00</td>\n",
       "      <td>All</td>\n",
       "      <td>Education and employment status/Not in employm...</td>\n",
       "      <td>n</td>\n",
       "      <td>People</td>\n",
       "      <td>All young clients</td>\n",
       "    </tr>\n",
       "  </tbody>\n",
       "</table>\n",
       "</div>"
      ],
      "text/plain": [
       "     Value Substance                                 Basis of treatment  \\\n",
       "0  6389.00       All  Education and employment status/Mainstream edu...   \n",
       "1     0.56       All  Education and employment status/Mainstream edu...   \n",
       "2  2199.00       All  Education and employment status/Alternative ed...   \n",
       "3     0.19       All  Education and employment status/Alternative ed...   \n",
       "4  1788.00       All  Education and employment status/Not in employm...   \n",
       "\n",
       "  Measure Type    Unit Clients in treatment  \n",
       "0            n  People    All young clients  \n",
       "1            %  People    All young clients  \n",
       "2            n  People    All young clients  \n",
       "3            %  People    All young clients  \n",
       "4            n  People    All young clients  "
      ]
     },
     "execution_count": 15,
     "metadata": {},
     "output_type": "execute_result"
    }
   ],
   "source": [
    "new_table.head()"
   ]
  },
  {
   "cell_type": "code",
   "execution_count": 16,
   "metadata": {},
   "outputs": [
    {
     "name": "stderr",
     "output_type": "stream",
     "text": [
      "C:\\ProgramData\\Anaconda3\\lib\\site-packages\\ipykernel_launcher.py:2: SettingWithCopyWarning: \n",
      "A value is trying to be set on a copy of a slice from a DataFrame.\n",
      "Try using .loc[row_indexer,col_indexer] = value instead\n",
      "\n",
      "See the caveats in the documentation: http://pandas.pydata.org/pandas-docs/stable/indexing.html#indexing-view-versus-copy\n",
      "  \n"
     ]
    }
   ],
   "source": [
    "new_table['Measure Type'] = new_table['Measure Type'].map(\n",
    "    lambda x: {\n",
    "        'n' : 'Count', \n",
    "        '%' : 'Percentage',\n",
    "        }.get(x, x))"
   ]
  },
  {
   "cell_type": "code",
   "execution_count": 17,
   "metadata": {},
   "outputs": [
    {
     "data": {
      "text/html": [
       "<div>\n",
       "<style scoped>\n",
       "    .dataframe tbody tr th:only-of-type {\n",
       "        vertical-align: middle;\n",
       "    }\n",
       "\n",
       "    .dataframe tbody tr th {\n",
       "        vertical-align: top;\n",
       "    }\n",
       "\n",
       "    .dataframe thead th {\n",
       "        text-align: right;\n",
       "    }\n",
       "</style>\n",
       "<table border=\"1\" class=\"dataframe\">\n",
       "  <thead>\n",
       "    <tr style=\"text-align: right;\">\n",
       "      <th></th>\n",
       "      <th>Value</th>\n",
       "      <th>Substance</th>\n",
       "      <th>Basis of treatment</th>\n",
       "      <th>Measure Type</th>\n",
       "      <th>Unit</th>\n",
       "      <th>Clients in treatment</th>\n",
       "    </tr>\n",
       "  </thead>\n",
       "  <tbody>\n",
       "    <tr>\n",
       "      <th>14</th>\n",
       "      <td>12.0</td>\n",
       "      <td>All</td>\n",
       "      <td>Education and employment status/Voluntary work</td>\n",
       "      <td>Count</td>\n",
       "      <td>People</td>\n",
       "      <td>All young clients</td>\n",
       "    </tr>\n",
       "    <tr>\n",
       "      <th>16</th>\n",
       "      <td>11392.0</td>\n",
       "      <td>All</td>\n",
       "      <td>Education and employment status/All</td>\n",
       "      <td>Count</td>\n",
       "      <td>People</td>\n",
       "      <td>All young clients</td>\n",
       "    </tr>\n",
       "    <tr>\n",
       "      <th>17</th>\n",
       "      <td>1.0</td>\n",
       "      <td>All</td>\n",
       "      <td>Education and employment status/All</td>\n",
       "      <td>Percentage</td>\n",
       "      <td>People</td>\n",
       "      <td>All young clients</td>\n",
       "    </tr>\n",
       "    <tr>\n",
       "      <th>18</th>\n",
       "      <td>361.0</td>\n",
       "      <td>All</td>\n",
       "      <td>Education and employment status/Missing or inc...</td>\n",
       "      <td>Count</td>\n",
       "      <td>People</td>\n",
       "      <td>All young clients</td>\n",
       "    </tr>\n",
       "    <tr>\n",
       "      <th>19</th>\n",
       "      <td>11753.0</td>\n",
       "      <td>All</td>\n",
       "      <td>Education and employment status/Total new pres...</td>\n",
       "      <td>Count</td>\n",
       "      <td>People</td>\n",
       "      <td>All young clients</td>\n",
       "    </tr>\n",
       "  </tbody>\n",
       "</table>\n",
       "</div>"
      ],
      "text/plain": [
       "      Value Substance                                 Basis of treatment  \\\n",
       "14     12.0       All     Education and employment status/Voluntary work   \n",
       "16  11392.0       All                Education and employment status/All   \n",
       "17      1.0       All                Education and employment status/All   \n",
       "18    361.0       All  Education and employment status/Missing or inc...   \n",
       "19  11753.0       All  Education and employment status/Total new pres...   \n",
       "\n",
       "   Measure Type    Unit Clients in treatment  \n",
       "14        Count  People    All young clients  \n",
       "16        Count  People    All young clients  \n",
       "17   Percentage  People    All young clients  \n",
       "18        Count  People    All young clients  \n",
       "19        Count  People    All young clients  "
      ]
     },
     "execution_count": 17,
     "metadata": {},
     "output_type": "execute_result"
    }
   ],
   "source": [
    "new_table.tail()"
   ]
  },
  {
   "cell_type": "code",
   "execution_count": 18,
   "metadata": {},
   "outputs": [
    {
     "data": {
      "text/plain": [
       "Value                   float64\n",
       "Substance                object\n",
       "Basis of treatment       object\n",
       "Measure Type             object\n",
       "Unit                     object\n",
       "Clients in treatment     object\n",
       "dtype: object"
      ]
     },
     "execution_count": 18,
     "metadata": {},
     "output_type": "execute_result"
    }
   ],
   "source": [
    "new_table.dtypes"
   ]
  },
  {
   "cell_type": "code",
   "execution_count": 19,
   "metadata": {},
   "outputs": [
    {
     "name": "stderr",
     "output_type": "stream",
     "text": [
      "C:\\ProgramData\\Anaconda3\\lib\\site-packages\\ipykernel_launcher.py:1: SettingWithCopyWarning: \n",
      "A value is trying to be set on a copy of a slice from a DataFrame.\n",
      "Try using .loc[row_indexer,col_indexer] = value instead\n",
      "\n",
      "See the caveats in the documentation: http://pandas.pydata.org/pandas-docs/stable/indexing.html#indexing-view-versus-copy\n",
      "  \"\"\"Entry point for launching an IPython kernel.\n"
     ]
    }
   ],
   "source": [
    "new_table['Value'] = new_table['Value'].astype(str)"
   ]
  },
  {
   "cell_type": "code",
   "execution_count": 20,
   "metadata": {},
   "outputs": [
    {
     "data": {
      "text/html": [
       "<div>\n",
       "<style scoped>\n",
       "    .dataframe tbody tr th:only-of-type {\n",
       "        vertical-align: middle;\n",
       "    }\n",
       "\n",
       "    .dataframe tbody tr th {\n",
       "        vertical-align: top;\n",
       "    }\n",
       "\n",
       "    .dataframe thead th {\n",
       "        text-align: right;\n",
       "    }\n",
       "</style>\n",
       "<table border=\"1\" class=\"dataframe\">\n",
       "  <thead>\n",
       "    <tr style=\"text-align: right;\">\n",
       "      <th></th>\n",
       "      <th>Value</th>\n",
       "      <th>Substance</th>\n",
       "      <th>Basis of treatment</th>\n",
       "      <th>Measure Type</th>\n",
       "      <th>Unit</th>\n",
       "      <th>Clients in treatment</th>\n",
       "    </tr>\n",
       "  </thead>\n",
       "  <tbody>\n",
       "    <tr>\n",
       "      <th>0</th>\n",
       "      <td>6389.0</td>\n",
       "      <td>All</td>\n",
       "      <td>Education and employment status/Mainstream edu...</td>\n",
       "      <td>Count</td>\n",
       "      <td>People</td>\n",
       "      <td>All young clients</td>\n",
       "    </tr>\n",
       "    <tr>\n",
       "      <th>1</th>\n",
       "      <td>0.56</td>\n",
       "      <td>All</td>\n",
       "      <td>Education and employment status/Mainstream edu...</td>\n",
       "      <td>Percentage</td>\n",
       "      <td>People</td>\n",
       "      <td>All young clients</td>\n",
       "    </tr>\n",
       "    <tr>\n",
       "      <th>2</th>\n",
       "      <td>2199.0</td>\n",
       "      <td>All</td>\n",
       "      <td>Education and employment status/Alternative ed...</td>\n",
       "      <td>Count</td>\n",
       "      <td>People</td>\n",
       "      <td>All young clients</td>\n",
       "    </tr>\n",
       "  </tbody>\n",
       "</table>\n",
       "</div>"
      ],
      "text/plain": [
       "    Value Substance                                 Basis of treatment  \\\n",
       "0  6389.0       All  Education and employment status/Mainstream edu...   \n",
       "1    0.56       All  Education and employment status/Mainstream edu...   \n",
       "2  2199.0       All  Education and employment status/Alternative ed...   \n",
       "\n",
       "  Measure Type    Unit Clients in treatment  \n",
       "0        Count  People    All young clients  \n",
       "1   Percentage  People    All young clients  \n",
       "2        Count  People    All young clients  "
      ]
     },
     "execution_count": 20,
     "metadata": {},
     "output_type": "execute_result"
    }
   ],
   "source": [
    "new_table.head(3)"
   ]
  },
  {
   "cell_type": "code",
   "execution_count": 21,
   "metadata": {},
   "outputs": [
    {
     "name": "stderr",
     "output_type": "stream",
     "text": [
      "C:\\ProgramData\\Anaconda3\\lib\\site-packages\\ipykernel_launcher.py:1: SettingWithCopyWarning: \n",
      "A value is trying to be set on a copy of a slice from a DataFrame.\n",
      "Try using .loc[row_indexer,col_indexer] = value instead\n",
      "\n",
      "See the caveats in the documentation: http://pandas.pydata.org/pandas-docs/stable/indexing.html#indexing-view-versus-copy\n",
      "  \"\"\"Entry point for launching an IPython kernel.\n"
     ]
    }
   ],
   "source": [
    "new_table['Period'] = '2016-17'\n",
    "new_table = new_table[['Period','Basis of treatment','Substance','Clients in treatment','Measure Type','Value','Unit']]"
   ]
  },
  {
   "cell_type": "code",
   "execution_count": 22,
   "metadata": {
    "collapsed": true
   },
   "outputs": [],
   "source": [
    "if is_interactive():\n",
    "    SubstancetinationFolder = Path('out')\n",
    "    SubstancetinationFolder.mkdir(exist_ok=True, parents=True)\n",
    "    new_table.to_csv(SubstancetinationFolder / ('table2.5.1.csv'), index = False)"
   ]
  },
  {
   "cell_type": "code",
   "execution_count": 23,
   "metadata": {},
   "outputs": [
    {
     "data": {
      "text/html": [
       "<div>\n",
       "<style scoped>\n",
       "    .dataframe tbody tr th:only-of-type {\n",
       "        vertical-align: middle;\n",
       "    }\n",
       "\n",
       "    .dataframe tbody tr th {\n",
       "        vertical-align: top;\n",
       "    }\n",
       "\n",
       "    .dataframe thead th {\n",
       "        text-align: right;\n",
       "    }\n",
       "</style>\n",
       "<table border=\"1\" class=\"dataframe\">\n",
       "  <thead>\n",
       "    <tr style=\"text-align: right;\">\n",
       "      <th></th>\n",
       "      <th>Period</th>\n",
       "      <th>Basis of treatment</th>\n",
       "      <th>Substance</th>\n",
       "      <th>Clients in treatment</th>\n",
       "      <th>Measure Type</th>\n",
       "      <th>Value</th>\n",
       "      <th>Unit</th>\n",
       "    </tr>\n",
       "  </thead>\n",
       "  <tbody>\n",
       "    <tr>\n",
       "      <th>0</th>\n",
       "      <td>2016-17</td>\n",
       "      <td>Education and employment status/Mainstream edu...</td>\n",
       "      <td>All</td>\n",
       "      <td>All young clients</td>\n",
       "      <td>Count</td>\n",
       "      <td>6389.0</td>\n",
       "      <td>People</td>\n",
       "    </tr>\n",
       "    <tr>\n",
       "      <th>1</th>\n",
       "      <td>2016-17</td>\n",
       "      <td>Education and employment status/Mainstream edu...</td>\n",
       "      <td>All</td>\n",
       "      <td>All young clients</td>\n",
       "      <td>Percentage</td>\n",
       "      <td>0.56</td>\n",
       "      <td>People</td>\n",
       "    </tr>\n",
       "    <tr>\n",
       "      <th>2</th>\n",
       "      <td>2016-17</td>\n",
       "      <td>Education and employment status/Alternative ed...</td>\n",
       "      <td>All</td>\n",
       "      <td>All young clients</td>\n",
       "      <td>Count</td>\n",
       "      <td>2199.0</td>\n",
       "      <td>People</td>\n",
       "    </tr>\n",
       "    <tr>\n",
       "      <th>3</th>\n",
       "      <td>2016-17</td>\n",
       "      <td>Education and employment status/Alternative ed...</td>\n",
       "      <td>All</td>\n",
       "      <td>All young clients</td>\n",
       "      <td>Percentage</td>\n",
       "      <td>0.19</td>\n",
       "      <td>People</td>\n",
       "    </tr>\n",
       "    <tr>\n",
       "      <th>4</th>\n",
       "      <td>2016-17</td>\n",
       "      <td>Education and employment status/Not in employm...</td>\n",
       "      <td>All</td>\n",
       "      <td>All young clients</td>\n",
       "      <td>Count</td>\n",
       "      <td>1788.0</td>\n",
       "      <td>People</td>\n",
       "    </tr>\n",
       "  </tbody>\n",
       "</table>\n",
       "</div>"
      ],
      "text/plain": [
       "    Period                                 Basis of treatment Substance  \\\n",
       "0  2016-17  Education and employment status/Mainstream edu...       All   \n",
       "1  2016-17  Education and employment status/Mainstream edu...       All   \n",
       "2  2016-17  Education and employment status/Alternative ed...       All   \n",
       "3  2016-17  Education and employment status/Alternative ed...       All   \n",
       "4  2016-17  Education and employment status/Not in employm...       All   \n",
       "\n",
       "  Clients in treatment Measure Type   Value    Unit  \n",
       "0    All young clients        Count  6389.0  People  \n",
       "1    All young clients   Percentage    0.56  People  \n",
       "2    All young clients        Count  2199.0  People  \n",
       "3    All young clients   Percentage    0.19  People  \n",
       "4    All young clients        Count  1788.0  People  "
      ]
     },
     "execution_count": 23,
     "metadata": {},
     "output_type": "execute_result"
    }
   ],
   "source": [
    "new_table.head()"
   ]
  },
  {
   "cell_type": "code",
   "execution_count": null,
   "metadata": {
    "collapsed": true
   },
   "outputs": [],
   "source": []
  }
 ],
 "metadata": {
  "kernelspec": {
   "display_name": "Python 3",
   "language": "python",
   "name": "python3"
  },
  "language_info": {
   "codemirror_mode": {
    "name": "ipython",
    "version": 3
   },
   "file_extension": ".py",
   "mimetype": "text/x-python",
   "name": "python",
   "nbconvert_exporter": "python",
   "pygments_lexer": "ipython3",
   "version": "3.6.3"
  }
 },
 "nbformat": 4,
 "nbformat_minor": 2
}
