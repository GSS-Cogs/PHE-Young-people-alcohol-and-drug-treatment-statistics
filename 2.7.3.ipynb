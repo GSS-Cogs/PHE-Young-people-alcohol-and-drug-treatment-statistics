{
 "cells": [
  {
   "cell_type": "markdown",
   "metadata": {},
   "source": [
    "Table 2.7.3: Multiple vulnerabilities reported by young people starting treatment in 2016-17"
   ]
  },
  {
   "cell_type": "code",
   "execution_count": 1,
   "metadata": {},
   "outputs": [],
   "source": [
    "from gssutils import *\n",
    "\n",
    "if is_interactive():\n",
    "    scraper = Scraper('https://www.gov.uk/government/statistics/substance-misuse-treatment-for-young-people-statistics-2016-to-2017')\n",
    "    tabs = {tab.name: tab for tab in scraper.distribution(title=lambda t: t.startswith('Data tables')).as_databaker()}"
   ]
  },
  {
   "cell_type": "code",
   "execution_count": 2,
   "metadata": {},
   "outputs": [],
   "source": [
    "tab = tabs['2.7.3 Multiple vulnerabilities']"
   ]
  },
  {
   "cell_type": "code",
   "execution_count": 3,
   "metadata": {},
   "outputs": [
    {
     "data": {
      "text/plain": [
       "{<B5 1887.0>, <B6 2884.0>, <C6 0.25>, <B8 4212.0>, <B7 2334.0>, <C5 0.16>, <C9 1.0>, <B9 11753.0>, <C8 0.36>, <B4 436.0>, <C4 0.04>, <C7 0.2>}"
      ]
     },
     "execution_count": 3,
     "metadata": {},
     "output_type": "execute_result"
    }
   ],
   "source": [
    "observations = tab.excel_ref('B4').expand(DOWN).expand(RIGHT).is_not_blank()\n",
    "observations"
   ]
  },
  {
   "cell_type": "code",
   "execution_count": 4,
   "metadata": {},
   "outputs": [
    {
     "data": {
      "text/plain": [
       "{<A8 'Four or more'>, <A7 'Three'>, <A6 'Two'>, <A5 'One'>, <A4 'Zero'>, <A9 'Total new presentations'>}"
      ]
     },
     "execution_count": 4,
     "metadata": {},
     "output_type": "execute_result"
    }
   ],
   "source": [
    "age = tab.excel_ref('A4').expand(DOWN).is_not_blank()\n",
    "age"
   ]
  },
  {
   "cell_type": "code",
   "execution_count": 5,
   "metadata": {},
   "outputs": [
    {
     "data": {
      "text/plain": [
       "{<B4 436.0>, <C4 0.04>}"
      ]
     },
     "execution_count": 5,
     "metadata": {},
     "output_type": "execute_result"
    }
   ],
   "source": [
    "measuretype = tab.excel_ref('B4').expand(RIGHT).is_not_blank() \n",
    "measuretype"
   ]
  },
  {
   "cell_type": "code",
   "execution_count": 6,
   "metadata": {},
   "outputs": [],
   "source": [
    "Dimensions = [\n",
    "            HDim(age,'Basis of treatment',DIRECTLY,LEFT),\n",
    "            HDimConst('Clients in treatment','All young clients'),\n",
    "            HDim(measuretype,'Measure Type',DIRECTLY,ABOVE),\n",
    "            HDimConst('Unit','People')            \n",
    "            ]"
   ]
  },
  {
   "cell_type": "code",
   "execution_count": 7,
   "metadata": {},
   "outputs": [],
   "source": [
    "c1 = ConversionSegment(observations, Dimensions, processTIMEUNIT=True)\n",
    "# if is_interactive():\n",
    "#     savepreviewhtml(c1)"
   ]
  },
  {
   "cell_type": "code",
   "execution_count": 8,
   "metadata": {},
   "outputs": [
    {
     "name": "stdout",
     "output_type": "stream",
     "text": [
      "\n"
     ]
    },
    {
     "data": {
      "text/html": [
       "<div>\n",
       "<style scoped>\n",
       "    .dataframe tbody tr th:only-of-type {\n",
       "        vertical-align: middle;\n",
       "    }\n",
       "\n",
       "    .dataframe tbody tr th {\n",
       "        vertical-align: top;\n",
       "    }\n",
       "\n",
       "    .dataframe thead th {\n",
       "        text-align: right;\n",
       "    }\n",
       "</style>\n",
       "<table border=\"1\" class=\"dataframe\">\n",
       "  <thead>\n",
       "    <tr style=\"text-align: right;\">\n",
       "      <th></th>\n",
       "      <th>OBS</th>\n",
       "      <th>Basis of treatment</th>\n",
       "      <th>Clients in treatment</th>\n",
       "      <th>Measure Type</th>\n",
       "      <th>Unit</th>\n",
       "    </tr>\n",
       "  </thead>\n",
       "  <tbody>\n",
       "    <tr>\n",
       "      <th>0</th>\n",
       "      <td>436.00</td>\n",
       "      <td>Zero</td>\n",
       "      <td>All young clients</td>\n",
       "      <td>436.0</td>\n",
       "      <td>People</td>\n",
       "    </tr>\n",
       "    <tr>\n",
       "      <th>1</th>\n",
       "      <td>0.04</td>\n",
       "      <td>Zero</td>\n",
       "      <td>All young clients</td>\n",
       "      <td>0.04</td>\n",
       "      <td>People</td>\n",
       "    </tr>\n",
       "    <tr>\n",
       "      <th>2</th>\n",
       "      <td>1887.00</td>\n",
       "      <td>One</td>\n",
       "      <td>All young clients</td>\n",
       "      <td>436.0</td>\n",
       "      <td>People</td>\n",
       "    </tr>\n",
       "    <tr>\n",
       "      <th>3</th>\n",
       "      <td>0.16</td>\n",
       "      <td>One</td>\n",
       "      <td>All young clients</td>\n",
       "      <td>0.04</td>\n",
       "      <td>People</td>\n",
       "    </tr>\n",
       "    <tr>\n",
       "      <th>4</th>\n",
       "      <td>2884.00</td>\n",
       "      <td>Two</td>\n",
       "      <td>All young clients</td>\n",
       "      <td>436.0</td>\n",
       "      <td>People</td>\n",
       "    </tr>\n",
       "    <tr>\n",
       "      <th>5</th>\n",
       "      <td>0.25</td>\n",
       "      <td>Two</td>\n",
       "      <td>All young clients</td>\n",
       "      <td>0.04</td>\n",
       "      <td>People</td>\n",
       "    </tr>\n",
       "    <tr>\n",
       "      <th>6</th>\n",
       "      <td>2334.00</td>\n",
       "      <td>Three</td>\n",
       "      <td>All young clients</td>\n",
       "      <td>436.0</td>\n",
       "      <td>People</td>\n",
       "    </tr>\n",
       "    <tr>\n",
       "      <th>7</th>\n",
       "      <td>0.20</td>\n",
       "      <td>Three</td>\n",
       "      <td>All young clients</td>\n",
       "      <td>0.04</td>\n",
       "      <td>People</td>\n",
       "    </tr>\n",
       "    <tr>\n",
       "      <th>8</th>\n",
       "      <td>4212.00</td>\n",
       "      <td>Four or more</td>\n",
       "      <td>All young clients</td>\n",
       "      <td>436.0</td>\n",
       "      <td>People</td>\n",
       "    </tr>\n",
       "    <tr>\n",
       "      <th>9</th>\n",
       "      <td>0.36</td>\n",
       "      <td>Four or more</td>\n",
       "      <td>All young clients</td>\n",
       "      <td>0.04</td>\n",
       "      <td>People</td>\n",
       "    </tr>\n",
       "    <tr>\n",
       "      <th>10</th>\n",
       "      <td>11753.00</td>\n",
       "      <td>Total new presentations</td>\n",
       "      <td>All young clients</td>\n",
       "      <td>436.0</td>\n",
       "      <td>People</td>\n",
       "    </tr>\n",
       "    <tr>\n",
       "      <th>11</th>\n",
       "      <td>1.00</td>\n",
       "      <td>Total new presentations</td>\n",
       "      <td>All young clients</td>\n",
       "      <td>0.04</td>\n",
       "      <td>People</td>\n",
       "    </tr>\n",
       "  </tbody>\n",
       "</table>\n",
       "</div>"
      ],
      "text/plain": [
       "         OBS       Basis of treatment Clients in treatment Measure Type  \\\n",
       "0     436.00                     Zero    All young clients        436.0   \n",
       "1       0.04                     Zero    All young clients         0.04   \n",
       "2    1887.00                      One    All young clients        436.0   \n",
       "3       0.16                      One    All young clients         0.04   \n",
       "4    2884.00                      Two    All young clients        436.0   \n",
       "5       0.25                      Two    All young clients         0.04   \n",
       "6    2334.00                    Three    All young clients        436.0   \n",
       "7       0.20                    Three    All young clients         0.04   \n",
       "8    4212.00             Four or more    All young clients        436.0   \n",
       "9       0.36             Four or more    All young clients         0.04   \n",
       "10  11753.00  Total new presentations    All young clients        436.0   \n",
       "11      1.00  Total new presentations    All young clients         0.04   \n",
       "\n",
       "      Unit  \n",
       "0   People  \n",
       "1   People  \n",
       "2   People  \n",
       "3   People  \n",
       "4   People  \n",
       "5   People  \n",
       "6   People  \n",
       "7   People  \n",
       "8   People  \n",
       "9   People  \n",
       "10  People  \n",
       "11  People  "
      ]
     },
     "execution_count": 8,
     "metadata": {},
     "output_type": "execute_result"
    }
   ],
   "source": [
    "new_table = c1.topandas()\n",
    "new_table"
   ]
  },
  {
   "cell_type": "code",
   "execution_count": 9,
   "metadata": {},
   "outputs": [],
   "source": [
    "new_table = new_table[new_table['OBS'] != 0 ]"
   ]
  },
  {
   "cell_type": "code",
   "execution_count": 10,
   "metadata": {},
   "outputs": [],
   "source": [
    "new_table.columns = ['Value' if x=='OBS' else x for x in new_table.columns]"
   ]
  },
  {
   "cell_type": "code",
   "execution_count": 11,
   "metadata": {},
   "outputs": [],
   "source": [
    "new_table['Basis of treatment'] = 'Reported multiple vulnerabilities' +'/'+ new_table['Basis of treatment']"
   ]
  },
  {
   "cell_type": "code",
   "execution_count": 12,
   "metadata": {},
   "outputs": [
    {
     "data": {
      "text/html": [
       "<div>\n",
       "<style scoped>\n",
       "    .dataframe tbody tr th:only-of-type {\n",
       "        vertical-align: middle;\n",
       "    }\n",
       "\n",
       "    .dataframe tbody tr th {\n",
       "        vertical-align: top;\n",
       "    }\n",
       "\n",
       "    .dataframe thead th {\n",
       "        text-align: right;\n",
       "    }\n",
       "</style>\n",
       "<table border=\"1\" class=\"dataframe\">\n",
       "  <thead>\n",
       "    <tr style=\"text-align: right;\">\n",
       "      <th></th>\n",
       "      <th>Value</th>\n",
       "      <th>Basis of treatment</th>\n",
       "      <th>Clients in treatment</th>\n",
       "      <th>Measure Type</th>\n",
       "      <th>Unit</th>\n",
       "    </tr>\n",
       "  </thead>\n",
       "  <tbody>\n",
       "    <tr>\n",
       "      <th>0</th>\n",
       "      <td>436.00</td>\n",
       "      <td>Reported multiple vulnerabilities/Zero</td>\n",
       "      <td>All young clients</td>\n",
       "      <td>436.0</td>\n",
       "      <td>People</td>\n",
       "    </tr>\n",
       "    <tr>\n",
       "      <th>1</th>\n",
       "      <td>0.04</td>\n",
       "      <td>Reported multiple vulnerabilities/Zero</td>\n",
       "      <td>All young clients</td>\n",
       "      <td>0.04</td>\n",
       "      <td>People</td>\n",
       "    </tr>\n",
       "    <tr>\n",
       "      <th>2</th>\n",
       "      <td>1887.00</td>\n",
       "      <td>Reported multiple vulnerabilities/One</td>\n",
       "      <td>All young clients</td>\n",
       "      <td>436.0</td>\n",
       "      <td>People</td>\n",
       "    </tr>\n",
       "    <tr>\n",
       "      <th>3</th>\n",
       "      <td>0.16</td>\n",
       "      <td>Reported multiple vulnerabilities/One</td>\n",
       "      <td>All young clients</td>\n",
       "      <td>0.04</td>\n",
       "      <td>People</td>\n",
       "    </tr>\n",
       "    <tr>\n",
       "      <th>4</th>\n",
       "      <td>2884.00</td>\n",
       "      <td>Reported multiple vulnerabilities/Two</td>\n",
       "      <td>All young clients</td>\n",
       "      <td>436.0</td>\n",
       "      <td>People</td>\n",
       "    </tr>\n",
       "  </tbody>\n",
       "</table>\n",
       "</div>"
      ],
      "text/plain": [
       "     Value                      Basis of treatment Clients in treatment  \\\n",
       "0   436.00  Reported multiple vulnerabilities/Zero    All young clients   \n",
       "1     0.04  Reported multiple vulnerabilities/Zero    All young clients   \n",
       "2  1887.00   Reported multiple vulnerabilities/One    All young clients   \n",
       "3     0.16   Reported multiple vulnerabilities/One    All young clients   \n",
       "4  2884.00   Reported multiple vulnerabilities/Two    All young clients   \n",
       "\n",
       "  Measure Type    Unit  \n",
       "0        436.0  People  \n",
       "1         0.04  People  \n",
       "2        436.0  People  \n",
       "3         0.04  People  \n",
       "4        436.0  People  "
      ]
     },
     "execution_count": 12,
     "metadata": {},
     "output_type": "execute_result"
    }
   ],
   "source": [
    "new_table.head()"
   ]
  },
  {
   "cell_type": "code",
   "execution_count": 13,
   "metadata": {},
   "outputs": [
    {
     "data": {
      "text/plain": [
       "array(['Reported multiple vulnerabilities/Zero',\n",
       "       'Reported multiple vulnerabilities/One',\n",
       "       'Reported multiple vulnerabilities/Two',\n",
       "       'Reported multiple vulnerabilities/Three',\n",
       "       'Reported multiple vulnerabilities/Four or more',\n",
       "       'Reported multiple vulnerabilities/Total new presentations'],\n",
       "      dtype=object)"
      ]
     },
     "execution_count": 13,
     "metadata": {},
     "output_type": "execute_result"
    }
   ],
   "source": [
    "new_table['Basis of treatment'].unique()"
   ]
  },
  {
   "cell_type": "code",
   "execution_count": 14,
   "metadata": {},
   "outputs": [
    {
     "data": {
      "text/html": [
       "<div>\n",
       "<style scoped>\n",
       "    .dataframe tbody tr th:only-of-type {\n",
       "        vertical-align: middle;\n",
       "    }\n",
       "\n",
       "    .dataframe tbody tr th {\n",
       "        vertical-align: top;\n",
       "    }\n",
       "\n",
       "    .dataframe thead th {\n",
       "        text-align: right;\n",
       "    }\n",
       "</style>\n",
       "<table border=\"1\" class=\"dataframe\">\n",
       "  <thead>\n",
       "    <tr style=\"text-align: right;\">\n",
       "      <th></th>\n",
       "      <th>Value</th>\n",
       "      <th>Basis of treatment</th>\n",
       "      <th>Clients in treatment</th>\n",
       "      <th>Measure Type</th>\n",
       "      <th>Unit</th>\n",
       "    </tr>\n",
       "  </thead>\n",
       "  <tbody>\n",
       "    <tr>\n",
       "      <th>0</th>\n",
       "      <td>436.00</td>\n",
       "      <td>Reported multiple vulnerabilities/Zero</td>\n",
       "      <td>All young clients</td>\n",
       "      <td>436.0</td>\n",
       "      <td>People</td>\n",
       "    </tr>\n",
       "    <tr>\n",
       "      <th>1</th>\n",
       "      <td>0.04</td>\n",
       "      <td>Reported multiple vulnerabilities/Zero</td>\n",
       "      <td>All young clients</td>\n",
       "      <td>0.04</td>\n",
       "      <td>People</td>\n",
       "    </tr>\n",
       "    <tr>\n",
       "      <th>2</th>\n",
       "      <td>1887.00</td>\n",
       "      <td>Reported multiple vulnerabilities/One</td>\n",
       "      <td>All young clients</td>\n",
       "      <td>436.0</td>\n",
       "      <td>People</td>\n",
       "    </tr>\n",
       "    <tr>\n",
       "      <th>3</th>\n",
       "      <td>0.16</td>\n",
       "      <td>Reported multiple vulnerabilities/One</td>\n",
       "      <td>All young clients</td>\n",
       "      <td>0.04</td>\n",
       "      <td>People</td>\n",
       "    </tr>\n",
       "    <tr>\n",
       "      <th>4</th>\n",
       "      <td>2884.00</td>\n",
       "      <td>Reported multiple vulnerabilities/Two</td>\n",
       "      <td>All young clients</td>\n",
       "      <td>436.0</td>\n",
       "      <td>People</td>\n",
       "    </tr>\n",
       "  </tbody>\n",
       "</table>\n",
       "</div>"
      ],
      "text/plain": [
       "     Value                      Basis of treatment Clients in treatment  \\\n",
       "0   436.00  Reported multiple vulnerabilities/Zero    All young clients   \n",
       "1     0.04  Reported multiple vulnerabilities/Zero    All young clients   \n",
       "2  1887.00   Reported multiple vulnerabilities/One    All young clients   \n",
       "3     0.16   Reported multiple vulnerabilities/One    All young clients   \n",
       "4  2884.00   Reported multiple vulnerabilities/Two    All young clients   \n",
       "\n",
       "  Measure Type    Unit  \n",
       "0        436.0  People  \n",
       "1         0.04  People  \n",
       "2        436.0  People  \n",
       "3         0.04  People  \n",
       "4        436.0  People  "
      ]
     },
     "execution_count": 14,
     "metadata": {},
     "output_type": "execute_result"
    }
   ],
   "source": [
    "new_table.head()"
   ]
  },
  {
   "cell_type": "code",
   "execution_count": 15,
   "metadata": {},
   "outputs": [],
   "source": [
    "new_table['Measure Type'] = new_table['Measure Type'].map(\n",
    "    lambda x: {\n",
    "        'n' : 'Count', \n",
    "        '%' : 'Percentage',\n",
    "        }.get(x, x))"
   ]
  },
  {
   "cell_type": "code",
   "execution_count": 16,
   "metadata": {},
   "outputs": [
    {
     "data": {
      "text/html": [
       "<div>\n",
       "<style scoped>\n",
       "    .dataframe tbody tr th:only-of-type {\n",
       "        vertical-align: middle;\n",
       "    }\n",
       "\n",
       "    .dataframe tbody tr th {\n",
       "        vertical-align: top;\n",
       "    }\n",
       "\n",
       "    .dataframe thead th {\n",
       "        text-align: right;\n",
       "    }\n",
       "</style>\n",
       "<table border=\"1\" class=\"dataframe\">\n",
       "  <thead>\n",
       "    <tr style=\"text-align: right;\">\n",
       "      <th></th>\n",
       "      <th>Value</th>\n",
       "      <th>Basis of treatment</th>\n",
       "      <th>Clients in treatment</th>\n",
       "      <th>Measure Type</th>\n",
       "      <th>Unit</th>\n",
       "    </tr>\n",
       "  </thead>\n",
       "  <tbody>\n",
       "    <tr>\n",
       "      <th>7</th>\n",
       "      <td>0.20</td>\n",
       "      <td>Reported multiple vulnerabilities/Three</td>\n",
       "      <td>All young clients</td>\n",
       "      <td>0.04</td>\n",
       "      <td>People</td>\n",
       "    </tr>\n",
       "    <tr>\n",
       "      <th>8</th>\n",
       "      <td>4212.00</td>\n",
       "      <td>Reported multiple vulnerabilities/Four or more</td>\n",
       "      <td>All young clients</td>\n",
       "      <td>436.0</td>\n",
       "      <td>People</td>\n",
       "    </tr>\n",
       "    <tr>\n",
       "      <th>9</th>\n",
       "      <td>0.36</td>\n",
       "      <td>Reported multiple vulnerabilities/Four or more</td>\n",
       "      <td>All young clients</td>\n",
       "      <td>0.04</td>\n",
       "      <td>People</td>\n",
       "    </tr>\n",
       "    <tr>\n",
       "      <th>10</th>\n",
       "      <td>11753.00</td>\n",
       "      <td>Reported multiple vulnerabilities/Total new pr...</td>\n",
       "      <td>All young clients</td>\n",
       "      <td>436.0</td>\n",
       "      <td>People</td>\n",
       "    </tr>\n",
       "    <tr>\n",
       "      <th>11</th>\n",
       "      <td>1.00</td>\n",
       "      <td>Reported multiple vulnerabilities/Total new pr...</td>\n",
       "      <td>All young clients</td>\n",
       "      <td>0.04</td>\n",
       "      <td>People</td>\n",
       "    </tr>\n",
       "  </tbody>\n",
       "</table>\n",
       "</div>"
      ],
      "text/plain": [
       "       Value                                 Basis of treatment  \\\n",
       "7       0.20            Reported multiple vulnerabilities/Three   \n",
       "8    4212.00     Reported multiple vulnerabilities/Four or more   \n",
       "9       0.36     Reported multiple vulnerabilities/Four or more   \n",
       "10  11753.00  Reported multiple vulnerabilities/Total new pr...   \n",
       "11      1.00  Reported multiple vulnerabilities/Total new pr...   \n",
       "\n",
       "   Clients in treatment Measure Type    Unit  \n",
       "7     All young clients         0.04  People  \n",
       "8     All young clients        436.0  People  \n",
       "9     All young clients         0.04  People  \n",
       "10    All young clients        436.0  People  \n",
       "11    All young clients         0.04  People  "
      ]
     },
     "execution_count": 16,
     "metadata": {},
     "output_type": "execute_result"
    }
   ],
   "source": [
    "new_table.tail()"
   ]
  },
  {
   "cell_type": "code",
   "execution_count": 17,
   "metadata": {},
   "outputs": [
    {
     "data": {
      "text/plain": [
       "Value                   float64\n",
       "Basis of treatment       object\n",
       "Clients in treatment     object\n",
       "Measure Type             object\n",
       "Unit                     object\n",
       "dtype: object"
      ]
     },
     "execution_count": 17,
     "metadata": {},
     "output_type": "execute_result"
    }
   ],
   "source": [
    "new_table.dtypes"
   ]
  },
  {
   "cell_type": "code",
   "execution_count": 18,
   "metadata": {},
   "outputs": [],
   "source": [
    "new_table['Value'] = new_table['Value'].astype(str)"
   ]
  },
  {
   "cell_type": "code",
   "execution_count": 19,
   "metadata": {},
   "outputs": [
    {
     "data": {
      "text/html": [
       "<div>\n",
       "<style scoped>\n",
       "    .dataframe tbody tr th:only-of-type {\n",
       "        vertical-align: middle;\n",
       "    }\n",
       "\n",
       "    .dataframe tbody tr th {\n",
       "        vertical-align: top;\n",
       "    }\n",
       "\n",
       "    .dataframe thead th {\n",
       "        text-align: right;\n",
       "    }\n",
       "</style>\n",
       "<table border=\"1\" class=\"dataframe\">\n",
       "  <thead>\n",
       "    <tr style=\"text-align: right;\">\n",
       "      <th></th>\n",
       "      <th>Value</th>\n",
       "      <th>Basis of treatment</th>\n",
       "      <th>Clients in treatment</th>\n",
       "      <th>Measure Type</th>\n",
       "      <th>Unit</th>\n",
       "    </tr>\n",
       "  </thead>\n",
       "  <tbody>\n",
       "    <tr>\n",
       "      <th>0</th>\n",
       "      <td>436.0</td>\n",
       "      <td>Reported multiple vulnerabilities/Zero</td>\n",
       "      <td>All young clients</td>\n",
       "      <td>436.0</td>\n",
       "      <td>People</td>\n",
       "    </tr>\n",
       "    <tr>\n",
       "      <th>1</th>\n",
       "      <td>0.04</td>\n",
       "      <td>Reported multiple vulnerabilities/Zero</td>\n",
       "      <td>All young clients</td>\n",
       "      <td>0.04</td>\n",
       "      <td>People</td>\n",
       "    </tr>\n",
       "    <tr>\n",
       "      <th>2</th>\n",
       "      <td>1887.0</td>\n",
       "      <td>Reported multiple vulnerabilities/One</td>\n",
       "      <td>All young clients</td>\n",
       "      <td>436.0</td>\n",
       "      <td>People</td>\n",
       "    </tr>\n",
       "  </tbody>\n",
       "</table>\n",
       "</div>"
      ],
      "text/plain": [
       "    Value                      Basis of treatment Clients in treatment  \\\n",
       "0   436.0  Reported multiple vulnerabilities/Zero    All young clients   \n",
       "1    0.04  Reported multiple vulnerabilities/Zero    All young clients   \n",
       "2  1887.0   Reported multiple vulnerabilities/One    All young clients   \n",
       "\n",
       "  Measure Type    Unit  \n",
       "0        436.0  People  \n",
       "1         0.04  People  \n",
       "2        436.0  People  "
      ]
     },
     "execution_count": 19,
     "metadata": {},
     "output_type": "execute_result"
    }
   ],
   "source": [
    "new_table.head(3)"
   ]
  },
  {
   "cell_type": "code",
   "execution_count": 20,
   "metadata": {},
   "outputs": [],
   "source": [
    "new_table['Period'] = '2016-17'\n",
    "new_table['Substance'] = 'All'\n",
    "new_table = new_table[['Period','Basis of treatment','Substance','Clients in treatment','Measure Type','Value','Unit']]"
   ]
  },
  {
   "cell_type": "code",
   "execution_count": 21,
   "metadata": {},
   "outputs": [
    {
     "data": {
      "text/html": [
       "<div>\n",
       "<style scoped>\n",
       "    .dataframe tbody tr th:only-of-type {\n",
       "        vertical-align: middle;\n",
       "    }\n",
       "\n",
       "    .dataframe tbody tr th {\n",
       "        vertical-align: top;\n",
       "    }\n",
       "\n",
       "    .dataframe thead th {\n",
       "        text-align: right;\n",
       "    }\n",
       "</style>\n",
       "<table border=\"1\" class=\"dataframe\">\n",
       "  <thead>\n",
       "    <tr style=\"text-align: right;\">\n",
       "      <th></th>\n",
       "      <th>Period</th>\n",
       "      <th>Basis of treatment</th>\n",
       "      <th>Substance</th>\n",
       "      <th>Clients in treatment</th>\n",
       "      <th>Measure Type</th>\n",
       "      <th>Value</th>\n",
       "      <th>Unit</th>\n",
       "    </tr>\n",
       "  </thead>\n",
       "  <tbody>\n",
       "    <tr>\n",
       "      <th>0</th>\n",
       "      <td>2016-17</td>\n",
       "      <td>Reported multiple vulnerabilities/Zero</td>\n",
       "      <td>All</td>\n",
       "      <td>All young clients</td>\n",
       "      <td>436.0</td>\n",
       "      <td>436.0</td>\n",
       "      <td>People</td>\n",
       "    </tr>\n",
       "    <tr>\n",
       "      <th>1</th>\n",
       "      <td>2016-17</td>\n",
       "      <td>Reported multiple vulnerabilities/Zero</td>\n",
       "      <td>All</td>\n",
       "      <td>All young clients</td>\n",
       "      <td>0.04</td>\n",
       "      <td>0.04</td>\n",
       "      <td>People</td>\n",
       "    </tr>\n",
       "    <tr>\n",
       "      <th>2</th>\n",
       "      <td>2016-17</td>\n",
       "      <td>Reported multiple vulnerabilities/One</td>\n",
       "      <td>All</td>\n",
       "      <td>All young clients</td>\n",
       "      <td>436.0</td>\n",
       "      <td>1887.0</td>\n",
       "      <td>People</td>\n",
       "    </tr>\n",
       "    <tr>\n",
       "      <th>3</th>\n",
       "      <td>2016-17</td>\n",
       "      <td>Reported multiple vulnerabilities/One</td>\n",
       "      <td>All</td>\n",
       "      <td>All young clients</td>\n",
       "      <td>0.04</td>\n",
       "      <td>0.16</td>\n",
       "      <td>People</td>\n",
       "    </tr>\n",
       "    <tr>\n",
       "      <th>4</th>\n",
       "      <td>2016-17</td>\n",
       "      <td>Reported multiple vulnerabilities/Two</td>\n",
       "      <td>All</td>\n",
       "      <td>All young clients</td>\n",
       "      <td>436.0</td>\n",
       "      <td>2884.0</td>\n",
       "      <td>People</td>\n",
       "    </tr>\n",
       "  </tbody>\n",
       "</table>\n",
       "</div>"
      ],
      "text/plain": [
       "    Period                      Basis of treatment Substance  \\\n",
       "0  2016-17  Reported multiple vulnerabilities/Zero       All   \n",
       "1  2016-17  Reported multiple vulnerabilities/Zero       All   \n",
       "2  2016-17   Reported multiple vulnerabilities/One       All   \n",
       "3  2016-17   Reported multiple vulnerabilities/One       All   \n",
       "4  2016-17   Reported multiple vulnerabilities/Two       All   \n",
       "\n",
       "  Clients in treatment Measure Type   Value    Unit  \n",
       "0    All young clients        436.0   436.0  People  \n",
       "1    All young clients         0.04    0.04  People  \n",
       "2    All young clients        436.0  1887.0  People  \n",
       "3    All young clients         0.04    0.16  People  \n",
       "4    All young clients        436.0  2884.0  People  "
      ]
     },
     "execution_count": 21,
     "metadata": {},
     "output_type": "execute_result"
    }
   ],
   "source": [
    "new_table.head()"
   ]
  },
  {
   "cell_type": "code",
   "execution_count": null,
   "metadata": {},
   "outputs": [],
   "source": []
  }
 ],
 "metadata": {
  "kernelspec": {
   "display_name": "Python 3",
   "language": "python",
   "name": "python3"
  },
  "language_info": {
   "codemirror_mode": {
    "name": "ipython",
    "version": 3
   },
   "file_extension": ".py",
   "mimetype": "text/x-python",
   "name": "python",
   "nbconvert_exporter": "python",
   "pygments_lexer": "ipython3",
   "version": "3.7.2"
  }
 },
 "nbformat": 4,
 "nbformat_minor": 2
}
