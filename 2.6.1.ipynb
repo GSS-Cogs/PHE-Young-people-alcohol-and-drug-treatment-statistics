{
 "cells": [
  {
   "cell_type": "markdown",
   "metadata": {},
   "source": [
    "Table 2.6.1: Accommodation status of all young people in treatment 2016-17"
   ]
  },
  {
   "cell_type": "code",
   "execution_count": 1,
   "metadata": {
    "collapsed": true
   },
   "outputs": [],
   "source": [
    "from gssutils import *\n",
    "\n",
    "if is_interactive():\n",
    "    import requests\n",
    "    from cachecontrol import CacheControl\n",
    "    from cachecontrol.caches.file_cache import FileCache\n",
    "    from cachecontrol.heuristics import LastModified\n",
    "    from pathlib import Path\n",
    "\n",
    "    session = CacheControl(requests.Session(),\n",
    "                           cache=FileCache('.cache'),\n",
    "                           heuristic=LastModified())\n",
    "\n",
    "    sourceFolder = Path('in')\n",
    "    sourceFolder.mkdir(exist_ok=True)\n",
    "\n",
    "    inputURL = 'https://www.gov.uk/government/uploads/system/uploads/attachment_data/file/664944/'\\\n",
    "                    'Young-people-statistics-data-tables-from-the-national-drug-treatment-monitoring-system-2016-2017.xls'\n",
    "    inputFile = sourceFolder / 'Young-people-statistics-data-tables-from-the-national-drug-treatment-monitoring-system-2016-2017.xls'\n",
    "    response = session.get(inputURL)\n",
    "    with open(inputFile, 'wb') as f:\n",
    "      f.write(response.content)    "
   ]
  },
  {
   "cell_type": "code",
   "execution_count": 2,
   "metadata": {},
   "outputs": [
    {
     "name": "stdout",
     "output_type": "stream",
     "text": [
      "Loading in\\Young-people-statistics-data-tables-from-the-national-drug-treatment-monitoring-system-2016-2017.xls which has size 281600 bytes\n",
      "Table names: ['2.6.1 Accommodation']\n"
     ]
    }
   ],
   "source": [
    "tab = loadxlstabs(inputFile, sheetids='2.6.1 Accommodation')[0]"
   ]
  },
  {
   "cell_type": "code",
   "execution_count": 3,
   "metadata": {},
   "outputs": [
    {
     "data": {
      "text/plain": [
       "{<B9 59.0>, <B12 267.0>, <C8 0.01>, <B5 1292.0>, <C6 0.04>, <C9 0.0>, <B8 153.0>, <C5 0.08>, <C10 0.0>, <B6 654.0>, <C4 0.83>, <C7 0.03>, <B7 467.0>, <C11 1.0>, <B13 16436.0>, <B11 16169.0>, <B4 13500.0>, <B10 44.0>}"
      ]
     },
     "execution_count": 3,
     "metadata": {},
     "output_type": "execute_result"
    }
   ],
   "source": [
    "observations = tab.excel_ref('B4').expand(DOWN).expand(RIGHT).is_not_blank()\n",
    "observations"
   ]
  },
  {
   "cell_type": "code",
   "execution_count": 4,
   "metadata": {},
   "outputs": [
    {
     "data": {
      "text/plain": [
       "{<A12 'Missing or inconsistent data'>, <A11 'Total'>, <A9 'Independent – no fixed abode'>, <A5 'YP living in care'>, <A6 'YP supported housing'>, <A13 'Total'>, <A8 'Independent – unsettled accommodation / housing problem'>, <A7 'Independent – settled accommodation'>, <A10 'YP living in secure care'>, <A4 'Living with parents or other relatives'>}"
      ]
     },
     "execution_count": 4,
     "metadata": {},
     "output_type": "execute_result"
    }
   ],
   "source": [
    "referral = tab.excel_ref('A4').expand(DOWN).is_not_blank() - tab.excel_ref('A32')\n",
    "referral"
   ]
  },
  {
   "cell_type": "code",
   "execution_count": 5,
   "metadata": {},
   "outputs": [
    {
     "data": {
      "text/plain": [
       "{<B3 'n'>, <C3 '%'>}"
      ]
     },
     "execution_count": 5,
     "metadata": {},
     "output_type": "execute_result"
    }
   ],
   "source": [
    "measuretype = tab.excel_ref('B3').expand(RIGHT).is_not_blank() \n",
    "measuretype"
   ]
  },
  {
   "cell_type": "code",
   "execution_count": 6,
   "metadata": {
    "collapsed": true
   },
   "outputs": [],
   "source": [
    "Dimensions = [\n",
    "            HDimConst('Substance','All'),\n",
    "            HDim(referral,'Basis of treatment',DIRECTLY,LEFT),\n",
    "            HDim(measuretype,'Measure Type',DIRECTLY,ABOVE),\n",
    "            HDimConst('Unit','People')            \n",
    "            ]"
   ]
  },
  {
   "cell_type": "code",
   "execution_count": 7,
   "metadata": {
    "collapsed": true
   },
   "outputs": [],
   "source": [
    "c1 = ConversionSegment(observations, Dimensions, processTIMEUNIT=True)\n",
    "# if is_interactive():\n",
    "#     savepreviewhtml(c1)"
   ]
  },
  {
   "cell_type": "code",
   "execution_count": 8,
   "metadata": {},
   "outputs": [
    {
     "name": "stdout",
     "output_type": "stream",
     "text": [
      "\n"
     ]
    },
    {
     "data": {
      "text/html": [
       "<div>\n",
       "<style scoped>\n",
       "    .dataframe tbody tr th:only-of-type {\n",
       "        vertical-align: middle;\n",
       "    }\n",
       "\n",
       "    .dataframe tbody tr th {\n",
       "        vertical-align: top;\n",
       "    }\n",
       "\n",
       "    .dataframe thead th {\n",
       "        text-align: right;\n",
       "    }\n",
       "</style>\n",
       "<table border=\"1\" class=\"dataframe\">\n",
       "  <thead>\n",
       "    <tr style=\"text-align: right;\">\n",
       "      <th></th>\n",
       "      <th>OBS</th>\n",
       "      <th>Substance</th>\n",
       "      <th>Basis of treatment</th>\n",
       "      <th>Measure Type</th>\n",
       "      <th>Unit</th>\n",
       "    </tr>\n",
       "  </thead>\n",
       "  <tbody>\n",
       "    <tr>\n",
       "      <th>0</th>\n",
       "      <td>13500.00</td>\n",
       "      <td>All</td>\n",
       "      <td>Living with parents or other relatives</td>\n",
       "      <td>n</td>\n",
       "      <td>People</td>\n",
       "    </tr>\n",
       "    <tr>\n",
       "      <th>1</th>\n",
       "      <td>0.83</td>\n",
       "      <td>All</td>\n",
       "      <td>Living with parents or other relatives</td>\n",
       "      <td>%</td>\n",
       "      <td>People</td>\n",
       "    </tr>\n",
       "    <tr>\n",
       "      <th>2</th>\n",
       "      <td>1292.00</td>\n",
       "      <td>All</td>\n",
       "      <td>YP living in care</td>\n",
       "      <td>n</td>\n",
       "      <td>People</td>\n",
       "    </tr>\n",
       "    <tr>\n",
       "      <th>3</th>\n",
       "      <td>0.08</td>\n",
       "      <td>All</td>\n",
       "      <td>YP living in care</td>\n",
       "      <td>%</td>\n",
       "      <td>People</td>\n",
       "    </tr>\n",
       "    <tr>\n",
       "      <th>4</th>\n",
       "      <td>654.00</td>\n",
       "      <td>All</td>\n",
       "      <td>YP supported housing</td>\n",
       "      <td>n</td>\n",
       "      <td>People</td>\n",
       "    </tr>\n",
       "    <tr>\n",
       "      <th>5</th>\n",
       "      <td>0.04</td>\n",
       "      <td>All</td>\n",
       "      <td>YP supported housing</td>\n",
       "      <td>%</td>\n",
       "      <td>People</td>\n",
       "    </tr>\n",
       "    <tr>\n",
       "      <th>6</th>\n",
       "      <td>467.00</td>\n",
       "      <td>All</td>\n",
       "      <td>Independent – settled accommodation</td>\n",
       "      <td>n</td>\n",
       "      <td>People</td>\n",
       "    </tr>\n",
       "    <tr>\n",
       "      <th>7</th>\n",
       "      <td>0.03</td>\n",
       "      <td>All</td>\n",
       "      <td>Independent – settled accommodation</td>\n",
       "      <td>%</td>\n",
       "      <td>People</td>\n",
       "    </tr>\n",
       "    <tr>\n",
       "      <th>8</th>\n",
       "      <td>153.00</td>\n",
       "      <td>All</td>\n",
       "      <td>Independent – unsettled accommodation / housin...</td>\n",
       "      <td>n</td>\n",
       "      <td>People</td>\n",
       "    </tr>\n",
       "    <tr>\n",
       "      <th>9</th>\n",
       "      <td>0.01</td>\n",
       "      <td>All</td>\n",
       "      <td>Independent – unsettled accommodation / housin...</td>\n",
       "      <td>%</td>\n",
       "      <td>People</td>\n",
       "    </tr>\n",
       "    <tr>\n",
       "      <th>10</th>\n",
       "      <td>59.00</td>\n",
       "      <td>All</td>\n",
       "      <td>Independent – no fixed abode</td>\n",
       "      <td>n</td>\n",
       "      <td>People</td>\n",
       "    </tr>\n",
       "    <tr>\n",
       "      <th>11</th>\n",
       "      <td>0.00</td>\n",
       "      <td>All</td>\n",
       "      <td>Independent – no fixed abode</td>\n",
       "      <td>%</td>\n",
       "      <td>People</td>\n",
       "    </tr>\n",
       "    <tr>\n",
       "      <th>12</th>\n",
       "      <td>44.00</td>\n",
       "      <td>All</td>\n",
       "      <td>YP living in secure care</td>\n",
       "      <td>n</td>\n",
       "      <td>People</td>\n",
       "    </tr>\n",
       "    <tr>\n",
       "      <th>13</th>\n",
       "      <td>0.00</td>\n",
       "      <td>All</td>\n",
       "      <td>YP living in secure care</td>\n",
       "      <td>%</td>\n",
       "      <td>People</td>\n",
       "    </tr>\n",
       "    <tr>\n",
       "      <th>14</th>\n",
       "      <td>16169.00</td>\n",
       "      <td>All</td>\n",
       "      <td>Total</td>\n",
       "      <td>n</td>\n",
       "      <td>People</td>\n",
       "    </tr>\n",
       "    <tr>\n",
       "      <th>15</th>\n",
       "      <td>1.00</td>\n",
       "      <td>All</td>\n",
       "      <td>Total</td>\n",
       "      <td>%</td>\n",
       "      <td>People</td>\n",
       "    </tr>\n",
       "    <tr>\n",
       "      <th>16</th>\n",
       "      <td>267.00</td>\n",
       "      <td>All</td>\n",
       "      <td>Missing or inconsistent data</td>\n",
       "      <td>n</td>\n",
       "      <td>People</td>\n",
       "    </tr>\n",
       "    <tr>\n",
       "      <th>17</th>\n",
       "      <td>16436.00</td>\n",
       "      <td>All</td>\n",
       "      <td>Total</td>\n",
       "      <td>n</td>\n",
       "      <td>People</td>\n",
       "    </tr>\n",
       "  </tbody>\n",
       "</table>\n",
       "</div>"
      ],
      "text/plain": [
       "         OBS Substance                                 Basis of treatment  \\\n",
       "0   13500.00       All             Living with parents or other relatives   \n",
       "1       0.83       All             Living with parents or other relatives   \n",
       "2    1292.00       All                                  YP living in care   \n",
       "3       0.08       All                                  YP living in care   \n",
       "4     654.00       All                               YP supported housing   \n",
       "5       0.04       All                               YP supported housing   \n",
       "6     467.00       All                Independent – settled accommodation   \n",
       "7       0.03       All                Independent – settled accommodation   \n",
       "8     153.00       All  Independent – unsettled accommodation / housin...   \n",
       "9       0.01       All  Independent – unsettled accommodation / housin...   \n",
       "10     59.00       All                       Independent – no fixed abode   \n",
       "11      0.00       All                       Independent – no fixed abode   \n",
       "12     44.00       All                           YP living in secure care   \n",
       "13      0.00       All                           YP living in secure care   \n",
       "14  16169.00       All                                              Total   \n",
       "15      1.00       All                                              Total   \n",
       "16    267.00       All                       Missing or inconsistent data   \n",
       "17  16436.00       All                                              Total   \n",
       "\n",
       "   Measure Type    Unit  \n",
       "0             n  People  \n",
       "1             %  People  \n",
       "2             n  People  \n",
       "3             %  People  \n",
       "4             n  People  \n",
       "5             %  People  \n",
       "6             n  People  \n",
       "7             %  People  \n",
       "8             n  People  \n",
       "9             %  People  \n",
       "10            n  People  \n",
       "11            %  People  \n",
       "12            n  People  \n",
       "13            %  People  \n",
       "14            n  People  \n",
       "15            %  People  \n",
       "16            n  People  \n",
       "17            n  People  "
      ]
     },
     "execution_count": 8,
     "metadata": {},
     "output_type": "execute_result"
    }
   ],
   "source": [
    "new_table = c1.topandas()\n",
    "new_table"
   ]
  },
  {
   "cell_type": "code",
   "execution_count": 9,
   "metadata": {
    "collapsed": true
   },
   "outputs": [],
   "source": [
    "new_table = new_table[new_table['OBS'] != 0 ]"
   ]
  },
  {
   "cell_type": "code",
   "execution_count": 10,
   "metadata": {
    "collapsed": true
   },
   "outputs": [],
   "source": [
    "new_table.columns = ['Value' if x=='OBS' else x for x in new_table.columns]"
   ]
  },
  {
   "cell_type": "code",
   "execution_count": 11,
   "metadata": {},
   "outputs": [
    {
     "name": "stderr",
     "output_type": "stream",
     "text": [
      "C:\\ProgramData\\Anaconda3\\lib\\site-packages\\ipykernel_launcher.py:2: SettingWithCopyWarning: \n",
      "A value is trying to be set on a copy of a slice from a DataFrame.\n",
      "Try using .loc[row_indexer,col_indexer] = value instead\n",
      "\n",
      "See the caveats in the documentation: http://pandas.pydata.org/pandas-docs/stable/indexing.html#indexing-view-versus-copy\n",
      "  \n"
     ]
    }
   ],
   "source": [
    "new_table['Basis of treatment'] = new_table['Basis of treatment'].map(\n",
    "    lambda x: {\n",
    "        'Total' : 'All' \n",
    "        }.get(x, x))"
   ]
  },
  {
   "cell_type": "code",
   "execution_count": 12,
   "metadata": {},
   "outputs": [
    {
     "name": "stderr",
     "output_type": "stream",
     "text": [
      "C:\\ProgramData\\Anaconda3\\lib\\site-packages\\pandas\\core\\generic.py:5434: SettingWithCopyWarning: \n",
      "A value is trying to be set on a copy of a slice from a DataFrame\n",
      "\n",
      "See the caveats in the documentation: http://pandas.pydata.org/pandas-docs/stable/indexing.html#indexing-view-versus-copy\n",
      "  self._update_inplace(new_data)\n"
     ]
    }
   ],
   "source": [
    "new_table['Basis of treatment'].fillna('All including missing and inconsistent data', inplace = True)"
   ]
  },
  {
   "cell_type": "code",
   "execution_count": 13,
   "metadata": {},
   "outputs": [
    {
     "name": "stderr",
     "output_type": "stream",
     "text": [
      "C:\\ProgramData\\Anaconda3\\lib\\site-packages\\ipykernel_launcher.py:1: SettingWithCopyWarning: \n",
      "A value is trying to be set on a copy of a slice from a DataFrame.\n",
      "Try using .loc[row_indexer,col_indexer] = value instead\n",
      "\n",
      "See the caveats in the documentation: http://pandas.pydata.org/pandas-docs/stable/indexing.html#indexing-view-versus-copy\n",
      "  \"\"\"Entry point for launching an IPython kernel.\n"
     ]
    }
   ],
   "source": [
    "new_table['Basis of treatment'] = 'Accommodation status/' + new_table['Basis of treatment']"
   ]
  },
  {
   "cell_type": "code",
   "execution_count": 14,
   "metadata": {},
   "outputs": [
    {
     "data": {
      "text/html": [
       "<div>\n",
       "<style scoped>\n",
       "    .dataframe tbody tr th:only-of-type {\n",
       "        vertical-align: middle;\n",
       "    }\n",
       "\n",
       "    .dataframe tbody tr th {\n",
       "        vertical-align: top;\n",
       "    }\n",
       "\n",
       "    .dataframe thead th {\n",
       "        text-align: right;\n",
       "    }\n",
       "</style>\n",
       "<table border=\"1\" class=\"dataframe\">\n",
       "  <thead>\n",
       "    <tr style=\"text-align: right;\">\n",
       "      <th></th>\n",
       "      <th>Value</th>\n",
       "      <th>Substance</th>\n",
       "      <th>Basis of treatment</th>\n",
       "      <th>Measure Type</th>\n",
       "      <th>Unit</th>\n",
       "    </tr>\n",
       "  </thead>\n",
       "  <tbody>\n",
       "    <tr>\n",
       "      <th>0</th>\n",
       "      <td>13500.00</td>\n",
       "      <td>All</td>\n",
       "      <td>Accommodation status/Living with parents or ot...</td>\n",
       "      <td>n</td>\n",
       "      <td>People</td>\n",
       "    </tr>\n",
       "    <tr>\n",
       "      <th>1</th>\n",
       "      <td>0.83</td>\n",
       "      <td>All</td>\n",
       "      <td>Accommodation status/Living with parents or ot...</td>\n",
       "      <td>%</td>\n",
       "      <td>People</td>\n",
       "    </tr>\n",
       "    <tr>\n",
       "      <th>2</th>\n",
       "      <td>1292.00</td>\n",
       "      <td>All</td>\n",
       "      <td>Accommodation status/YP living in care</td>\n",
       "      <td>n</td>\n",
       "      <td>People</td>\n",
       "    </tr>\n",
       "    <tr>\n",
       "      <th>3</th>\n",
       "      <td>0.08</td>\n",
       "      <td>All</td>\n",
       "      <td>Accommodation status/YP living in care</td>\n",
       "      <td>%</td>\n",
       "      <td>People</td>\n",
       "    </tr>\n",
       "    <tr>\n",
       "      <th>4</th>\n",
       "      <td>654.00</td>\n",
       "      <td>All</td>\n",
       "      <td>Accommodation status/YP supported housing</td>\n",
       "      <td>n</td>\n",
       "      <td>People</td>\n",
       "    </tr>\n",
       "  </tbody>\n",
       "</table>\n",
       "</div>"
      ],
      "text/plain": [
       "      Value Substance                                 Basis of treatment  \\\n",
       "0  13500.00       All  Accommodation status/Living with parents or ot...   \n",
       "1      0.83       All  Accommodation status/Living with parents or ot...   \n",
       "2   1292.00       All             Accommodation status/YP living in care   \n",
       "3      0.08       All             Accommodation status/YP living in care   \n",
       "4    654.00       All          Accommodation status/YP supported housing   \n",
       "\n",
       "  Measure Type    Unit  \n",
       "0            n  People  \n",
       "1            %  People  \n",
       "2            n  People  \n",
       "3            %  People  \n",
       "4            n  People  "
      ]
     },
     "execution_count": 14,
     "metadata": {},
     "output_type": "execute_result"
    }
   ],
   "source": [
    "new_table.head()"
   ]
  },
  {
   "cell_type": "code",
   "execution_count": 15,
   "metadata": {},
   "outputs": [
    {
     "name": "stderr",
     "output_type": "stream",
     "text": [
      "C:\\ProgramData\\Anaconda3\\lib\\site-packages\\ipykernel_launcher.py:1: SettingWithCopyWarning: \n",
      "A value is trying to be set on a copy of a slice from a DataFrame.\n",
      "Try using .loc[row_indexer,col_indexer] = value instead\n",
      "\n",
      "See the caveats in the documentation: http://pandas.pydata.org/pandas-docs/stable/indexing.html#indexing-view-versus-copy\n",
      "  \"\"\"Entry point for launching an IPython kernel.\n"
     ]
    }
   ],
   "source": [
    "new_table['Clients in treatment'] = 'All young clients'"
   ]
  },
  {
   "cell_type": "code",
   "execution_count": 16,
   "metadata": {
    "scrolled": true
   },
   "outputs": [
    {
     "data": {
      "text/html": [
       "<div>\n",
       "<style scoped>\n",
       "    .dataframe tbody tr th:only-of-type {\n",
       "        vertical-align: middle;\n",
       "    }\n",
       "\n",
       "    .dataframe tbody tr th {\n",
       "        vertical-align: top;\n",
       "    }\n",
       "\n",
       "    .dataframe thead th {\n",
       "        text-align: right;\n",
       "    }\n",
       "</style>\n",
       "<table border=\"1\" class=\"dataframe\">\n",
       "  <thead>\n",
       "    <tr style=\"text-align: right;\">\n",
       "      <th></th>\n",
       "      <th>Value</th>\n",
       "      <th>Substance</th>\n",
       "      <th>Basis of treatment</th>\n",
       "      <th>Measure Type</th>\n",
       "      <th>Unit</th>\n",
       "      <th>Clients in treatment</th>\n",
       "    </tr>\n",
       "  </thead>\n",
       "  <tbody>\n",
       "    <tr>\n",
       "      <th>0</th>\n",
       "      <td>13500.00</td>\n",
       "      <td>All</td>\n",
       "      <td>Accommodation status/Living with parents or ot...</td>\n",
       "      <td>n</td>\n",
       "      <td>People</td>\n",
       "      <td>All young clients</td>\n",
       "    </tr>\n",
       "    <tr>\n",
       "      <th>1</th>\n",
       "      <td>0.83</td>\n",
       "      <td>All</td>\n",
       "      <td>Accommodation status/Living with parents or ot...</td>\n",
       "      <td>%</td>\n",
       "      <td>People</td>\n",
       "      <td>All young clients</td>\n",
       "    </tr>\n",
       "    <tr>\n",
       "      <th>2</th>\n",
       "      <td>1292.00</td>\n",
       "      <td>All</td>\n",
       "      <td>Accommodation status/YP living in care</td>\n",
       "      <td>n</td>\n",
       "      <td>People</td>\n",
       "      <td>All young clients</td>\n",
       "    </tr>\n",
       "    <tr>\n",
       "      <th>3</th>\n",
       "      <td>0.08</td>\n",
       "      <td>All</td>\n",
       "      <td>Accommodation status/YP living in care</td>\n",
       "      <td>%</td>\n",
       "      <td>People</td>\n",
       "      <td>All young clients</td>\n",
       "    </tr>\n",
       "    <tr>\n",
       "      <th>4</th>\n",
       "      <td>654.00</td>\n",
       "      <td>All</td>\n",
       "      <td>Accommodation status/YP supported housing</td>\n",
       "      <td>n</td>\n",
       "      <td>People</td>\n",
       "      <td>All young clients</td>\n",
       "    </tr>\n",
       "  </tbody>\n",
       "</table>\n",
       "</div>"
      ],
      "text/plain": [
       "      Value Substance                                 Basis of treatment  \\\n",
       "0  13500.00       All  Accommodation status/Living with parents or ot...   \n",
       "1      0.83       All  Accommodation status/Living with parents or ot...   \n",
       "2   1292.00       All             Accommodation status/YP living in care   \n",
       "3      0.08       All             Accommodation status/YP living in care   \n",
       "4    654.00       All          Accommodation status/YP supported housing   \n",
       "\n",
       "  Measure Type    Unit Clients in treatment  \n",
       "0            n  People    All young clients  \n",
       "1            %  People    All young clients  \n",
       "2            n  People    All young clients  \n",
       "3            %  People    All young clients  \n",
       "4            n  People    All young clients  "
      ]
     },
     "execution_count": 16,
     "metadata": {},
     "output_type": "execute_result"
    }
   ],
   "source": [
    "new_table.head()"
   ]
  },
  {
   "cell_type": "code",
   "execution_count": 17,
   "metadata": {},
   "outputs": [
    {
     "name": "stderr",
     "output_type": "stream",
     "text": [
      "C:\\ProgramData\\Anaconda3\\lib\\site-packages\\ipykernel_launcher.py:2: SettingWithCopyWarning: \n",
      "A value is trying to be set on a copy of a slice from a DataFrame.\n",
      "Try using .loc[row_indexer,col_indexer] = value instead\n",
      "\n",
      "See the caveats in the documentation: http://pandas.pydata.org/pandas-docs/stable/indexing.html#indexing-view-versus-copy\n",
      "  \n"
     ]
    }
   ],
   "source": [
    "new_table['Measure Type'] = new_table['Measure Type'].map(\n",
    "    lambda x: {\n",
    "        'n' : 'Count', \n",
    "        '%' : 'Percentage',\n",
    "        }.get(x, x))"
   ]
  },
  {
   "cell_type": "code",
   "execution_count": 18,
   "metadata": {},
   "outputs": [
    {
     "data": {
      "text/html": [
       "<div>\n",
       "<style scoped>\n",
       "    .dataframe tbody tr th:only-of-type {\n",
       "        vertical-align: middle;\n",
       "    }\n",
       "\n",
       "    .dataframe tbody tr th {\n",
       "        vertical-align: top;\n",
       "    }\n",
       "\n",
       "    .dataframe thead th {\n",
       "        text-align: right;\n",
       "    }\n",
       "</style>\n",
       "<table border=\"1\" class=\"dataframe\">\n",
       "  <thead>\n",
       "    <tr style=\"text-align: right;\">\n",
       "      <th></th>\n",
       "      <th>Value</th>\n",
       "      <th>Substance</th>\n",
       "      <th>Basis of treatment</th>\n",
       "      <th>Measure Type</th>\n",
       "      <th>Unit</th>\n",
       "      <th>Clients in treatment</th>\n",
       "    </tr>\n",
       "  </thead>\n",
       "  <tbody>\n",
       "    <tr>\n",
       "      <th>12</th>\n",
       "      <td>44.0</td>\n",
       "      <td>All</td>\n",
       "      <td>Accommodation status/YP living in secure care</td>\n",
       "      <td>Count</td>\n",
       "      <td>People</td>\n",
       "      <td>All young clients</td>\n",
       "    </tr>\n",
       "    <tr>\n",
       "      <th>14</th>\n",
       "      <td>16169.0</td>\n",
       "      <td>All</td>\n",
       "      <td>Accommodation status/All</td>\n",
       "      <td>Count</td>\n",
       "      <td>People</td>\n",
       "      <td>All young clients</td>\n",
       "    </tr>\n",
       "    <tr>\n",
       "      <th>15</th>\n",
       "      <td>1.0</td>\n",
       "      <td>All</td>\n",
       "      <td>Accommodation status/All</td>\n",
       "      <td>Percentage</td>\n",
       "      <td>People</td>\n",
       "      <td>All young clients</td>\n",
       "    </tr>\n",
       "    <tr>\n",
       "      <th>16</th>\n",
       "      <td>267.0</td>\n",
       "      <td>All</td>\n",
       "      <td>Accommodation status/Missing or inconsistent data</td>\n",
       "      <td>Count</td>\n",
       "      <td>People</td>\n",
       "      <td>All young clients</td>\n",
       "    </tr>\n",
       "    <tr>\n",
       "      <th>17</th>\n",
       "      <td>16436.0</td>\n",
       "      <td>All</td>\n",
       "      <td>Accommodation status/All</td>\n",
       "      <td>Count</td>\n",
       "      <td>People</td>\n",
       "      <td>All young clients</td>\n",
       "    </tr>\n",
       "  </tbody>\n",
       "</table>\n",
       "</div>"
      ],
      "text/plain": [
       "      Value Substance                                 Basis of treatment  \\\n",
       "12     44.0       All      Accommodation status/YP living in secure care   \n",
       "14  16169.0       All                           Accommodation status/All   \n",
       "15      1.0       All                           Accommodation status/All   \n",
       "16    267.0       All  Accommodation status/Missing or inconsistent data   \n",
       "17  16436.0       All                           Accommodation status/All   \n",
       "\n",
       "   Measure Type    Unit Clients in treatment  \n",
       "12        Count  People    All young clients  \n",
       "14        Count  People    All young clients  \n",
       "15   Percentage  People    All young clients  \n",
       "16        Count  People    All young clients  \n",
       "17        Count  People    All young clients  "
      ]
     },
     "execution_count": 18,
     "metadata": {},
     "output_type": "execute_result"
    }
   ],
   "source": [
    "new_table.tail()"
   ]
  },
  {
   "cell_type": "code",
   "execution_count": 19,
   "metadata": {},
   "outputs": [
    {
     "data": {
      "text/plain": [
       "Value                   float64\n",
       "Substance                object\n",
       "Basis of treatment       object\n",
       "Measure Type             object\n",
       "Unit                     object\n",
       "Clients in treatment     object\n",
       "dtype: object"
      ]
     },
     "execution_count": 19,
     "metadata": {},
     "output_type": "execute_result"
    }
   ],
   "source": [
    "new_table.dtypes"
   ]
  },
  {
   "cell_type": "code",
   "execution_count": 20,
   "metadata": {},
   "outputs": [
    {
     "name": "stderr",
     "output_type": "stream",
     "text": [
      "C:\\ProgramData\\Anaconda3\\lib\\site-packages\\ipykernel_launcher.py:1: SettingWithCopyWarning: \n",
      "A value is trying to be set on a copy of a slice from a DataFrame.\n",
      "Try using .loc[row_indexer,col_indexer] = value instead\n",
      "\n",
      "See the caveats in the documentation: http://pandas.pydata.org/pandas-docs/stable/indexing.html#indexing-view-versus-copy\n",
      "  \"\"\"Entry point for launching an IPython kernel.\n"
     ]
    }
   ],
   "source": [
    "new_table['Value'] = new_table['Value'].astype(str)"
   ]
  },
  {
   "cell_type": "code",
   "execution_count": 21,
   "metadata": {},
   "outputs": [
    {
     "data": {
      "text/html": [
       "<div>\n",
       "<style scoped>\n",
       "    .dataframe tbody tr th:only-of-type {\n",
       "        vertical-align: middle;\n",
       "    }\n",
       "\n",
       "    .dataframe tbody tr th {\n",
       "        vertical-align: top;\n",
       "    }\n",
       "\n",
       "    .dataframe thead th {\n",
       "        text-align: right;\n",
       "    }\n",
       "</style>\n",
       "<table border=\"1\" class=\"dataframe\">\n",
       "  <thead>\n",
       "    <tr style=\"text-align: right;\">\n",
       "      <th></th>\n",
       "      <th>Value</th>\n",
       "      <th>Substance</th>\n",
       "      <th>Basis of treatment</th>\n",
       "      <th>Measure Type</th>\n",
       "      <th>Unit</th>\n",
       "      <th>Clients in treatment</th>\n",
       "    </tr>\n",
       "  </thead>\n",
       "  <tbody>\n",
       "    <tr>\n",
       "      <th>0</th>\n",
       "      <td>13500.0</td>\n",
       "      <td>All</td>\n",
       "      <td>Accommodation status/Living with parents or ot...</td>\n",
       "      <td>Count</td>\n",
       "      <td>People</td>\n",
       "      <td>All young clients</td>\n",
       "    </tr>\n",
       "    <tr>\n",
       "      <th>1</th>\n",
       "      <td>0.83</td>\n",
       "      <td>All</td>\n",
       "      <td>Accommodation status/Living with parents or ot...</td>\n",
       "      <td>Percentage</td>\n",
       "      <td>People</td>\n",
       "      <td>All young clients</td>\n",
       "    </tr>\n",
       "    <tr>\n",
       "      <th>2</th>\n",
       "      <td>1292.0</td>\n",
       "      <td>All</td>\n",
       "      <td>Accommodation status/YP living in care</td>\n",
       "      <td>Count</td>\n",
       "      <td>People</td>\n",
       "      <td>All young clients</td>\n",
       "    </tr>\n",
       "  </tbody>\n",
       "</table>\n",
       "</div>"
      ],
      "text/plain": [
       "     Value Substance                                 Basis of treatment  \\\n",
       "0  13500.0       All  Accommodation status/Living with parents or ot...   \n",
       "1     0.83       All  Accommodation status/Living with parents or ot...   \n",
       "2   1292.0       All             Accommodation status/YP living in care   \n",
       "\n",
       "  Measure Type    Unit Clients in treatment  \n",
       "0        Count  People    All young clients  \n",
       "1   Percentage  People    All young clients  \n",
       "2        Count  People    All young clients  "
      ]
     },
     "execution_count": 21,
     "metadata": {},
     "output_type": "execute_result"
    }
   ],
   "source": [
    "new_table.head(3)"
   ]
  },
  {
   "cell_type": "code",
   "execution_count": 22,
   "metadata": {},
   "outputs": [
    {
     "name": "stderr",
     "output_type": "stream",
     "text": [
      "C:\\ProgramData\\Anaconda3\\lib\\site-packages\\ipykernel_launcher.py:1: SettingWithCopyWarning: \n",
      "A value is trying to be set on a copy of a slice from a DataFrame.\n",
      "Try using .loc[row_indexer,col_indexer] = value instead\n",
      "\n",
      "See the caveats in the documentation: http://pandas.pydata.org/pandas-docs/stable/indexing.html#indexing-view-versus-copy\n",
      "  \"\"\"Entry point for launching an IPython kernel.\n"
     ]
    }
   ],
   "source": [
    "new_table['Period'] = '2016-17'\n",
    "new_table = new_table[['Period','Basis of treatment','Substance','Clients in treatment','Measure Type','Value','Unit']]"
   ]
  },
  {
   "cell_type": "code",
   "execution_count": 23,
   "metadata": {
    "collapsed": true
   },
   "outputs": [],
   "source": [
    "if is_interactive():\n",
    "    SubstancetinationFolder = Path('out')\n",
    "    SubstancetinationFolder.mkdir(exist_ok=True, parents=True)\n",
    "    new_table.to_csv(SubstancetinationFolder / ('table2.6.1.csv'), index = False)"
   ]
  },
  {
   "cell_type": "code",
   "execution_count": 24,
   "metadata": {},
   "outputs": [
    {
     "data": {
      "text/html": [
       "<div>\n",
       "<style scoped>\n",
       "    .dataframe tbody tr th:only-of-type {\n",
       "        vertical-align: middle;\n",
       "    }\n",
       "\n",
       "    .dataframe tbody tr th {\n",
       "        vertical-align: top;\n",
       "    }\n",
       "\n",
       "    .dataframe thead th {\n",
       "        text-align: right;\n",
       "    }\n",
       "</style>\n",
       "<table border=\"1\" class=\"dataframe\">\n",
       "  <thead>\n",
       "    <tr style=\"text-align: right;\">\n",
       "      <th></th>\n",
       "      <th>Period</th>\n",
       "      <th>Basis of treatment</th>\n",
       "      <th>Substance</th>\n",
       "      <th>Clients in treatment</th>\n",
       "      <th>Measure Type</th>\n",
       "      <th>Value</th>\n",
       "      <th>Unit</th>\n",
       "    </tr>\n",
       "  </thead>\n",
       "  <tbody>\n",
       "    <tr>\n",
       "      <th>0</th>\n",
       "      <td>2016-17</td>\n",
       "      <td>Accommodation status/Living with parents or ot...</td>\n",
       "      <td>All</td>\n",
       "      <td>All young clients</td>\n",
       "      <td>Count</td>\n",
       "      <td>13500.0</td>\n",
       "      <td>People</td>\n",
       "    </tr>\n",
       "    <tr>\n",
       "      <th>1</th>\n",
       "      <td>2016-17</td>\n",
       "      <td>Accommodation status/Living with parents or ot...</td>\n",
       "      <td>All</td>\n",
       "      <td>All young clients</td>\n",
       "      <td>Percentage</td>\n",
       "      <td>0.83</td>\n",
       "      <td>People</td>\n",
       "    </tr>\n",
       "    <tr>\n",
       "      <th>2</th>\n",
       "      <td>2016-17</td>\n",
       "      <td>Accommodation status/YP living in care</td>\n",
       "      <td>All</td>\n",
       "      <td>All young clients</td>\n",
       "      <td>Count</td>\n",
       "      <td>1292.0</td>\n",
       "      <td>People</td>\n",
       "    </tr>\n",
       "    <tr>\n",
       "      <th>3</th>\n",
       "      <td>2016-17</td>\n",
       "      <td>Accommodation status/YP living in care</td>\n",
       "      <td>All</td>\n",
       "      <td>All young clients</td>\n",
       "      <td>Percentage</td>\n",
       "      <td>0.08</td>\n",
       "      <td>People</td>\n",
       "    </tr>\n",
       "    <tr>\n",
       "      <th>4</th>\n",
       "      <td>2016-17</td>\n",
       "      <td>Accommodation status/YP supported housing</td>\n",
       "      <td>All</td>\n",
       "      <td>All young clients</td>\n",
       "      <td>Count</td>\n",
       "      <td>654.0</td>\n",
       "      <td>People</td>\n",
       "    </tr>\n",
       "  </tbody>\n",
       "</table>\n",
       "</div>"
      ],
      "text/plain": [
       "    Period                                 Basis of treatment Substance  \\\n",
       "0  2016-17  Accommodation status/Living with parents or ot...       All   \n",
       "1  2016-17  Accommodation status/Living with parents or ot...       All   \n",
       "2  2016-17             Accommodation status/YP living in care       All   \n",
       "3  2016-17             Accommodation status/YP living in care       All   \n",
       "4  2016-17          Accommodation status/YP supported housing       All   \n",
       "\n",
       "  Clients in treatment Measure Type    Value    Unit  \n",
       "0    All young clients        Count  13500.0  People  \n",
       "1    All young clients   Percentage     0.83  People  \n",
       "2    All young clients        Count   1292.0  People  \n",
       "3    All young clients   Percentage     0.08  People  \n",
       "4    All young clients        Count    654.0  People  "
      ]
     },
     "execution_count": 24,
     "metadata": {},
     "output_type": "execute_result"
    }
   ],
   "source": [
    "new_table.head()"
   ]
  },
  {
   "cell_type": "code",
   "execution_count": null,
   "metadata": {
    "collapsed": true
   },
   "outputs": [],
   "source": []
  }
 ],
 "metadata": {
  "kernelspec": {
   "display_name": "Python 3",
   "language": "python",
   "name": "python3"
  },
  "language_info": {
   "codemirror_mode": {
    "name": "ipython",
    "version": 3
   },
   "file_extension": ".py",
   "mimetype": "text/x-python",
   "name": "python",
   "nbconvert_exporter": "python",
   "pygments_lexer": "ipython3",
   "version": "3.6.3"
  }
 },
 "nbformat": 4,
 "nbformat_minor": 2
}
